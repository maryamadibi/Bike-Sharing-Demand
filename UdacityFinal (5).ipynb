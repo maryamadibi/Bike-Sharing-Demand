{
 "cells": [
  {
   "cell_type": "markdown",
   "metadata": {
    "id": "kojHpbNYsvqc"
   },
   "source": [
    "# Predict Bike Sharing Demand with AutoGluon Template"
   ]
  },
  {
   "cell_type": "markdown",
   "metadata": {
    "editable": true,
    "id": "WISGJDDgsvqe",
    "slideshow": {
     "slide_type": ""
    },
    "tags": []
   },
   "source": [
    "## Project: Predict Bike Sharing Demand with AutoGluon\n",
    "This notebook is a template with each step that you need to complete for the project.\n",
    "\n",
    "Please fill in your code where there are explicit `?` markers in the notebook. You are welcome to add more cells and code as you see fit.\n",
    "\n",
    "Once you have completed all the code implementations, please export your notebook as a HTML file so the reviews can view your code. Make sure you have all outputs correctly outputted.\n",
    "\n",
    "`File-> Export Notebook As... -> Export Notebook as HTML`\n",
    "\n",
    "There is a writeup to complete as well after all code implememtation is done. Please answer all questions and attach the necessary tables and charts. You can complete the writeup in either markdown or PDF.\n",
    "\n",
    "Completing the code template and writeup template will cover all of the rubric points for this project.\n",
    "\n",
    "The rubric contains \"Stand Out Suggestions\" for enhancing the project beyond the minimum requirements. The stand out suggestions are optional. If you decide to pursue the \"stand out suggestions\", you can include the code in this notebook and also discuss the results in the writeup file."
   ]
  },
  {
   "cell_type": "markdown",
   "metadata": {
    "id": "ApfFB3JDsvqg"
   },
   "source": [
    "## Step 1: Create an account with Kaggle"
   ]
  },
  {
   "cell_type": "markdown",
   "metadata": {
    "id": "bp042qN3svqi"
   },
   "source": [
    "## Step 2: Download the Kaggle dataset using the kaggle python library"
   ]
  },
  {
   "cell_type": "markdown",
   "metadata": {
    "id": "vY7U1egVsvqi"
   },
   "source": [
    "1. Notebook should be using a `ml.t3.medium` instance (2 vCPU + 4 GiB)\n",
    "2. Notebook should be using kernal: `Python 3 (MXNet 1.8 Python 3.7 CPU Optimized)`"
   ]
  },
  {
   "cell_type": "markdown",
   "metadata": {
    "id": "GdYQcaNosvqj"
   },
   "source": [
    "### Install packages"
   ]
  },
  {
   "cell_type": "code",
   "execution_count": 4,
   "metadata": {
    "id": "Bmd2NVZlvTln"
   },
   "outputs": [],
   "source": [
    "import warnings\n",
    "warnings.filterwarnings('ignore')"
   ]
  },
  {
   "cell_type": "code",
   "execution_count": 6,
   "metadata": {
    "colab": {
     "base_uri": "https://localhost:8080/"
    },
    "id": "h0qN7tcQsvqk",
    "outputId": "593e5998-d957-4208-8ac1-6d038a30e689"
   },
   "outputs": [
    {
     "name": "stdout",
     "output_type": "stream",
     "text": [
      "Requirement already satisfied: pip in c:\\users\\tmfk\\anaconda3\\lib\\site-packages (25.1.1)\n",
      "Requirement already satisfied: setuptools in c:\\users\\tmfk\\anaconda3\\lib\\site-packages (80.9.0)\n",
      "Requirement already satisfied: wheel in c:\\users\\tmfk\\anaconda3\\lib\\site-packages (0.45.1)\n",
      "Requirement already satisfied: autogluon in c:\\users\\tmfk\\anaconda3\\lib\\site-packages (1.3.1)\n",
      "Requirement already satisfied: autogluon.core==1.3.1 in c:\\users\\tmfk\\anaconda3\\lib\\site-packages (from autogluon.core[all]==1.3.1->autogluon) (1.3.1)\n",
      "Requirement already satisfied: autogluon.features==1.3.1 in c:\\users\\tmfk\\anaconda3\\lib\\site-packages (from autogluon) (1.3.1)\n",
      "Requirement already satisfied: autogluon.tabular==1.3.1 in c:\\users\\tmfk\\anaconda3\\lib\\site-packages (from autogluon.tabular[all]==1.3.1->autogluon) (1.3.1)\n",
      "Requirement already satisfied: autogluon.multimodal==1.3.1 in c:\\users\\tmfk\\anaconda3\\lib\\site-packages (from autogluon) (1.3.1)\n",
      "Requirement already satisfied: autogluon.timeseries==1.3.1 in c:\\users\\tmfk\\anaconda3\\lib\\site-packages (from autogluon.timeseries[all]==1.3.1->autogluon) (1.3.1)\n",
      "Requirement already satisfied: numpy<2.3.0,>=1.25.0 in c:\\users\\tmfk\\anaconda3\\lib\\site-packages (from autogluon.core==1.3.1->autogluon.core[all]==1.3.1->autogluon) (1.26.4)\n",
      "Requirement already satisfied: scipy<1.16,>=1.5.4 in c:\\users\\tmfk\\anaconda3\\lib\\site-packages (from autogluon.core==1.3.1->autogluon.core[all]==1.3.1->autogluon) (1.13.1)\n",
      "Requirement already satisfied: scikit-learn<1.7.0,>=1.4.0 in c:\\users\\tmfk\\anaconda3\\lib\\site-packages (from autogluon.core==1.3.1->autogluon.core[all]==1.3.1->autogluon) (1.5.1)\n",
      "Requirement already satisfied: networkx<4,>=3.0 in c:\\users\\tmfk\\anaconda3\\lib\\site-packages (from autogluon.core==1.3.1->autogluon.core[all]==1.3.1->autogluon) (3.3)\n",
      "Requirement already satisfied: pandas<2.3.0,>=2.0.0 in c:\\users\\tmfk\\anaconda3\\lib\\site-packages (from autogluon.core==1.3.1->autogluon.core[all]==1.3.1->autogluon) (2.2.2)\n",
      "Requirement already satisfied: tqdm<5,>=4.38 in c:\\users\\tmfk\\anaconda3\\lib\\site-packages (from autogluon.core==1.3.1->autogluon.core[all]==1.3.1->autogluon) (4.66.5)\n",
      "Requirement already satisfied: requests in c:\\users\\tmfk\\anaconda3\\lib\\site-packages (from autogluon.core==1.3.1->autogluon.core[all]==1.3.1->autogluon) (2.32.3)\n",
      "Requirement already satisfied: matplotlib<3.11,>=3.7.0 in c:\\users\\tmfk\\anaconda3\\lib\\site-packages (from autogluon.core==1.3.1->autogluon.core[all]==1.3.1->autogluon) (3.9.2)\n",
      "Requirement already satisfied: boto3<2,>=1.10 in c:\\users\\tmfk\\anaconda3\\lib\\site-packages (from autogluon.core==1.3.1->autogluon.core[all]==1.3.1->autogluon) (1.38.28)\n",
      "Requirement already satisfied: autogluon.common==1.3.1 in c:\\users\\tmfk\\anaconda3\\lib\\site-packages (from autogluon.core==1.3.1->autogluon.core[all]==1.3.1->autogluon) (1.3.1)\n",
      "Requirement already satisfied: psutil<7.1.0,>=5.7.3 in c:\\users\\tmfk\\anaconda3\\lib\\site-packages (from autogluon.common==1.3.1->autogluon.core==1.3.1->autogluon.core[all]==1.3.1->autogluon) (5.9.0)\n",
      "Requirement already satisfied: ray<2.45,>=2.10.0 in c:\\users\\tmfk\\anaconda3\\lib\\site-packages (from ray[default]<2.45,>=2.10.0; extra == \"all\"->autogluon.core[all]==1.3.1->autogluon) (2.44.1)\n",
      "Requirement already satisfied: hyperopt<0.2.8,>=0.2.7 in c:\\users\\tmfk\\anaconda3\\lib\\site-packages (from autogluon.core[all]==1.3.1->autogluon) (0.2.7)\n",
      "Requirement already satisfied: pyarrow>=15.0.0 in c:\\users\\tmfk\\anaconda3\\lib\\site-packages (from autogluon.core[all]==1.3.1->autogluon) (16.1.0)\n",
      "Requirement already satisfied: Pillow<12,>=10.0.1 in c:\\users\\tmfk\\anaconda3\\lib\\site-packages (from autogluon.multimodal==1.3.1->autogluon) (10.4.0)\n",
      "Requirement already satisfied: torch<2.7,>=2.2 in c:\\users\\tmfk\\anaconda3\\lib\\site-packages (from autogluon.multimodal==1.3.1->autogluon) (2.6.0)\n",
      "Requirement already satisfied: lightning<2.7,>=2.2 in c:\\users\\tmfk\\anaconda3\\lib\\site-packages (from autogluon.multimodal==1.3.1->autogluon) (2.5.1.post0)\n",
      "Requirement already satisfied: transformers<4.50,>=4.38.0 in c:\\users\\tmfk\\anaconda3\\lib\\site-packages (from transformers[sentencepiece]<4.50,>=4.38.0->autogluon.multimodal==1.3.1->autogluon) (4.49.0)\n",
      "Requirement already satisfied: accelerate<2.0,>=0.34.0 in c:\\users\\tmfk\\anaconda3\\lib\\site-packages (from autogluon.multimodal==1.3.1->autogluon) (1.7.0)\n",
      "Requirement already satisfied: jsonschema<4.24,>=4.18 in c:\\users\\tmfk\\anaconda3\\lib\\site-packages (from autogluon.multimodal==1.3.1->autogluon) (4.23.0)\n",
      "Requirement already satisfied: seqeval<1.3.0,>=1.2.2 in c:\\users\\tmfk\\anaconda3\\lib\\site-packages (from autogluon.multimodal==1.3.1->autogluon) (1.2.2)\n",
      "Requirement already satisfied: evaluate<0.5.0,>=0.4.0 in c:\\users\\tmfk\\anaconda3\\lib\\site-packages (from autogluon.multimodal==1.3.1->autogluon) (0.4.3)\n",
      "Requirement already satisfied: timm<1.0.7,>=0.9.5 in c:\\users\\tmfk\\anaconda3\\lib\\site-packages (from autogluon.multimodal==1.3.1->autogluon) (1.0.3)\n",
      "Requirement already satisfied: torchvision<0.22.0,>=0.16.0 in c:\\users\\tmfk\\anaconda3\\lib\\site-packages (from autogluon.multimodal==1.3.1->autogluon) (0.21.0)\n",
      "Requirement already satisfied: scikit-image<0.26.0,>=0.19.1 in c:\\users\\tmfk\\anaconda3\\lib\\site-packages (from autogluon.multimodal==1.3.1->autogluon) (0.24.0)\n",
      "Requirement already satisfied: text-unidecode<1.4,>=1.3 in c:\\users\\tmfk\\anaconda3\\lib\\site-packages (from autogluon.multimodal==1.3.1->autogluon) (1.3)\n",
      "Requirement already satisfied: torchmetrics<1.8,>=1.2.0 in c:\\users\\tmfk\\anaconda3\\lib\\site-packages (from autogluon.multimodal==1.3.1->autogluon) (1.7.2)\n",
      "Requirement already satisfied: omegaconf<2.4.0,>=2.1.1 in c:\\users\\tmfk\\anaconda3\\lib\\site-packages (from autogluon.multimodal==1.3.1->autogluon) (2.3.0)\n",
      "Requirement already satisfied: pytorch-metric-learning<2.9,>=1.3.0 in c:\\users\\tmfk\\anaconda3\\lib\\site-packages (from autogluon.multimodal==1.3.1->autogluon) (2.8.1)\n",
      "Requirement already satisfied: nlpaug<1.2.0,>=1.1.10 in c:\\users\\tmfk\\anaconda3\\lib\\site-packages (from autogluon.multimodal==1.3.1->autogluon) (1.1.11)\n",
      "Requirement already satisfied: nltk<3.9,>=3.4.5 in c:\\users\\tmfk\\anaconda3\\lib\\site-packages (from autogluon.multimodal==1.3.1->autogluon) (3.8.1)\n",
      "Requirement already satisfied: openmim<0.4.0,>=0.3.7 in c:\\users\\tmfk\\anaconda3\\lib\\site-packages (from autogluon.multimodal==1.3.1->autogluon) (0.3.9)\n",
      "Requirement already satisfied: defusedxml<0.7.2,>=0.7.1 in c:\\users\\tmfk\\anaconda3\\lib\\site-packages (from autogluon.multimodal==1.3.1->autogluon) (0.7.1)\n",
      "Requirement already satisfied: jinja2<3.2,>=3.0.3 in c:\\users\\tmfk\\anaconda3\\lib\\site-packages (from autogluon.multimodal==1.3.1->autogluon) (3.1.4)\n",
      "Requirement already satisfied: tensorboard<3,>=2.9 in c:\\users\\tmfk\\anaconda3\\lib\\site-packages (from autogluon.multimodal==1.3.1->autogluon) (2.19.0)\n",
      "Requirement already satisfied: pytesseract<0.4,>=0.3.9 in c:\\users\\tmfk\\anaconda3\\lib\\site-packages (from autogluon.multimodal==1.3.1->autogluon) (0.3.13)\n",
      "Requirement already satisfied: nvidia-ml-py3<8.0,>=7.352.0 in c:\\users\\tmfk\\anaconda3\\lib\\site-packages (from autogluon.multimodal==1.3.1->autogluon) (7.352.0)\n",
      "Requirement already satisfied: pdf2image<1.19,>=1.17.0 in c:\\users\\tmfk\\anaconda3\\lib\\site-packages (from autogluon.multimodal==1.3.1->autogluon) (1.17.0)\n",
      "Requirement already satisfied: catboost<1.3,>=1.2 in c:\\users\\tmfk\\anaconda3\\lib\\site-packages (from autogluon.tabular[all]==1.3.1->autogluon) (1.2.8)\n",
      "Requirement already satisfied: einops<0.9,>=0.7 in c:\\users\\tmfk\\anaconda3\\lib\\site-packages (from autogluon.tabular[all]==1.3.1->autogluon) (0.8.1)\n",
      "Requirement already satisfied: xgboost<3.1,>=2.0 in c:\\users\\tmfk\\anaconda3\\lib\\site-packages (from autogluon.tabular[all]==1.3.1->autogluon) (3.0.2)\n",
      "Requirement already satisfied: fastai<2.9,>=2.3.1 in c:\\users\\tmfk\\anaconda3\\lib\\site-packages (from autogluon.tabular[all]==1.3.1->autogluon) (2.8.2)\n",
      "Requirement already satisfied: huggingface-hub[torch] in c:\\users\\tmfk\\anaconda3\\lib\\site-packages (from autogluon.tabular[all]==1.3.1->autogluon) (0.32.3)\n",
      "Requirement already satisfied: lightgbm<4.7,>=4.0 in c:\\users\\tmfk\\anaconda3\\lib\\site-packages (from autogluon.tabular[all]==1.3.1->autogluon) (4.6.0)\n",
      "Requirement already satisfied: spacy<3.9 in c:\\users\\tmfk\\anaconda3\\lib\\site-packages (from autogluon.tabular[all]==1.3.1->autogluon) (3.8.7)\n",
      "Requirement already satisfied: joblib<2,>=1.1 in c:\\users\\tmfk\\anaconda3\\lib\\site-packages (from autogluon.timeseries==1.3.1->autogluon.timeseries[all]==1.3.1->autogluon) (1.4.2)\n",
      "Requirement already satisfied: pytorch-lightning in c:\\users\\tmfk\\anaconda3\\lib\\site-packages (from autogluon.timeseries==1.3.1->autogluon.timeseries[all]==1.3.1->autogluon) (2.5.1.post0)\n",
      "Requirement already satisfied: gluonts<0.17,>=0.15.0 in c:\\users\\tmfk\\anaconda3\\lib\\site-packages (from autogluon.timeseries==1.3.1->autogluon.timeseries[all]==1.3.1->autogluon) (0.16.1)\n",
      "Requirement already satisfied: statsforecast<2.0.2,>=1.7.0 in c:\\users\\tmfk\\anaconda3\\lib\\site-packages (from autogluon.timeseries==1.3.1->autogluon.timeseries[all]==1.3.1->autogluon) (2.0.1)\n",
      "Requirement already satisfied: mlforecast<0.14,>0.13 in c:\\users\\tmfk\\anaconda3\\lib\\site-packages (from autogluon.timeseries==1.3.1->autogluon.timeseries[all]==1.3.1->autogluon) (0.13.6)\n",
      "Requirement already satisfied: utilsforecast<0.2.11,>=0.2.3 in c:\\users\\tmfk\\anaconda3\\lib\\site-packages (from autogluon.timeseries==1.3.1->autogluon.timeseries[all]==1.3.1->autogluon) (0.2.10)\n",
      "Requirement already satisfied: coreforecast<0.0.16,>=0.0.12 in c:\\users\\tmfk\\anaconda3\\lib\\site-packages (from autogluon.timeseries==1.3.1->autogluon.timeseries[all]==1.3.1->autogluon) (0.0.15)\n",
      "Requirement already satisfied: fugue>=0.9.0 in c:\\users\\tmfk\\anaconda3\\lib\\site-packages (from autogluon.timeseries==1.3.1->autogluon.timeseries[all]==1.3.1->autogluon) (0.9.1)\n",
      "Requirement already satisfied: orjson~=3.9 in c:\\users\\tmfk\\anaconda3\\lib\\site-packages (from autogluon.timeseries==1.3.1->autogluon.timeseries[all]==1.3.1->autogluon) (3.10.18)\n",
      "Requirement already satisfied: packaging>=20.0 in c:\\users\\tmfk\\anaconda3\\lib\\site-packages (from accelerate<2.0,>=0.34.0->autogluon.multimodal==1.3.1->autogluon) (24.1)\n",
      "Requirement already satisfied: pyyaml in c:\\users\\tmfk\\anaconda3\\lib\\site-packages (from accelerate<2.0,>=0.34.0->autogluon.multimodal==1.3.1->autogluon) (6.0.1)\n",
      "Requirement already satisfied: safetensors>=0.4.3 in c:\\users\\tmfk\\anaconda3\\lib\\site-packages (from accelerate<2.0,>=0.34.0->autogluon.multimodal==1.3.1->autogluon) (0.5.3)\n",
      "Requirement already satisfied: botocore<1.39.0,>=1.38.28 in c:\\users\\tmfk\\anaconda3\\lib\\site-packages (from boto3<2,>=1.10->autogluon.core==1.3.1->autogluon.core[all]==1.3.1->autogluon) (1.38.28)\n",
      "Requirement already satisfied: jmespath<2.0.0,>=0.7.1 in c:\\users\\tmfk\\anaconda3\\lib\\site-packages (from boto3<2,>=1.10->autogluon.core==1.3.1->autogluon.core[all]==1.3.1->autogluon) (1.0.1)\n",
      "Requirement already satisfied: s3transfer<0.14.0,>=0.13.0 in c:\\users\\tmfk\\anaconda3\\lib\\site-packages (from boto3<2,>=1.10->autogluon.core==1.3.1->autogluon.core[all]==1.3.1->autogluon) (0.13.0)\n",
      "Requirement already satisfied: python-dateutil<3.0.0,>=2.1 in c:\\users\\tmfk\\anaconda3\\lib\\site-packages (from botocore<1.39.0,>=1.38.28->boto3<2,>=1.10->autogluon.core==1.3.1->autogluon.core[all]==1.3.1->autogluon) (2.9.0.post0)\n",
      "Requirement already satisfied: urllib3!=2.2.0,<3,>=1.25.4 in c:\\users\\tmfk\\anaconda3\\lib\\site-packages (from botocore<1.39.0,>=1.38.28->boto3<2,>=1.10->autogluon.core==1.3.1->autogluon.core[all]==1.3.1->autogluon) (2.2.3)\n",
      "Requirement already satisfied: graphviz in c:\\users\\tmfk\\anaconda3\\lib\\site-packages (from catboost<1.3,>=1.2->autogluon.tabular[all]==1.3.1->autogluon) (0.20.3)\n",
      "Requirement already satisfied: plotly in c:\\users\\tmfk\\anaconda3\\lib\\site-packages (from catboost<1.3,>=1.2->autogluon.tabular[all]==1.3.1->autogluon) (5.24.1)\n",
      "Requirement already satisfied: six in c:\\users\\tmfk\\anaconda3\\lib\\site-packages (from catboost<1.3,>=1.2->autogluon.tabular[all]==1.3.1->autogluon) (1.16.0)\n",
      "Requirement already satisfied: datasets>=2.0.0 in c:\\users\\tmfk\\anaconda3\\lib\\site-packages (from evaluate<0.5.0,>=0.4.0->autogluon.multimodal==1.3.1->autogluon) (3.6.0)\n",
      "Requirement already satisfied: dill in c:\\users\\tmfk\\anaconda3\\lib\\site-packages (from evaluate<0.5.0,>=0.4.0->autogluon.multimodal==1.3.1->autogluon) (0.3.8)\n",
      "Requirement already satisfied: xxhash in c:\\users\\tmfk\\anaconda3\\lib\\site-packages (from evaluate<0.5.0,>=0.4.0->autogluon.multimodal==1.3.1->autogluon) (3.5.0)\n",
      "Requirement already satisfied: multiprocess in c:\\users\\tmfk\\anaconda3\\lib\\site-packages (from evaluate<0.5.0,>=0.4.0->autogluon.multimodal==1.3.1->autogluon) (0.70.16)\n",
      "Requirement already satisfied: fsspec>=2021.05.0 in c:\\users\\tmfk\\anaconda3\\lib\\site-packages (from fsspec[http]>=2021.05.0->evaluate<0.5.0,>=0.4.0->autogluon.multimodal==1.3.1->autogluon) (2024.6.1)\n",
      "Requirement already satisfied: pip in c:\\users\\tmfk\\anaconda3\\lib\\site-packages (from fastai<2.9,>=2.3.1->autogluon.tabular[all]==1.3.1->autogluon) (25.1.1)\n",
      "Requirement already satisfied: fastdownload<2,>=0.0.5 in c:\\users\\tmfk\\anaconda3\\lib\\site-packages (from fastai<2.9,>=2.3.1->autogluon.tabular[all]==1.3.1->autogluon) (0.0.7)\n",
      "Requirement already satisfied: fastcore<1.9,>=1.8.0 in c:\\users\\tmfk\\anaconda3\\lib\\site-packages (from fastai<2.9,>=2.3.1->autogluon.tabular[all]==1.3.1->autogluon) (1.8.2)\n",
      "Requirement already satisfied: fasttransform>=0.0.2 in c:\\users\\tmfk\\anaconda3\\lib\\site-packages (from fastai<2.9,>=2.3.1->autogluon.tabular[all]==1.3.1->autogluon) (0.0.2)\n",
      "Requirement already satisfied: fastprogress>=0.2.4 in c:\\users\\tmfk\\anaconda3\\lib\\site-packages (from fastai<2.9,>=2.3.1->autogluon.tabular[all]==1.3.1->autogluon) (1.0.3)\n",
      "Requirement already satisfied: plum-dispatch in c:\\users\\tmfk\\anaconda3\\lib\\site-packages (from fastai<2.9,>=2.3.1->autogluon.tabular[all]==1.3.1->autogluon) (2.5.7)\n",
      "Requirement already satisfied: cloudpickle in c:\\users\\tmfk\\anaconda3\\lib\\site-packages (from fastai<2.9,>=2.3.1->autogluon.tabular[all]==1.3.1->autogluon) (3.0.0)\n",
      "Requirement already satisfied: pydantic<3,>=1.7 in c:\\users\\tmfk\\anaconda3\\lib\\site-packages (from gluonts<0.17,>=0.15.0->autogluon.timeseries==1.3.1->autogluon.timeseries[all]==1.3.1->autogluon) (1.10.3)\n",
      "Requirement already satisfied: toolz~=0.10 in c:\\users\\tmfk\\anaconda3\\lib\\site-packages (from gluonts<0.17,>=0.15.0->autogluon.timeseries==1.3.1->autogluon.timeseries[all]==1.3.1->autogluon) (0.12.0)\n",
      "Requirement already satisfied: typing-extensions~=4.0 in c:\\users\\tmfk\\anaconda3\\lib\\site-packages (from gluonts<0.17,>=0.15.0->autogluon.timeseries==1.3.1->autogluon.timeseries[all]==1.3.1->autogluon) (4.14.0)\n",
      "Requirement already satisfied: future in c:\\users\\tmfk\\anaconda3\\lib\\site-packages (from hyperopt<0.2.8,>=0.2.7->autogluon.core[all]==1.3.1->autogluon) (1.0.0)\n",
      "Requirement already satisfied: py4j in c:\\users\\tmfk\\anaconda3\\lib\\site-packages (from hyperopt<0.2.8,>=0.2.7->autogluon.core[all]==1.3.1->autogluon) (0.10.9.9)\n",
      "Requirement already satisfied: MarkupSafe>=2.0 in c:\\users\\tmfk\\anaconda3\\lib\\site-packages (from jinja2<3.2,>=3.0.3->autogluon.multimodal==1.3.1->autogluon) (2.1.3)\n",
      "Requirement already satisfied: attrs>=22.2.0 in c:\\users\\tmfk\\anaconda3\\lib\\site-packages (from jsonschema<4.24,>=4.18->autogluon.multimodal==1.3.1->autogluon) (23.1.0)\n",
      "Requirement already satisfied: jsonschema-specifications>=2023.03.6 in c:\\users\\tmfk\\anaconda3\\lib\\site-packages (from jsonschema<4.24,>=4.18->autogluon.multimodal==1.3.1->autogluon) (2023.7.1)\n",
      "Requirement already satisfied: referencing>=0.28.4 in c:\\users\\tmfk\\anaconda3\\lib\\site-packages (from jsonschema<4.24,>=4.18->autogluon.multimodal==1.3.1->autogluon) (0.30.2)\n",
      "Requirement already satisfied: rpds-py>=0.7.1 in c:\\users\\tmfk\\anaconda3\\lib\\site-packages (from jsonschema<4.24,>=4.18->autogluon.multimodal==1.3.1->autogluon) (0.10.6)\n",
      "Requirement already satisfied: lightning-utilities<2.0,>=0.10.0 in c:\\users\\tmfk\\anaconda3\\lib\\site-packages (from lightning<2.7,>=2.2->autogluon.multimodal==1.3.1->autogluon) (0.14.3)\n",
      "Requirement already satisfied: aiohttp!=4.0.0a0,!=4.0.0a1 in c:\\users\\tmfk\\anaconda3\\lib\\site-packages (from fsspec[http]>=2021.05.0->evaluate<0.5.0,>=0.4.0->autogluon.multimodal==1.3.1->autogluon) (3.10.5)\n",
      "Requirement already satisfied: setuptools in c:\\users\\tmfk\\anaconda3\\lib\\site-packages (from lightning-utilities<2.0,>=0.10.0->lightning<2.7,>=2.2->autogluon.multimodal==1.3.1->autogluon) (80.9.0)\n",
      "Requirement already satisfied: contourpy>=1.0.1 in c:\\users\\tmfk\\anaconda3\\lib\\site-packages (from matplotlib<3.11,>=3.7.0->autogluon.core==1.3.1->autogluon.core[all]==1.3.1->autogluon) (1.2.0)\n",
      "Requirement already satisfied: cycler>=0.10 in c:\\users\\tmfk\\anaconda3\\lib\\site-packages (from matplotlib<3.11,>=3.7.0->autogluon.core==1.3.1->autogluon.core[all]==1.3.1->autogluon) (0.11.0)\n",
      "Requirement already satisfied: fonttools>=4.22.0 in c:\\users\\tmfk\\anaconda3\\lib\\site-packages (from matplotlib<3.11,>=3.7.0->autogluon.core==1.3.1->autogluon.core[all]==1.3.1->autogluon) (4.51.0)\n",
      "Requirement already satisfied: kiwisolver>=1.3.1 in c:\\users\\tmfk\\anaconda3\\lib\\site-packages (from matplotlib<3.11,>=3.7.0->autogluon.core==1.3.1->autogluon.core[all]==1.3.1->autogluon) (1.4.4)\n",
      "Requirement already satisfied: pyparsing>=2.3.1 in c:\\users\\tmfk\\anaconda3\\lib\\site-packages (from matplotlib<3.11,>=3.7.0->autogluon.core==1.3.1->autogluon.core[all]==1.3.1->autogluon) (3.1.2)\n",
      "Requirement already satisfied: numba in c:\\users\\tmfk\\anaconda3\\lib\\site-packages (from mlforecast<0.14,>0.13->autogluon.timeseries==1.3.1->autogluon.timeseries[all]==1.3.1->autogluon) (0.60.0)\n",
      "Requirement already satisfied: optuna in c:\\users\\tmfk\\anaconda3\\lib\\site-packages (from mlforecast<0.14,>0.13->autogluon.timeseries==1.3.1->autogluon.timeseries[all]==1.3.1->autogluon) (4.3.0)\n",
      "Requirement already satisfied: window-ops in c:\\users\\tmfk\\anaconda3\\lib\\site-packages (from mlforecast<0.14,>0.13->autogluon.timeseries==1.3.1->autogluon.timeseries[all]==1.3.1->autogluon) (0.0.15)\n",
      "Requirement already satisfied: gdown>=4.0.0 in c:\\users\\tmfk\\anaconda3\\lib\\site-packages (from nlpaug<1.2.0,>=1.1.10->autogluon.multimodal==1.3.1->autogluon) (5.2.0)\n",
      "Requirement already satisfied: click in c:\\users\\tmfk\\anaconda3\\lib\\site-packages (from nltk<3.9,>=3.4.5->autogluon.multimodal==1.3.1->autogluon) (8.1.7)\n",
      "Requirement already satisfied: regex>=2021.8.3 in c:\\users\\tmfk\\anaconda3\\lib\\site-packages (from nltk<3.9,>=3.4.5->autogluon.multimodal==1.3.1->autogluon) (2024.9.11)\n",
      "Requirement already satisfied: antlr4-python3-runtime==4.9.* in c:\\users\\tmfk\\anaconda3\\lib\\site-packages (from omegaconf<2.4.0,>=2.1.1->autogluon.multimodal==1.3.1->autogluon) (4.9.3)\n",
      "Requirement already satisfied: colorama in c:\\users\\tmfk\\anaconda3\\lib\\site-packages (from openmim<0.4.0,>=0.3.7->autogluon.multimodal==1.3.1->autogluon) (0.4.6)\n",
      "Requirement already satisfied: model-index in c:\\users\\tmfk\\anaconda3\\lib\\site-packages (from openmim<0.4.0,>=0.3.7->autogluon.multimodal==1.3.1->autogluon) (0.1.11)\n",
      "Requirement already satisfied: opendatalab in c:\\users\\tmfk\\anaconda3\\lib\\site-packages (from openmim<0.4.0,>=0.3.7->autogluon.multimodal==1.3.1->autogluon) (0.0.10)\n",
      "Requirement already satisfied: rich in c:\\users\\tmfk\\anaconda3\\lib\\site-packages (from openmim<0.4.0,>=0.3.7->autogluon.multimodal==1.3.1->autogluon) (13.7.1)\n",
      "Requirement already satisfied: tabulate in c:\\users\\tmfk\\anaconda3\\lib\\site-packages (from openmim<0.4.0,>=0.3.7->autogluon.multimodal==1.3.1->autogluon) (0.9.0)\n",
      "Requirement already satisfied: pytz>=2020.1 in c:\\users\\tmfk\\anaconda3\\lib\\site-packages (from pandas<2.3.0,>=2.0.0->autogluon.core==1.3.1->autogluon.core[all]==1.3.1->autogluon) (2024.1)\n",
      "Requirement already satisfied: tzdata>=2022.7 in c:\\users\\tmfk\\anaconda3\\lib\\site-packages (from pandas<2.3.0,>=2.0.0->autogluon.core==1.3.1->autogluon.core[all]==1.3.1->autogluon) (2023.3)\n",
      "Requirement already satisfied: filelock in c:\\users\\tmfk\\anaconda3\\lib\\site-packages (from ray<2.45,>=2.10.0->ray[default]<2.45,>=2.10.0; extra == \"all\"->autogluon.core[all]==1.3.1->autogluon) (3.13.1)\n",
      "Requirement already satisfied: msgpack<2.0.0,>=1.0.0 in c:\\users\\tmfk\\anaconda3\\lib\\site-packages (from ray<2.45,>=2.10.0->ray[default]<2.45,>=2.10.0; extra == \"all\"->autogluon.core[all]==1.3.1->autogluon) (1.0.3)\n",
      "Requirement already satisfied: protobuf!=3.19.5,>=3.15.3 in c:\\users\\tmfk\\anaconda3\\lib\\site-packages (from ray<2.45,>=2.10.0->ray[default]<2.45,>=2.10.0; extra == \"all\"->autogluon.core[all]==1.3.1->autogluon) (4.25.3)\n",
      "Requirement already satisfied: aiosignal in c:\\users\\tmfk\\anaconda3\\lib\\site-packages (from ray<2.45,>=2.10.0->ray[default]<2.45,>=2.10.0; extra == \"all\"->autogluon.core[all]==1.3.1->autogluon) (1.2.0)\n",
      "Requirement already satisfied: frozenlist in c:\\users\\tmfk\\anaconda3\\lib\\site-packages (from ray<2.45,>=2.10.0->ray[default]<2.45,>=2.10.0; extra == \"all\"->autogluon.core[all]==1.3.1->autogluon) (1.4.0)\n",
      "Requirement already satisfied: aiohttp_cors in c:\\users\\tmfk\\anaconda3\\lib\\site-packages (from ray[default,tune]<2.45,>=2.10.0; extra == \"all\"->autogluon.core[all]==1.3.1->autogluon) (0.8.1)\n",
      "Requirement already satisfied: colorful in c:\\users\\tmfk\\anaconda3\\lib\\site-packages (from ray[default,tune]<2.45,>=2.10.0; extra == \"all\"->autogluon.core[all]==1.3.1->autogluon) (0.5.6)\n",
      "Requirement already satisfied: py-spy>=0.4.0 in c:\\users\\tmfk\\anaconda3\\lib\\site-packages (from ray[default,tune]<2.45,>=2.10.0; extra == \"all\"->autogluon.core[all]==1.3.1->autogluon) (0.4.0)\n",
      "Requirement already satisfied: grpcio>=1.42.0 in c:\\users\\tmfk\\anaconda3\\lib\\site-packages (from ray[default,tune]<2.45,>=2.10.0; extra == \"all\"->autogluon.core[all]==1.3.1->autogluon) (1.72.1)\n",
      "Requirement already satisfied: opencensus in c:\\users\\tmfk\\anaconda3\\lib\\site-packages (from ray[default,tune]<2.45,>=2.10.0; extra == \"all\"->autogluon.core[all]==1.3.1->autogluon) (0.11.4)\n",
      "Requirement already satisfied: prometheus_client>=0.7.1 in c:\\users\\tmfk\\anaconda3\\lib\\site-packages (from ray[default,tune]<2.45,>=2.10.0; extra == \"all\"->autogluon.core[all]==1.3.1->autogluon) (0.14.1)\n",
      "Requirement already satisfied: smart_open in c:\\users\\tmfk\\anaconda3\\lib\\site-packages (from ray[default,tune]<2.45,>=2.10.0; extra == \"all\"->autogluon.core[all]==1.3.1->autogluon) (5.2.1)\n",
      "Requirement already satisfied: virtualenv!=20.21.1,>=20.0.24 in c:\\users\\tmfk\\anaconda3\\lib\\site-packages (from ray[default,tune]<2.45,>=2.10.0; extra == \"all\"->autogluon.core[all]==1.3.1->autogluon) (20.31.2)\n",
      "Requirement already satisfied: tensorboardX>=1.9 in c:\\users\\tmfk\\anaconda3\\lib\\site-packages (from ray[default,tune]<2.45,>=2.10.0; extra == \"all\"->autogluon.core[all]==1.3.1->autogluon) (2.6.2.2)\n",
      "Requirement already satisfied: charset-normalizer<4,>=2 in c:\\users\\tmfk\\anaconda3\\lib\\site-packages (from requests->autogluon.core==1.3.1->autogluon.core[all]==1.3.1->autogluon) (3.3.2)\n",
      "Requirement already satisfied: idna<4,>=2.5 in c:\\users\\tmfk\\anaconda3\\lib\\site-packages (from requests->autogluon.core==1.3.1->autogluon.core[all]==1.3.1->autogluon) (3.7)\n",
      "Requirement already satisfied: certifi>=2017.4.17 in c:\\users\\tmfk\\anaconda3\\lib\\site-packages (from requests->autogluon.core==1.3.1->autogluon.core[all]==1.3.1->autogluon) (2024.8.30)\n",
      "Requirement already satisfied: imageio>=2.33 in c:\\users\\tmfk\\anaconda3\\lib\\site-packages (from scikit-image<0.26.0,>=0.19.1->autogluon.multimodal==1.3.1->autogluon) (2.33.1)\n",
      "Requirement already satisfied: tifffile>=2022.8.12 in c:\\users\\tmfk\\anaconda3\\lib\\site-packages (from scikit-image<0.26.0,>=0.19.1->autogluon.multimodal==1.3.1->autogluon) (2023.4.12)\n",
      "Requirement already satisfied: lazy-loader>=0.4 in c:\\users\\tmfk\\anaconda3\\lib\\site-packages (from scikit-image<0.26.0,>=0.19.1->autogluon.multimodal==1.3.1->autogluon) (0.4)\n",
      "Requirement already satisfied: threadpoolctl>=3.1.0 in c:\\users\\tmfk\\anaconda3\\lib\\site-packages (from scikit-learn<1.7.0,>=1.4.0->autogluon.core==1.3.1->autogluon.core[all]==1.3.1->autogluon) (3.5.0)\n",
      "Requirement already satisfied: spacy-legacy<3.1.0,>=3.0.11 in c:\\users\\tmfk\\anaconda3\\lib\\site-packages (from spacy<3.9->autogluon.tabular[all]==1.3.1->autogluon) (3.0.12)\n",
      "Requirement already satisfied: spacy-loggers<2.0.0,>=1.0.0 in c:\\users\\tmfk\\anaconda3\\lib\\site-packages (from spacy<3.9->autogluon.tabular[all]==1.3.1->autogluon) (1.0.5)\n",
      "Requirement already satisfied: murmurhash<1.1.0,>=0.28.0 in c:\\users\\tmfk\\anaconda3\\lib\\site-packages (from spacy<3.9->autogluon.tabular[all]==1.3.1->autogluon) (1.0.13)\n",
      "Requirement already satisfied: cymem<2.1.0,>=2.0.2 in c:\\users\\tmfk\\anaconda3\\lib\\site-packages (from spacy<3.9->autogluon.tabular[all]==1.3.1->autogluon) (2.0.11)\n",
      "Requirement already satisfied: preshed<3.1.0,>=3.0.2 in c:\\users\\tmfk\\anaconda3\\lib\\site-packages (from spacy<3.9->autogluon.tabular[all]==1.3.1->autogluon) (3.0.10)\n",
      "Requirement already satisfied: thinc<8.4.0,>=8.3.4 in c:\\users\\tmfk\\anaconda3\\lib\\site-packages (from spacy<3.9->autogluon.tabular[all]==1.3.1->autogluon) (8.3.4)\n",
      "Requirement already satisfied: wasabi<1.2.0,>=0.9.1 in c:\\users\\tmfk\\anaconda3\\lib\\site-packages (from spacy<3.9->autogluon.tabular[all]==1.3.1->autogluon) (1.1.3)\n",
      "Requirement already satisfied: srsly<3.0.0,>=2.4.3 in c:\\users\\tmfk\\anaconda3\\lib\\site-packages (from spacy<3.9->autogluon.tabular[all]==1.3.1->autogluon) (2.5.1)\n",
      "Requirement already satisfied: catalogue<2.1.0,>=2.0.6 in c:\\users\\tmfk\\anaconda3\\lib\\site-packages (from spacy<3.9->autogluon.tabular[all]==1.3.1->autogluon) (2.0.10)\n",
      "Requirement already satisfied: weasel<0.5.0,>=0.1.0 in c:\\users\\tmfk\\anaconda3\\lib\\site-packages (from spacy<3.9->autogluon.tabular[all]==1.3.1->autogluon) (0.4.1)\n",
      "Requirement already satisfied: typer<1.0.0,>=0.3.0 in c:\\users\\tmfk\\anaconda3\\lib\\site-packages (from spacy<3.9->autogluon.tabular[all]==1.3.1->autogluon) (0.16.0)\n",
      "Requirement already satisfied: langcodes<4.0.0,>=3.2.0 in c:\\users\\tmfk\\anaconda3\\lib\\site-packages (from spacy<3.9->autogluon.tabular[all]==1.3.1->autogluon) (3.5.0)\n",
      "Requirement already satisfied: language-data>=1.2 in c:\\users\\tmfk\\anaconda3\\lib\\site-packages (from langcodes<4.0.0,>=3.2.0->spacy<3.9->autogluon.tabular[all]==1.3.1->autogluon) (1.3.0)\n",
      "Requirement already satisfied: statsmodels>=0.13.2 in c:\\users\\tmfk\\anaconda3\\lib\\site-packages (from statsforecast<2.0.2,>=1.7.0->autogluon.timeseries==1.3.1->autogluon.timeseries[all]==1.3.1->autogluon) (0.14.2)\n",
      "Requirement already satisfied: absl-py>=0.4 in c:\\users\\tmfk\\anaconda3\\lib\\site-packages (from tensorboard<3,>=2.9->autogluon.multimodal==1.3.1->autogluon) (2.3.0)\n",
      "Requirement already satisfied: markdown>=2.6.8 in c:\\users\\tmfk\\anaconda3\\lib\\site-packages (from tensorboard<3,>=2.9->autogluon.multimodal==1.3.1->autogluon) (3.4.1)\n",
      "Requirement already satisfied: tensorboard-data-server<0.8.0,>=0.7.0 in c:\\users\\tmfk\\anaconda3\\lib\\site-packages (from tensorboard<3,>=2.9->autogluon.multimodal==1.3.1->autogluon) (0.7.2)\n",
      "Requirement already satisfied: werkzeug>=1.0.1 in c:\\users\\tmfk\\anaconda3\\lib\\site-packages (from tensorboard<3,>=2.9->autogluon.multimodal==1.3.1->autogluon) (3.0.3)\n",
      "Requirement already satisfied: blis<1.3.0,>=1.2.0 in c:\\users\\tmfk\\anaconda3\\lib\\site-packages (from thinc<8.4.0,>=8.3.4->spacy<3.9->autogluon.tabular[all]==1.3.1->autogluon) (1.2.1)\n",
      "Requirement already satisfied: confection<1.0.0,>=0.0.1 in c:\\users\\tmfk\\anaconda3\\lib\\site-packages (from thinc<8.4.0,>=8.3.4->spacy<3.9->autogluon.tabular[all]==1.3.1->autogluon) (0.1.5)\n",
      "Requirement already satisfied: sympy==1.13.1 in c:\\users\\tmfk\\anaconda3\\lib\\site-packages (from torch<2.7,>=2.2->autogluon.multimodal==1.3.1->autogluon) (1.13.1)\n",
      "Requirement already satisfied: mpmath<1.4,>=1.1.0 in c:\\users\\tmfk\\anaconda3\\lib\\site-packages (from sympy==1.13.1->torch<2.7,>=2.2->autogluon.multimodal==1.3.1->autogluon) (1.3.0)\n",
      "Requirement already satisfied: tokenizers<0.22,>=0.21 in c:\\users\\tmfk\\anaconda3\\lib\\site-packages (from transformers<4.50,>=4.38.0->transformers[sentencepiece]<4.50,>=4.38.0->autogluon.multimodal==1.3.1->autogluon) (0.21.1)\n",
      "Requirement already satisfied: sentencepiece!=0.1.92,>=0.1.91 in c:\\users\\tmfk\\anaconda3\\lib\\site-packages (from transformers[sentencepiece]<4.50,>=4.38.0->autogluon.multimodal==1.3.1->autogluon) (0.2.0)\n",
      "Requirement already satisfied: shellingham>=1.3.0 in c:\\users\\tmfk\\anaconda3\\lib\\site-packages (from typer<1.0.0,>=0.3.0->spacy<3.9->autogluon.tabular[all]==1.3.1->autogluon) (1.5.4)\n",
      "Requirement already satisfied: cloudpathlib<1.0.0,>=0.7.0 in c:\\users\\tmfk\\anaconda3\\lib\\site-packages (from weasel<0.5.0,>=0.1.0->spacy<3.9->autogluon.tabular[all]==1.3.1->autogluon) (0.21.1)\n",
      "Requirement already satisfied: aiohappyeyeballs>=2.3.0 in c:\\users\\tmfk\\anaconda3\\lib\\site-packages (from aiohttp!=4.0.0a0,!=4.0.0a1->fsspec[http]>=2021.05.0->evaluate<0.5.0,>=0.4.0->autogluon.multimodal==1.3.1->autogluon) (2.4.0)\n",
      "Requirement already satisfied: multidict<7.0,>=4.5 in c:\\users\\tmfk\\anaconda3\\lib\\site-packages (from aiohttp!=4.0.0a0,!=4.0.0a1->fsspec[http]>=2021.05.0->evaluate<0.5.0,>=0.4.0->autogluon.multimodal==1.3.1->autogluon) (6.0.4)\n",
      "Requirement already satisfied: yarl<2.0,>=1.0 in c:\\users\\tmfk\\anaconda3\\lib\\site-packages (from aiohttp!=4.0.0a0,!=4.0.0a1->fsspec[http]>=2021.05.0->evaluate<0.5.0,>=0.4.0->autogluon.multimodal==1.3.1->autogluon) (1.11.0)\n",
      "Requirement already satisfied: triad>=0.9.7 in c:\\users\\tmfk\\anaconda3\\lib\\site-packages (from fugue>=0.9.0->autogluon.timeseries==1.3.1->autogluon.timeseries[all]==1.3.1->autogluon) (0.9.8)\n",
      "Requirement already satisfied: adagio>=0.2.4 in c:\\users\\tmfk\\anaconda3\\lib\\site-packages (from fugue>=0.9.0->autogluon.timeseries==1.3.1->autogluon.timeseries[all]==1.3.1->autogluon) (0.2.6)\n",
      "Requirement already satisfied: beautifulsoup4 in c:\\users\\tmfk\\anaconda3\\lib\\site-packages (from gdown>=4.0.0->nlpaug<1.2.0,>=1.1.10->autogluon.multimodal==1.3.1->autogluon) (4.12.3)\n",
      "Requirement already satisfied: marisa-trie>=1.1.0 in c:\\users\\tmfk\\anaconda3\\lib\\site-packages (from language-data>=1.2->langcodes<4.0.0,>=3.2.0->spacy<3.9->autogluon.tabular[all]==1.3.1->autogluon) (1.2.1)\n",
      "Requirement already satisfied: llvmlite<0.44,>=0.43.0dev0 in c:\\users\\tmfk\\anaconda3\\lib\\site-packages (from numba->mlforecast<0.14,>0.13->autogluon.timeseries==1.3.1->autogluon.timeseries[all]==1.3.1->autogluon) (0.43.0)\n",
      "Requirement already satisfied: markdown-it-py>=2.2.0 in c:\\users\\tmfk\\anaconda3\\lib\\site-packages (from rich->openmim<0.4.0,>=0.3.7->autogluon.multimodal==1.3.1->autogluon) (2.2.0)\n",
      "Requirement already satisfied: pygments<3.0.0,>=2.13.0 in c:\\users\\tmfk\\anaconda3\\lib\\site-packages (from rich->openmim<0.4.0,>=0.3.7->autogluon.multimodal==1.3.1->autogluon) (2.15.1)\n",
      "Requirement already satisfied: mdurl~=0.1 in c:\\users\\tmfk\\anaconda3\\lib\\site-packages (from markdown-it-py>=2.2.0->rich->openmim<0.4.0,>=0.3.7->autogluon.multimodal==1.3.1->autogluon) (0.1.0)\n",
      "Requirement already satisfied: patsy>=0.5.6 in c:\\users\\tmfk\\anaconda3\\lib\\site-packages (from statsmodels>=0.13.2->statsforecast<2.0.2,>=1.7.0->autogluon.timeseries==1.3.1->autogluon.timeseries[all]==1.3.1->autogluon) (0.5.6)\n",
      "Requirement already satisfied: fs in c:\\users\\tmfk\\anaconda3\\lib\\site-packages (from triad>=0.9.7->fugue>=0.9.0->autogluon.timeseries==1.3.1->autogluon.timeseries[all]==1.3.1->autogluon) (2.4.16)\n",
      "Requirement already satisfied: distlib<1,>=0.3.7 in c:\\users\\tmfk\\anaconda3\\lib\\site-packages (from virtualenv!=20.21.1,>=20.0.24->ray[default,tune]<2.45,>=2.10.0; extra == \"all\"->autogluon.core[all]==1.3.1->autogluon) (0.3.9)\n",
      "Requirement already satisfied: platformdirs<5,>=3.9.1 in c:\\users\\tmfk\\anaconda3\\lib\\site-packages (from virtualenv!=20.21.1,>=20.0.24->ray[default,tune]<2.45,>=2.10.0; extra == \"all\"->autogluon.core[all]==1.3.1->autogluon) (3.10.0)\n",
      "Requirement already satisfied: soupsieve>1.2 in c:\\users\\tmfk\\anaconda3\\lib\\site-packages (from beautifulsoup4->gdown>=4.0.0->nlpaug<1.2.0,>=1.1.10->autogluon.multimodal==1.3.1->autogluon) (2.5)\n",
      "Requirement already satisfied: appdirs~=1.4.3 in c:\\users\\tmfk\\anaconda3\\lib\\site-packages (from fs->triad>=0.9.7->fugue>=0.9.0->autogluon.timeseries==1.3.1->autogluon.timeseries[all]==1.3.1->autogluon) (1.4.4)\n",
      "Requirement already satisfied: ordered-set in c:\\users\\tmfk\\anaconda3\\lib\\site-packages (from model-index->openmim<0.4.0,>=0.3.7->autogluon.multimodal==1.3.1->autogluon) (4.1.0)\n",
      "Requirement already satisfied: opencensus-context>=0.1.3 in c:\\users\\tmfk\\anaconda3\\lib\\site-packages (from opencensus->ray[default,tune]<2.45,>=2.10.0; extra == \"all\"->autogluon.core[all]==1.3.1->autogluon) (0.1.3)\n",
      "Requirement already satisfied: google-api-core<3.0.0,>=1.0.0 in c:\\users\\tmfk\\anaconda3\\lib\\site-packages (from opencensus->ray[default,tune]<2.45,>=2.10.0; extra == \"all\"->autogluon.core[all]==1.3.1->autogluon) (2.25.0)\n",
      "Requirement already satisfied: googleapis-common-protos<2.0.0,>=1.56.2 in c:\\users\\tmfk\\anaconda3\\lib\\site-packages (from google-api-core<3.0.0,>=1.0.0->opencensus->ray[default,tune]<2.45,>=2.10.0; extra == \"all\"->autogluon.core[all]==1.3.1->autogluon) (1.70.0)\n",
      "Requirement already satisfied: proto-plus<2.0.0,>=1.22.3 in c:\\users\\tmfk\\anaconda3\\lib\\site-packages (from google-api-core<3.0.0,>=1.0.0->opencensus->ray[default,tune]<2.45,>=2.10.0; extra == \"all\"->autogluon.core[all]==1.3.1->autogluon) (1.26.1)\n",
      "Requirement already satisfied: google-auth<3.0.0,>=2.14.1 in c:\\users\\tmfk\\anaconda3\\lib\\site-packages (from google-api-core<3.0.0,>=1.0.0->opencensus->ray[default,tune]<2.45,>=2.10.0; extra == \"all\"->autogluon.core[all]==1.3.1->autogluon) (2.40.2)\n",
      "Requirement already satisfied: cachetools<6.0,>=2.0.0 in c:\\users\\tmfk\\anaconda3\\lib\\site-packages (from google-auth<3.0.0,>=2.14.1->google-api-core<3.0.0,>=1.0.0->opencensus->ray[default,tune]<2.45,>=2.10.0; extra == \"all\"->autogluon.core[all]==1.3.1->autogluon) (5.3.3)\n",
      "Requirement already satisfied: pyasn1-modules>=0.2.1 in c:\\users\\tmfk\\anaconda3\\lib\\site-packages (from google-auth<3.0.0,>=2.14.1->google-api-core<3.0.0,>=1.0.0->opencensus->ray[default,tune]<2.45,>=2.10.0; extra == \"all\"->autogluon.core[all]==1.3.1->autogluon) (0.2.8)\n",
      "Requirement already satisfied: rsa<5,>=3.1.4 in c:\\users\\tmfk\\anaconda3\\lib\\site-packages (from google-auth<3.0.0,>=2.14.1->google-api-core<3.0.0,>=1.0.0->opencensus->ray[default,tune]<2.45,>=2.10.0; extra == \"all\"->autogluon.core[all]==1.3.1->autogluon) (4.9.1)\n",
      "Requirement already satisfied: pyasn1>=0.1.3 in c:\\users\\tmfk\\anaconda3\\lib\\site-packages (from rsa<5,>=3.1.4->google-auth<3.0.0,>=2.14.1->google-api-core<3.0.0,>=1.0.0->opencensus->ray[default,tune]<2.45,>=2.10.0; extra == \"all\"->autogluon.core[all]==1.3.1->autogluon) (0.4.8)\n",
      "Requirement already satisfied: pycryptodome in c:\\users\\tmfk\\anaconda3\\lib\\site-packages (from opendatalab->openmim<0.4.0,>=0.3.7->autogluon.multimodal==1.3.1->autogluon) (3.23.0)\n",
      "Requirement already satisfied: openxlab in c:\\users\\tmfk\\anaconda3\\lib\\site-packages (from opendatalab->openmim<0.4.0,>=0.3.7->autogluon.multimodal==1.3.1->autogluon) (0.0.11)\n",
      "Requirement already satisfied: pywin32 in c:\\users\\tmfk\\anaconda3\\lib\\site-packages (from opendatalab->openmim<0.4.0,>=0.3.7->autogluon.multimodal==1.3.1->autogluon) (305.1)\n",
      "Requirement already satisfied: alembic>=1.5.0 in c:\\users\\tmfk\\anaconda3\\lib\\site-packages (from optuna->mlforecast<0.14,>0.13->autogluon.timeseries==1.3.1->autogluon.timeseries[all]==1.3.1->autogluon) (1.16.1)\n",
      "Requirement already satisfied: colorlog in c:\\users\\tmfk\\anaconda3\\lib\\site-packages (from optuna->mlforecast<0.14,>0.13->autogluon.timeseries==1.3.1->autogluon.timeseries[all]==1.3.1->autogluon) (6.9.0)\n",
      "Requirement already satisfied: sqlalchemy>=1.4.2 in c:\\users\\tmfk\\anaconda3\\lib\\site-packages (from optuna->mlforecast<0.14,>0.13->autogluon.timeseries==1.3.1->autogluon.timeseries[all]==1.3.1->autogluon) (2.0.34)\n",
      "Requirement already satisfied: Mako in c:\\users\\tmfk\\anaconda3\\lib\\site-packages (from alembic>=1.5.0->optuna->mlforecast<0.14,>0.13->autogluon.timeseries==1.3.1->autogluon.timeseries[all]==1.3.1->autogluon) (1.3.10)\n",
      "Requirement already satisfied: greenlet!=0.4.17 in c:\\users\\tmfk\\anaconda3\\lib\\site-packages (from sqlalchemy>=1.4.2->optuna->mlforecast<0.14,>0.13->autogluon.timeseries==1.3.1->autogluon.timeseries[all]==1.3.1->autogluon) (3.0.1)\n",
      "Requirement already satisfied: tenacity>=6.2.0 in c:\\users\\tmfk\\anaconda3\\lib\\site-packages (from plotly->catboost<1.3,>=1.2->autogluon.tabular[all]==1.3.1->autogluon) (8.2.3)\n",
      "Requirement already satisfied: beartype>=0.16.2 in c:\\users\\tmfk\\anaconda3\\lib\\site-packages (from plum-dispatch->fastai<2.9,>=2.3.1->autogluon.tabular[all]==1.3.1->autogluon) (0.21.0)\n",
      "Requirement already satisfied: PySocks!=1.5.7,>=1.5.6 in c:\\users\\tmfk\\anaconda3\\lib\\site-packages (from requests[socks]->gdown>=4.0.0->nlpaug<1.2.0,>=1.1.10->autogluon.multimodal==1.3.1->autogluon) (1.7.1)\n",
      "1.26.4\n"
     ]
    }
   ],
   "source": [
    "!pip install -U pip setuptools wheel\n",
    "!pip install autogluon --no-cache-dir\n",
    "# Without --no-cache_dir, smaller aws instances may have trouble installing\n",
    "\n",
    "import numpy\n",
    "print(numpy.__version__)"
   ]
  },
  {
   "cell_type": "markdown",
   "metadata": {
    "id": "2WjE0J-hsvql"
   },
   "source": [
    "### Setup Kaggle API Key"
   ]
  },
  {
   "cell_type": "code",
   "execution_count": 12,
   "metadata": {
    "id": "x_NgU4vQsvql"
   },
   "outputs": [
    {
     "name": "stdout",
     "output_type": "stream",
     "text": [
      "Kaggle config ready.\n"
     ]
    }
   ],
   "source": [
    "# create the .kaggle directory and an empty kaggle.json file\n",
    "import os\n",
    "import json\n",
    "\n",
    "kaggle_dir = os.path.join(os.path.expanduser('~'), '.kaggle')\n",
    "os.makedirs(kaggle_dir, exist_ok=True)\n",
    "kaggle_json_path = os.path.join(kaggle_dir, 'kaggle.json')\n",
    "os.chmod(kaggle_json_path, 0o600)\n",
    "\n",
    "print(\"Kaggle config ready.\")"
   ]
  },
  {
   "cell_type": "code",
   "execution_count": 16,
   "metadata": {
    "id": "91db-wXJsvqm"
   },
   "outputs": [],
   "source": [
    "# Fill in your user name and key from creating the kaggle account and API token file\n",
    "import json\n",
    "kaggle_username = \"maryamadibi\"\n",
    "kaggle_key = \"1ea64e8b20324c1b0268303ee0c03486\"\n"
   ]
  },
  {
   "cell_type": "markdown",
   "metadata": {
    "id": "VGGqHCm7svqm"
   },
   "source": [
    "### Download and explore dataset"
   ]
  },
  {
   "cell_type": "markdown",
   "metadata": {
    "id": "qKC2wMTFsvqm"
   },
   "source": [
    "### Go to the bike sharing demand competition and agree to the terms"
   ]
  },
  {
   "cell_type": "code",
   "execution_count": null,
   "metadata": {
    "colab": {
     "base_uri": "https://localhost:8080/"
    },
    "id": "ALErrp0Tsvqm",
    "outputId": "92ea5156-2adf-45ad-defd-570893a181dc"
   },
   "outputs": [],
   "source": [
    "# Download the dataset, it will be in a .zip file so you'll need to unzip it as well.\n",
    "!kaggle competitions download -c bike-sharing-demand\n",
    "# If you already downloaded it you can use the -o command to overwrite the file\n",
    "!unzip -o bike-sharing-demand.zip"
   ]
  },
  {
   "cell_type": "code",
   "execution_count": null,
   "metadata": {
    "colab": {
     "base_uri": "https://localhost:8080/",
     "height": 1000
    },
    "id": "b54b5ZXRM17g",
    "outputId": "8f1a3a3d-0482-42de-c915-32eba4764c3a"
   },
   "outputs": [],
   "source": [
    "!pip uninstall -y numpy\n",
    "!pip install numpy==1.23.5\n",
    "\n",
    "# Re-install autogluon to ensure compatibility with the downgraded numpy\n",
    "!pip install autogluon --no-cache-dir"
   ]
  },
  {
   "cell_type": "code",
   "execution_count": null,
   "metadata": {
    "id": "lK9Kk5CUsvqm"
   },
   "outputs": [],
   "source": [
    "import pandas as pd\n",
    "from autogluon.tabular import TabularPredictor"
   ]
  },
  {
   "cell_type": "code",
   "execution_count": null,
   "metadata": {
    "colab": {
     "base_uri": "https://localhost:8080/",
     "height": 206
    },
    "id": "ARKBmUrAsvqn",
    "outputId": "a6163b67-3ec8-4cb3-c1a8-7ada2726077f"
   },
   "outputs": [],
   "source": [
    "# Create the train dataset in pandas by reading the csv\n",
    "# Set the parsing of the datetime column so you can use some of the `dt` features in pandas later\n",
    "train = pd.read_csv('train.csv')\n",
    "train.head()"
   ]
  },
  {
   "cell_type": "code",
   "execution_count": null,
   "metadata": {
    "colab": {
     "base_uri": "https://localhost:8080/",
     "height": 320
    },
    "id": "7-BmWiH3svqn",
    "outputId": "7704a343-bb27-4479-ae0e-ac21bc03e6e8"
   },
   "outputs": [],
   "source": [
    "# Simple output of the train dataset to view some of the min/max/varition of the dataset features.\n",
    "train.describe()"
   ]
  },
  {
   "cell_type": "code",
   "execution_count": null,
   "metadata": {
    "colab": {
     "base_uri": "https://localhost:8080/",
     "height": 206
    },
    "id": "zwGT8fGssvqn",
    "outputId": "eecd51e0-75fa-4a3d-865d-b165eb6cc83d"
   },
   "outputs": [],
   "source": [
    "# Create the test pandas dataframe in pandas by reading the csv, remember to parse the datetime!\n",
    "test = pd.read_csv('test.csv')\n",
    "test.head()"
   ]
  },
  {
   "cell_type": "code",
   "execution_count": null,
   "metadata": {
    "colab": {
     "base_uri": "https://localhost:8080/",
     "height": 206
    },
    "id": "p8Jj1Ftqsvqn",
    "outputId": "e01ca778-7733-4bba-c921-bcae0a156643"
   },
   "outputs": [],
   "source": [
    "# Same thing as train and test dataset\n",
    "submission = pd.read_csv('sampleSubmission.csv')\n",
    "submission.head()"
   ]
  },
  {
   "cell_type": "markdown",
   "metadata": {
    "id": "ZdH49p7psvqn"
   },
   "source": [
    "## Step 3: Train a model using AutoGluon’s Tabular Prediction"
   ]
  },
  {
   "cell_type": "markdown",
   "metadata": {
    "id": "Eyq4fM6jsvqo"
   },
   "source": [
    "Requirements:\n",
    "* We are prediting `count`, so it is the label we are setting.\n",
    "* Ignore `casual` and `registered` columns as they are also not present in the test dataset.\n",
    "* Use the `root_mean_squared_error` as the metric to use for evaluation.\n",
    "* Set a time limit of 10 minutes (600 seconds).\n",
    "* Use the preset `best_quality` to focus on creating the best model."
   ]
  },
  {
   "cell_type": "code",
   "execution_count": null,
   "metadata": {
    "id": "p2kvL8Wq-J66"
   },
   "outputs": [],
   "source": [
    "eval_metric = 'root_mean_squared_error'\n",
    "label = 'count'\n",
    "ignored_columns = [\"casual\", \"registered\"]\n",
    "train_data = train\n",
    "time_limit = 600\n",
    "presets = \"best_quality\""
   ]
  },
  {
   "cell_type": "code",
   "execution_count": null,
   "metadata": {
    "colab": {
     "base_uri": "https://localhost:8080/"
    },
    "id": "Pj8caYLLsvqo",
    "outputId": "56e80cf2-3bae-445b-bf80-178e6a8e7ae1"
   },
   "outputs": [],
   "source": [
    "predictor = TabularPredictor(label=label,\n",
    "                             problem_type= 'regression',\n",
    "                             eval_metric=eval_metric,\n",
    "                             learner_kwargs={'ignored_columns': ignored_columns}).fit(\n",
    "                                                                           train_data = train_data,\n",
    "                                                                           time_limit=time_limit,\n",
    "                                                                           presets=presets)"
   ]
  },
  {
   "cell_type": "markdown",
   "metadata": {
    "id": "mVE_ltnzsvqo"
   },
   "source": [
    "### Review AutoGluon's training run with ranking of models that did the best."
   ]
  },
  {
   "cell_type": "code",
   "execution_count": null,
   "metadata": {
    "colab": {
     "base_uri": "https://localhost:8080/"
    },
    "id": "6y-dNWD2svqp",
    "outputId": "17b193b5-a127-4a66-aaa9-0a22a16d9df6"
   },
   "outputs": [],
   "source": [
    "predictor.fit_summary()"
   ]
  },
  {
   "cell_type": "code",
   "execution_count": null,
   "metadata": {
    "colab": {
     "base_uri": "https://localhost:8080/",
     "height": 383
    },
    "id": "mvme0SBh3aei",
    "outputId": "9c39e072-f41d-4789-c0ae-f5f6e1f3c0dd"
   },
   "outputs": [],
   "source": [
    "# Leaderboard dataframe\n",
    "leaderboard_df = pd.DataFrame(predictor.leaderboard(silent=True))\n",
    "leaderboard_df"
   ]
  },
  {
   "cell_type": "code",
   "execution_count": null,
   "metadata": {
    "colab": {
     "base_uri": "https://localhost:8080/",
     "height": 760
    },
    "id": "VixJOl7k3bdA",
    "outputId": "6f046627-6ba6-4a76-98da-4ec7bdc87c64"
   },
   "outputs": [],
   "source": [
    "# Output the model's `score_val` in a bar chart to compare performance\n",
    "import matplotlib.pyplot as plt\n",
    "leaderboard_df.plot(kind=\"bar\", x=\"model\", y=\"score_val\", figsize=(14, 7))\n",
    "plt.ylabel(\"RMSE Scores\")\n",
    "plt.show()"
   ]
  },
  {
   "cell_type": "markdown",
   "metadata": {
    "id": "qjbjgkgNsvqp"
   },
   "source": [
    "### Create predictions from test dataset"
   ]
  },
  {
   "cell_type": "code",
   "execution_count": null,
   "metadata": {
    "colab": {
     "base_uri": "https://localhost:8080/",
     "height": 241
    },
    "id": "Tmvi7bbjsvqp",
    "outputId": "0612bcff-6a3d-4299-e17d-88b5d61551fc"
   },
   "outputs": [],
   "source": [
    "predictions = predictor.predict(test)\n",
    "predictions.head()"
   ]
  },
  {
   "cell_type": "markdown",
   "metadata": {
    "id": "XUrqmmsbsvqp"
   },
   "source": [
    "#### NOTE: Kaggle will reject the submission if we don't set everything to be > 0."
   ]
  },
  {
   "cell_type": "code",
   "execution_count": null,
   "metadata": {
    "colab": {
     "base_uri": "https://localhost:8080/",
     "height": 335
    },
    "id": "ld_G5Xspsvqp",
    "outputId": "abcdf132-7f87-4c95-b49f-dae4a0d30ec1"
   },
   "outputs": [],
   "source": [
    "# Describe the `predictions` series to see if there are any negative values\n",
    "predictions.describe()"
   ]
  },
  {
   "cell_type": "code",
   "execution_count": null,
   "metadata": {
    "colab": {
     "base_uri": "https://localhost:8080/"
    },
    "id": "OGTgBkLusvqp",
    "outputId": "b2d28290-cebc-4b02-e6fd-1df7de8fbb15"
   },
   "outputs": [],
   "source": [
    "# How many negative values do we have?\n",
    "negative_pred_count = predictions.apply(lambda x: 1 if x<0 else 0)\n",
    "\n",
    "pred_pos_count = (negative_pred_count==0).sum()\n",
    "pred_neg_count = (negative_pred_count==1).sum()\n",
    "\n",
    "print(\"Total predictions                :\", len(predictions.index))\n",
    "print(\"Total positive prediction values :\", pred_pos_count)\n",
    "print(\"Total negative prediction values :\", pred_neg_count)"
   ]
  },
  {
   "cell_type": "code",
   "execution_count": null,
   "metadata": {
    "colab": {
     "base_uri": "https://localhost:8080/"
    },
    "id": "Xss-xQRHsvqp",
    "outputId": "8538cb43-45e0-436e-cd6a-b6b849738eea"
   },
   "outputs": [],
   "source": [
    "# Set them to zero\n",
    "predictions[predictions<0] = 0\n",
    "\n",
    "# Rechecking, if no predictions are less than 0\n",
    "negative_pred_count = predictions.apply(lambda x: 1 if x<0 else 0)\n",
    "pred_neg_count = (negative_pred_count==1).sum()\n",
    "print(f\"No. of negative predictions: {pred_neg_count}\")"
   ]
  },
  {
   "cell_type": "markdown",
   "metadata": {
    "id": "5s1ZxiWxsvqq"
   },
   "source": [
    "### Set predictions to submission dataframe, save, and submit"
   ]
  },
  {
   "cell_type": "code",
   "execution_count": null,
   "metadata": {
    "id": "X85MEbZosvqq"
   },
   "outputs": [],
   "source": [
    "submission[\"count\"] = predictions\n",
    "submission.to_csv(\"submission.csv\", index=False)"
   ]
  },
  {
   "cell_type": "code",
   "execution_count": null,
   "metadata": {
    "colab": {
     "base_uri": "https://localhost:8080/"
    },
    "id": "nLnK0423svqq",
    "outputId": "12328c5b-f283-4775-8625-449d5d421e30"
   },
   "outputs": [],
   "source": [
    "!kaggle competitions submit -c bike-sharing-demand -f submission.csv -m \"first raw submission\""
   ]
  },
  {
   "cell_type": "markdown",
   "metadata": {
    "id": "-gRSvvalsvqq"
   },
   "source": [
    "#### View submission via the command line or in the web browser under the competition's page - `My Submissions`"
   ]
  },
  {
   "cell_type": "code",
   "execution_count": null,
   "metadata": {
    "colab": {
     "base_uri": "https://localhost:8080/"
    },
    "id": "5y6Alg6Nsvqq",
    "outputId": "411876e1-f1a9-4319-b681-5ddeb508dd04"
   },
   "outputs": [],
   "source": [
    "!kaggle competitions submissions -c bike-sharing-demand | tail -n +1 | head -n 6"
   ]
  },
  {
   "cell_type": "markdown",
   "metadata": {
    "id": "KrvVya_Xsvqr"
   },
   "source": [
    "#### Initial score of 1.83385"
   ]
  },
  {
   "cell_type": "markdown",
   "metadata": {
    "id": "MEvXSZ_6svqr"
   },
   "source": [
    "## Step 4: Exploratory Data Analysis and Creating an additional feature\n",
    "* Any additional feature will do, but a great suggestion would be to separate out the datetime into hour, day, or month parts."
   ]
  },
  {
   "cell_type": "code",
   "execution_count": null,
   "metadata": {
    "colab": {
     "base_uri": "https://localhost:8080/",
     "height": 1000
    },
    "id": "Hgp3TPYPsvqs",
    "outputId": "95e21dfa-ae00-4ffd-c921-e5c2b2969689"
   },
   "outputs": [],
   "source": [
    "# Create a histogram of all features to show the distribution of each one relative to the data. This is part of the exploritory data analysis\n",
    "train.hist(figsize=(15,20))\n",
    "plt.tight_layout()\n",
    "plt.show()"
   ]
  },
  {
   "cell_type": "code",
   "execution_count": null,
   "metadata": {
    "colab": {
     "base_uri": "https://localhost:8080/",
     "height": 1000
    },
    "id": "KjrMj35Uy4Cq",
    "outputId": "4bf0d179-ec4b-49a3-bb98-2d4ed9619297"
   },
   "outputs": [],
   "source": [
    "import numpy as np\n",
    "import matplotlib.pyplot as plt\n",
    "import seaborn as sns\n",
    "\n",
    "# Keep only numeric columns to avoid string/datetime errors\n",
    "corr_data = train.select_dtypes(include=[np.number])\n",
    "\n",
    "# Compute correlation matrix\n",
    "corr_matrix = corr_data.corr()\n",
    "\n",
    "# Create a mask to eliminate redundant lower triangle\n",
    "corr_mask = np.triu(np.ones_like(corr_matrix, dtype=bool))\n",
    "\n",
    "# Plot heatmap\n",
    "plt.figure(figsize=(15, 15), dpi=120)\n",
    "sns.heatmap(\n",
    "    corr_matrix,\n",
    "    cmap='RdPu',\n",
    "    cbar_kws={\"shrink\": .5},\n",
    "    vmin=-1, vmax=1, center=0,\n",
    "    square=True,\n",
    "    mask=~corr_mask,  # only upper triangle\n",
    "    annot=True,\n",
    "    linewidths=0.5,\n",
    "    annot_kws={\"size\": 13}\n",
    ")\n",
    "plt.xticks(fontsize=14, rotation=90)\n",
    "plt.yticks(fontsize=14, rotation=0)\n",
    "plt.title(\"HeatMap: Correlation Matrix\", fontsize=20, fontweight='bold')\n",
    "plt.tight_layout()\n",
    "plt.show()\n"
   ]
  },
  {
   "cell_type": "code",
   "execution_count": null,
   "metadata": {
    "id": "efFBkEYIsvqt"
   },
   "outputs": [],
   "source": [
    "# create a new feature\n",
    "train['datetime'] = pd.to_datetime(train['datetime'])\n",
    "test['datetime'] = pd.to_datetime(test['datetime'])"
   ]
  },
  {
   "cell_type": "code",
   "execution_count": null,
   "metadata": {
    "colab": {
     "base_uri": "https://localhost:8080/",
     "height": 241
    },
    "id": "oq0XqckKS2Xq",
    "outputId": "5facb6ec-d0f1-4849-ccb3-880d38cf23c5"
   },
   "outputs": [],
   "source": [
    "train['datetime'].head()"
   ]
  },
  {
   "cell_type": "code",
   "execution_count": null,
   "metadata": {
    "colab": {
     "base_uri": "https://localhost:8080/",
     "height": 206
    },
    "id": "c2yOoCa1T90i",
    "outputId": "49a8fa60-9321-4e46-fba7-aa4136709c92"
   },
   "outputs": [],
   "source": [
    "train[\"year\"] = train[\"datetime\"].dt.year\n",
    "train[\"month\"] = train[\"datetime\"].dt.month\n",
    "train[\"day\"] = train[\"datetime\"].dt.dayofweek\n",
    "train[\"hour\"] = train[\"datetime\"].dt.hour\n",
    "train.drop([\"datetime\"], axis=1, inplace=True)\n",
    "train.head()"
   ]
  },
  {
   "cell_type": "code",
   "execution_count": null,
   "metadata": {
    "colab": {
     "base_uri": "https://localhost:8080/",
     "height": 206
    },
    "id": "tQNMkKO3ULB9",
    "outputId": "a62d770c-0a57-4812-f065-00e182eb1606"
   },
   "outputs": [],
   "source": [
    "test[\"year\"] = test[\"datetime\"].dt.year\n",
    "test[\"month\"] = test[\"datetime\"].dt.month\n",
    "test[\"day\"] = test[\"datetime\"].dt.dayofweek\n",
    "test[\"hour\"] = test[\"datetime\"].dt.hour\n",
    "test.drop([\"datetime\"], axis=1, inplace=True)\n",
    "test.head()"
   ]
  },
  {
   "cell_type": "code",
   "execution_count": null,
   "metadata": {
    "colab": {
     "base_uri": "https://localhost:8080/"
    },
    "id": "c6iVctI5UQ1g",
    "outputId": "cc97d1e9-02dc-4731-ce38-a5ad56b9f533"
   },
   "outputs": [],
   "source": [
    "train.info()"
   ]
  },
  {
   "cell_type": "markdown",
   "metadata": {
    "id": "fMVBnMuOsvqu"
   },
   "source": [
    "## Make category types for these so models know they are not just numbers\n",
    "* AutoGluon originally sees these as ints, but in reality they are int representations of a category.\n",
    "* Setting the dtype to category will classify these as categories in AutoGluon."
   ]
  },
  {
   "cell_type": "code",
   "execution_count": null,
   "metadata": {
    "id": "WaSSD1Vysvqu"
   },
   "outputs": [],
   "source": [
    "train[\"season\"] = train[\"season\"].astype(\"category\")\n",
    "train[\"weather\"] = train[\"weather\"].astype(\"category\")\n",
    "test[\"season\"] = test[\"season\"].astype(\"category\")\n",
    "test[\"weather\"] = test[\"weather\"].astype(\"category\")"
   ]
  },
  {
   "cell_type": "code",
   "execution_count": null,
   "metadata": {
    "colab": {
     "base_uri": "https://localhost:8080/",
     "height": 206
    },
    "id": "BWdnL1Brsvqu",
    "outputId": "e6cc442e-db84-479a-800a-4e4a61882f43"
   },
   "outputs": [],
   "source": [
    "# View are new feature\n",
    "train.head()"
   ]
  },
  {
   "cell_type": "code",
   "execution_count": null,
   "metadata": {
    "colab": {
     "base_uri": "https://localhost:8080/",
     "height": 1000
    },
    "id": "plo9eda4svqv",
    "outputId": "eb9ed025-be54-4884-e390-4c9237dffc56"
   },
   "outputs": [],
   "source": [
    "# View histogram of all features again now with the hour feature\n",
    "train.hist(figsize=(15,20))\n",
    "plt.tight_layout()\n",
    "plt.show()"
   ]
  },
  {
   "cell_type": "code",
   "execution_count": null,
   "metadata": {
    "colab": {
     "base_uri": "https://localhost:8080/",
     "height": 507
    },
    "id": "ZknlsIsYzR4s",
    "outputId": "f3392577-a01f-4c08-8f9f-1b224547eba3"
   },
   "outputs": [],
   "source": [
    "#Variation in target variable count with respect to new features derived from datetime feature\n",
    "sns.catplot(x=\"hour\",y=\"count\",data=train,kind='bar',height=5,aspect=1.5)\n",
    "plt.tight_layout()\n",
    "plt.show()"
   ]
  },
  {
   "cell_type": "code",
   "execution_count": null,
   "metadata": {
    "colab": {
     "base_uri": "https://localhost:8080/",
     "height": 507
    },
    "id": "WdnK92frzVWZ",
    "outputId": "8090e84a-97fe-4fcc-834b-4c781768be76"
   },
   "outputs": [],
   "source": [
    "# Variation in`count` w.r.t `day` (dayofweek) [0: Monday -> 6: Sunday]\n",
    "sns.catplot(x=\"day\",y=\"count\",data=train,kind='bar',height=5,aspect=1.5)\n",
    "plt.tight_layout()\n",
    "plt.xticks(ticks=range(0,7), labels=[\"Monday\", \"Tuesday\", \"Wednesday\",\n",
    "                                     \"Thursday\", \"Friday\", \"Saturday\", \"Sunday\"])\n",
    "plt.show()"
   ]
  },
  {
   "cell_type": "code",
   "execution_count": null,
   "metadata": {
    "colab": {
     "base_uri": "https://localhost:8080/",
     "height": 996
    },
    "id": "mSKkWNQgzaVY",
    "outputId": "eff903ef-9f02-43ce-876c-88f5bca71a46"
   },
   "outputs": [],
   "source": [
    "sns.catplot(x=\"month\",y=\"count\",data=train,kind='bar',height=5,aspect=1.5)\n",
    "sns.catplot(x=\"season\",y=\"count\",data=train,kind='bar',height=5,aspect=1.5)\n",
    "plt.tight_layout()\n",
    "plt.show()"
   ]
  },
  {
   "cell_type": "code",
   "execution_count": null,
   "metadata": {
    "colab": {
     "base_uri": "https://localhost:8080/",
     "height": 507
    },
    "id": "gkNuX1VFzfBt",
    "outputId": "97d17758-846a-4db2-9bc3-ea54dff1af03"
   },
   "outputs": [],
   "source": [
    "sns.catplot(x=\"year\",y=\"count\",data=train,kind='bar',height=5,aspect=1.5)\n",
    "plt.tight_layout()\n",
    "plt.show()"
   ]
  },
  {
   "cell_type": "code",
   "execution_count": null,
   "metadata": {
    "colab": {
     "base_uri": "https://localhost:8080/",
     "height": 507
    },
    "id": "Qya4pqj4zj-l",
    "outputId": "b0548297-0b4e-4bd2-a9a4-3b927df5a549"
   },
   "outputs": [],
   "source": [
    "sns.catplot(x=\"weather\",y=\"count\",data=train,kind='bar',height=5,aspect=1.5)\n",
    "plt.xticks(ticks=range(0,4), labels=[\"Clear\",\"Misty\",\n",
    "                                     \"Light_\\nRain/Snow\\n/Thunderstorm\",\n",
    "                                     \"Heavy_\\nRain/Snow\\n/Thunderstorm\"])\n",
    "plt.tight_layout()\n",
    "plt.show()"
   ]
  },
  {
   "cell_type": "code",
   "execution_count": null,
   "metadata": {
    "colab": {
     "base_uri": "https://localhost:8080/",
     "height": 206
    },
    "id": "4w2muoDDzoz9",
    "outputId": "55d1d735-660c-4d07-c7c4-c2c2a70c9517"
   },
   "outputs": [],
   "source": [
    "#creating a new feature 'day type' in train data\n",
    "# Adding features - 'day_type' in train data\n",
    "train[\"day_type\"]=\"\"\n",
    "train.loc[(train.holiday==1),\"day_type\"] = \"holiday\"\n",
    "train.loc[((train.holiday==0) & (train.workingday==1)), \"day_type\"] = \"weekday\"\n",
    "train.loc[((train.holiday==0) & (train.workingday==0)), \"day_type\"] = \"weekend\"\n",
    "\n",
    "# Adding features - 'day_type' in test data\n",
    "test[\"day_type\"]=\"\"\n",
    "test.loc[(test.holiday==1),\"day_type\"] = \"holiday\"\n",
    "test.loc[((test.holiday==0) & (test.workingday==1)), \"day_type\"] = \"weekday\"\n",
    "test.loc[((test.holiday==0) & (test.workingday==0)), \"day_type\"] = \"weekend\"\n",
    "\n",
    "# Change the datatype to category\n",
    "train[\"day_type\"] = train[\"day_type\"].astype(\"category\")\n",
    "test[\"day_type\"] = test[\"day_type\"].astype(\"category\")\n",
    "\n",
    "train.head()"
   ]
  },
  {
   "cell_type": "code",
   "execution_count": null,
   "metadata": {
    "colab": {
     "base_uri": "https://localhost:8080/",
     "height": 320
    },
    "id": "8Zg61MsWzz0S",
    "outputId": "184bbe7f-7d5b-4ad1-e040-53e4b7cae6e0"
   },
   "outputs": [],
   "source": [
    "# Statistics of all features within the trian data\n",
    "train.describe()"
   ]
  },
  {
   "cell_type": "code",
   "execution_count": null,
   "metadata": {
    "id": "Rsy_sxOkz3EB"
   },
   "outputs": [],
   "source": [
    "# Dropping highly correlated independent feature 'atemp' from train and test datasets\n",
    "train.drop([\"atemp\"], axis=1, inplace=True)\n",
    "test.drop([\"atemp\"], axis=1, inplace=True)"
   ]
  },
  {
   "cell_type": "code",
   "execution_count": null,
   "metadata": {
    "colab": {
     "base_uri": "https://localhost:8080/"
    },
    "id": "-yX8jdrQz848",
    "outputId": "18f5f54a-3413-4d62-cc86-d1d61fe86d9e"
   },
   "outputs": [],
   "source": [
    "train.info()"
   ]
  },
  {
   "cell_type": "code",
   "execution_count": null,
   "metadata": {
    "colab": {
     "base_uri": "https://localhost:8080/",
     "height": 1000
    },
    "id": "lSngYa_60CvD",
    "outputId": "34d63a4c-6ef4-4fb9-f099-7b180adb0a47"
   },
   "outputs": [],
   "source": [
    "import seaborn as sns\n",
    "import numpy as np\n",
    "import matplotlib.pyplot as plt\n",
    "\n",
    "# Exclude unwanted columns and select only numeric features\n",
    "feature_numeric = [i for i in train.columns if i not in ['casual', 'registered']]\n",
    "corr_data = train[feature_numeric].select_dtypes(include=[np.number])\n",
    "\n",
    "# Calculate the correlation matrix\n",
    "corr_matrix = corr_data.corr()\n",
    "\n",
    "# Create a mask to hide the lower triangle of the correlation matrix\n",
    "corr_mask = np.triu(np.ones_like(corr_matrix, dtype=bool))\n",
    "\n",
    "# Plot the heatmap\n",
    "plt.figure(figsize=(15, 15), dpi=120)\n",
    "sns.heatmap(\n",
    "    corr_matrix,\n",
    "    cmap='RdPu',\n",
    "    cbar_kws={\"shrink\": .5},\n",
    "    vmin=-1, vmax=1, center=0,\n",
    "    square=True,\n",
    "    mask=~corr_mask,\n",
    "    annot=True,\n",
    "    linewidths=0.5,\n",
    "    annot_kws={\"size\": 13}\n",
    ")\n",
    "plt.xticks(fontsize=14, rotation=90)\n",
    "plt.yticks(fontsize=14, rotation=0)\n",
    "plt.title(\"HeatMap: Correlation Matrix\", fontsize=20, fontweight='bold')\n",
    "plt.tight_layout()\n",
    "plt.show()"
   ]
  },
  {
   "cell_type": "markdown",
   "metadata": {
    "id": "Y45uHvcEsvqv"
   },
   "source": [
    "## Step 5: Rerun the model with the same settings as before, just with more features"
   ]
  },
  {
   "cell_type": "code",
   "execution_count": null,
   "metadata": {
    "id": "TpE9wHS2U9uF"
   },
   "outputs": [],
   "source": [
    "eval_metric = 'root_mean_squared_error'\n",
    "label = 'count'\n",
    "ignored_columns = [\"casual\", \"registered\"]   # Ignored columns while training\n",
    "train_data = train                           # 'casual' and 'registered' columns are already dropped/ignored\n",
    "time_limit = 600\n",
    "presets = \"best_quality\""
   ]
  },
  {
   "cell_type": "code",
   "execution_count": null,
   "metadata": {
    "colab": {
     "base_uri": "https://localhost:8080/"
    },
    "id": "HrV7EKQvsvqv",
    "outputId": "7405cc8c-e750-40ac-8639-c07ba2829067"
   },
   "outputs": [],
   "source": [
    "predictor_new_features = TabularPredictor(label=label,\n",
    "                                          problem_type= 'regression',\n",
    "                                          eval_metric=eval_metric,\n",
    "                                          learner_kwargs={'ignored_columns': ignored_columns}).fit(\n",
    "                                                                                           train_data = train_data,\n",
    "                                                                                           time_limit=time_limit,\n",
    "                                                                                           presets=presets)"
   ]
  },
  {
   "cell_type": "code",
   "execution_count": null,
   "metadata": {
    "colab": {
     "base_uri": "https://localhost:8080/"
    },
    "id": "Rgs2a66Asvqw",
    "outputId": "ab0b5f93-667f-4026-bd7e-da10d7cea43d"
   },
   "outputs": [],
   "source": [
    "predictor_new_features.fit_summary()"
   ]
  },
  {
   "cell_type": "code",
   "execution_count": null,
   "metadata": {
    "colab": {
     "base_uri": "https://localhost:8080/",
     "height": 383
    },
    "id": "RDJy2-fGX3vy",
    "outputId": "b82f08a4-1642-4ef7-db42-6cee4b7837d9"
   },
   "outputs": [],
   "source": [
    "leaderboard_new_features_df = pd.DataFrame(predictor_new_features.leaderboard(silent=True))\n",
    "leaderboard_new_features_df"
   ]
  },
  {
   "cell_type": "code",
   "execution_count": null,
   "metadata": {
    "colab": {
     "base_uri": "https://localhost:8080/",
     "height": 760
    },
    "id": "6ni5CJ1XX7HY",
    "outputId": "3a7638de-9f97-4c20-fd82-cb93e60c82a4"
   },
   "outputs": [],
   "source": [
    "import matplotlib.pyplot as plt\n",
    "leaderboard_new_features_df.plot(kind=\"bar\", x=\"model\", y=\"score_val\", figsize=(14, 7))\n",
    "plt.ylabel(\"RMSE Scores\")\n",
    "plt.show()"
   ]
  },
  {
   "cell_type": "code",
   "execution_count": null,
   "metadata": {
    "colab": {
     "base_uri": "https://localhost:8080/",
     "height": 241
    },
    "id": "YChKTS3oYEWv",
    "outputId": "c7421c09-fc0a-4542-8a46-45054d4758c2"
   },
   "outputs": [],
   "source": [
    "predictions_new_features = predictor_new_features.predict(test)\n",
    "predictions_new_features.head()"
   ]
  },
  {
   "cell_type": "code",
   "execution_count": null,
   "metadata": {
    "colab": {
     "base_uri": "https://localhost:8080/",
     "height": 335
    },
    "id": "7lF-hHiUYf3B",
    "outputId": "6b2eb76a-0d84-4190-fa34-60a3d5f0476f"
   },
   "outputs": [],
   "source": [
    "predictions_new_features.describe()"
   ]
  },
  {
   "cell_type": "code",
   "execution_count": null,
   "metadata": {
    "colab": {
     "base_uri": "https://localhost:8080/"
    },
    "id": "H5XDKwz3Ys45",
    "outputId": "1bfee404-eda7-4b78-8bda-553016ddf8f0"
   },
   "outputs": [],
   "source": [
    "negative_pred_count = predictions_new_features.apply(lambda x: 1 if x<0 else 0)\n",
    "\n",
    "pred_pos_count = (negative_pred_count==0).sum()\n",
    "pred_neg_count = (negative_pred_count==1).sum()\n",
    "\n",
    "print(\"Total predictions                :\", len(predictions_new_features.index))\n",
    "print(\"Total positive prediction values :\", pred_pos_count)\n",
    "print(\"Total negative prediction values :\", pred_neg_count)"
   ]
  },
  {
   "cell_type": "code",
   "execution_count": null,
   "metadata": {
    "colab": {
     "base_uri": "https://localhost:8080/"
    },
    "id": "Jhsqvh0AZOJp",
    "outputId": "4b473449-b581-4e86-afba-59e26de38166"
   },
   "outputs": [],
   "source": [
    "predictions_new_features[predictions_new_features<0] = 0    #\n",
    "\n",
    "# Rechecking, if no predictions are less than 0\n",
    "negative_pred_count = predictions_new_features.apply(lambda x: 1 if x<0 else 0)\n",
    "pred_neg_count = (negative_pred_count==1).sum()\n",
    "print(f\"No. of negative predictions: {pred_neg_count}\")\n",
    "print(\"All negative values in the predictions (if any) are set to zero successfully.\")"
   ]
  },
  {
   "cell_type": "code",
   "execution_count": null,
   "metadata": {
    "colab": {
     "base_uri": "https://localhost:8080/",
     "height": 206
    },
    "id": "gXHilGaTbwk4",
    "outputId": "335afb87-4362-44a6-9806-417ae88c9b68"
   },
   "outputs": [],
   "source": [
    "submission_new_features = pd.read_csv('sampleSubmission.csv', parse_dates = ['datetime'])\n",
    "submission_new_features.head()"
   ]
  },
  {
   "cell_type": "code",
   "execution_count": null,
   "metadata": {
    "id": "VXdqrwmisvqw"
   },
   "outputs": [],
   "source": [
    "# Same submitting predictions\n",
    "submission_new_features[\"count\"] = predictions_new_features\n",
    "submission_new_features.to_csv(\"submission_new_features.csv\", index=False)"
   ]
  },
  {
   "cell_type": "code",
   "execution_count": null,
   "metadata": {
    "colab": {
     "base_uri": "https://localhost:8080/"
    },
    "id": "1P3EN7Fxsvqw",
    "outputId": "0d2eacbf-635a-48b9-a432-88eedd439da4"
   },
   "outputs": [],
   "source": [
    "!kaggle competitions submit -c bike-sharing-demand -f submission_new_features.csv -m \"new features\""
   ]
  },
  {
   "cell_type": "code",
   "execution_count": null,
   "metadata": {
    "colab": {
     "base_uri": "https://localhost:8080/"
    },
    "id": "Zv1Xf7JYsvqw",
    "outputId": "e1604d7f-6cfb-44d9-9e5e-c564e13448d9"
   },
   "outputs": [],
   "source": [
    "!kaggle competitions submissions -c bike-sharing-demand | tail -n +1 | head -n 6"
   ]
  },
  {
   "cell_type": "markdown",
   "metadata": {
    "id": "3NgTIYuRsvqw"
   },
   "source": [
    "#### New Score of 0.48747"
   ]
  },
  {
   "cell_type": "markdown",
   "metadata": {
    "id": "_X6RVrMesvqx"
   },
   "source": [
    "## Step 6: Hyper parameter optimization\n",
    "* There are many options for hyper parameter optimization.\n",
    "* Options are to change the AutoGluon higher level parameters or the individual model hyperparameters.\n",
    "* The hyperparameters of the models themselves that are in AutoGluon. Those need the `hyperparameter` and `hyperparameter_tune_kwargs` arguments."
   ]
  },
  {
   "cell_type": "code",
   "execution_count": null,
   "metadata": {
    "id": "XCnJ1LN9cSkQ"
   },
   "outputs": [],
   "source": [
    "eval_metric = 'root_mean_squared_error'\n",
    "label = 'count'\n",
    "ignored_columns = [\"casual\", \"registered\"]\n",
    "train_data = train\n",
    "time_limit = 600\n",
    "presets = \"optimize_for_deployment\""
   ]
  },
  {
   "cell_type": "code",
   "execution_count": null,
   "metadata": {
    "colab": {
     "base_uri": "https://localhost:8080/",
     "height": 1000,
     "referenced_widgets": [
      "62f33d4480164866a86d457c2af443a3",
      "e0a56ff4326c40b9a84cdef2a5504cbc",
      "7be738534ca34b2295a8debebb320cda",
      "f5e8345c4233486fad660ca4bc3347f1",
      "45976d593dd24f9da5cfd6ddd6dd0c18",
      "13ea3d5129ad4b00bf5eb5006da36e6f",
      "a6e2f8c31e2e45f5a73bd61db7679da7",
      "0ea27e7f896044eeb3f24b3b96930655",
      "3416583809984a5a927f4269d9ac685d",
      "23d720a765084003b2fb83c1f355c2db",
      "53546ef8575c4060bad7646da73211ac",
      "0e1e56efded348fbb0c6ed771d3140b7",
      "955c1d7339f946a4963d0b662bf07b4d",
      "2caed6422dd143a4b09cfbe9dfd4ec55",
      "a5a6c611519e4117ba9f2a66bc60e532",
      "242ead3f10db4cd39f7b78bba287b277",
      "8c4a16f925774c269eb2d56513ef1e40",
      "9fc3d54eff154fcaa813551f5b422696",
      "679fda6621f24512a26b4e3cdcdb16b2",
      "55b4e85ca4db41fab725d1cdc405280e",
      "0960f6da38334a778ffe66790738f402",
      "994de4b7606641298fe134c15d480f63"
     ]
    },
    "id": "kSus5iH4dyyP",
    "outputId": "768d4053-7e36-40c7-f984-894d6dcb2762"
   },
   "outputs": [],
   "source": [
    "from autogluon.tabular import TabularPredictor\n",
    "\n",
    "# General settings\n",
    "label = 'count'\n",
    "ignored_columns = ['casual', 'registered']\n",
    "time_limit = 600  # Maximum training time in seconds (10 minutes)\n",
    "presets = 'optimize_for_deployment'\n",
    "\n",
    "# Define full model configurations and hyperparameters (no shorthand strings)\n",
    "hyperparameters = {\n",
    "    'GBM': [\n",
    "        {\n",
    "            'extra_trees': True,\n",
    "            'num_boost_round': 100,\n",
    "            'num_leaves': 36,\n",
    "            'ag_args': {'name_suffix': 'XT'}\n",
    "        },\n",
    "        {},  # Default GBM settings\n",
    "        {\n",
    "            'learning_rate': 0.03,\n",
    "            'num_leaves': 128,\n",
    "            'feature_fraction': 0.9,\n",
    "            'min_data_in_leaf': 3,\n",
    "            'ag_args': {'name_suffix': 'Large', 'priority': 0}\n",
    "        }\n",
    "    ],\n",
    "    'NN_TORCH': {\n",
    "        'num_epochs': 5,\n",
    "        'learning_rate': [1e-4, 5e-4, 1e-3],\n",
    "        'activation': ['relu', 'softrelu', 'tanh'],\n",
    "        'dropout_prob': [0.0, 0.1, 0.3]\n",
    "    }\n",
    "}\n",
    "\n",
    "# Hyperparameter tuning configuration\n",
    "hyperparameter_tune_kwargs = {\n",
    "    'num_trials': 20,\n",
    "    'scheduler': 'local',\n",
    "    'searcher': 'auto'\n",
    "}\n",
    "\n",
    "# Train the model\n",
    "predictor_new_hpo = TabularPredictor(\n",
    "    label=label,\n",
    "    problem_type='regression',\n",
    "    eval_metric='root_mean_squared_error',\n",
    "    learner_kwargs={'ignored_columns': ignored_columns}\n",
    ").fit(\n",
    "    train_data=train,\n",
    "    time_limit=time_limit,\n",
    "    presets=presets,\n",
    "    hyperparameters=hyperparameters,\n",
    "    hyperparameter_tune_kwargs=hyperparameter_tune_kwargs,\n",
    "    refit_full='best'\n",
    ")\n",
    "\n",
    "# Show leaderboard\n",
    "predictor_new_hpo.leaderboard(silent=True)\n"
   ]
  },
  {
   "cell_type": "code",
   "execution_count": null,
   "metadata": {
    "colab": {
     "base_uri": "https://localhost:8080/"
    },
    "id": "fOSg7ctosvqy",
    "outputId": "46bdb209-d192-4c0c-962c-9dec534a9dda"
   },
   "outputs": [],
   "source": [
    "predictor_new_hpo.fit_summary()"
   ]
  },
  {
   "cell_type": "code",
   "execution_count": null,
   "metadata": {
    "colab": {
     "base_uri": "https://localhost:8080/",
     "height": 163
    },
    "id": "uD2YaKrN0un9",
    "outputId": "2978011a-68c1-426d-b788-806d760dcad4"
   },
   "outputs": [],
   "source": [
    "leaderboard_new_hpo_df = pd.DataFrame(predictor_new_hpo.leaderboard(silent=True))\n",
    "leaderboard_new_hpo_df"
   ]
  },
  {
   "cell_type": "code",
   "execution_count": null,
   "metadata": {
    "colab": {
     "base_uri": "https://localhost:8080/",
     "height": 691
    },
    "id": "3It7ZGCC0xSg",
    "outputId": "61f87266-72fd-4492-c5a9-765877eba1c2"
   },
   "outputs": [],
   "source": [
    "import matplotlib.pyplot as plt\n",
    "leaderboard_new_hpo_df.plot(kind=\"bar\", x=\"model\", y=\"score_val\", figsize=(12, 6))\n",
    "plt.ylabel(\"RMSE Scores\")\n",
    "plt.show()"
   ]
  },
  {
   "cell_type": "code",
   "execution_count": null,
   "metadata": {
    "colab": {
     "base_uri": "https://localhost:8080/",
     "height": 241
    },
    "id": "X9MNek72o9IR",
    "outputId": "2b3f2356-354e-4293-d5bb-d0a209ba1654"
   },
   "outputs": [],
   "source": [
    "predictions_new_hpo = predictor_new_hpo.predict(test)\n",
    "predictions_new_hpo.head()"
   ]
  },
  {
   "cell_type": "code",
   "execution_count": null,
   "metadata": {
    "colab": {
     "base_uri": "https://localhost:8080/",
     "height": 335
    },
    "id": "xaFfEdZ9pJGN",
    "outputId": "d277b6e9-34f1-4da9-fddb-0f2335058d32"
   },
   "outputs": [],
   "source": [
    "predictions_new_hpo.describe()"
   ]
  },
  {
   "cell_type": "code",
   "execution_count": null,
   "metadata": {
    "colab": {
     "base_uri": "https://localhost:8080/"
    },
    "id": "NSB-80YIpOem",
    "outputId": "59508b8d-1c7b-487d-91d9-6c7e07ee798d"
   },
   "outputs": [],
   "source": [
    "negative_pred_count = predictions_new_hpo.apply(lambda x: 1 if x<0 else 0)\n",
    "\n",
    "pred_pos_count = (negative_pred_count==0).sum()\n",
    "pred_neg_count = (negative_pred_count==1).sum()\n",
    "\n",
    "print(\"Total predictions                :\", len(predictions_new_hpo.index))\n",
    "print(\"Total positive prediction values :\", pred_pos_count)\n",
    "print(\"Total negative prediction values :\", pred_neg_count)"
   ]
  },
  {
   "cell_type": "code",
   "execution_count": null,
   "metadata": {
    "colab": {
     "base_uri": "https://localhost:8080/"
    },
    "id": "Zaer3PaipXAG",
    "outputId": "669b1c4f-80dc-4e23-a47b-e4a6fb54e11e"
   },
   "outputs": [],
   "source": [
    "predictions_new_hpo[predictions_new_hpo<0] = 0\n",
    "\n",
    "# Rechecking, if no predictions are less than 0\n",
    "negative_pred_count = predictions_new_hpo.apply(lambda x: 1 if x<0 else 0)\n",
    "pred_neg_count = (negative_pred_count==1).sum()\n",
    "print(f\"No. of negative predictions: {pred_neg_count}\")\n",
    "print(\"All negative values in the predictions (if any) are set to zero successfully.\")"
   ]
  },
  {
   "cell_type": "code",
   "execution_count": null,
   "metadata": {
    "colab": {
     "base_uri": "https://localhost:8080/",
     "height": 206
    },
    "id": "lb9Dh_yPp1lM",
    "outputId": "638a056f-3013-4d57-d111-1252328142c1"
   },
   "outputs": [],
   "source": [
    "submission_new_hpo = pd.read_csv('sampleSubmission.csv', parse_dates = ['datetime'])\n",
    "submission_new_hpo.head()"
   ]
  },
  {
   "cell_type": "code",
   "execution_count": null,
   "metadata": {
    "id": "wKWaWBAQsvqz"
   },
   "outputs": [],
   "source": [
    "# Same submitting predictions\n",
    "submission_new_hpo[\"count\"] = predictions_new_hpo\n",
    "submission_new_hpo.to_csv(\"submission_new_hpo.csv\", index=False)"
   ]
  },
  {
   "cell_type": "code",
   "execution_count": null,
   "metadata": {
    "colab": {
     "base_uri": "https://localhost:8080/"
    },
    "id": "uPQCs838svqz",
    "outputId": "b0a16aa9-efd7-4111-accf-0e3f14f87975"
   },
   "outputs": [],
   "source": [
    "!kaggle competitions submit -c bike-sharing-demand -f submission_new_hpo.csv -m \"new features with hyperparameters\""
   ]
  },
  {
   "cell_type": "code",
   "execution_count": null,
   "metadata": {
    "colab": {
     "base_uri": "https://localhost:8080/"
    },
    "id": "WgGEg-R9svqz",
    "outputId": "b6cdcec1-2340-4555-e555-018be38b810b"
   },
   "outputs": [],
   "source": [
    "!kaggle competitions submissions -c bike-sharing-demand | tail -n +1 | head -n 6"
   ]
  },
  {
   "cell_type": "markdown",
   "metadata": {
    "id": "nS__wS8z_DK8"
   },
   "source": [
    "Submisson new hpo: 0.54715"
   ]
  },
  {
   "cell_type": "code",
   "execution_count": null,
   "metadata": {
    "id": "MRVWoZV-08ex"
   },
   "outputs": [],
   "source": [
    "#next hyperparameter optimization\n",
    "eval_metric = 'root_mean_squared_error'\n",
    "label = 'count'\n",
    "ignored_columns = [\"casual\", \"registered\"]\n",
    "train_data = train\n",
    "time_limit = 600\n",
    "presets = \"optimize_for_deployment\""
   ]
  },
  {
   "cell_type": "code",
   "execution_count": null,
   "metadata": {
    "colab": {
     "base_uri": "https://localhost:8080/",
     "height": 1000,
     "referenced_widgets": [
      "63fa888a25ff47a79227137ddf97f2b4",
      "46aa0ffb4af849e9b611bff8e6155574",
      "f76f214219664e0d990118bd734521ff",
      "bee5d25f573b44c38abbe5da90054c15",
      "b06c4e5e95cc4fc1b4f556ae92b8d78e",
      "c9049392486c443dbca018c1268809a0",
      "d62a785deaf846f1a591b2aef6020e6f",
      "04824f0881d5450f8621b74bbb187685",
      "d9cbadf6979c4f2c99d5f1f954ef243a",
      "b5d865fba4ec439eb25154dce2cab833",
      "c31dece26bc64d1083e6ddcf3f641681",
      "827be64a9c4147b3920adec944691435",
      "af7d89b7efc3402099eb7de16a4f6afb",
      "cb420479b9d243edaabcfdd3148ae79c",
      "cfcd8055353c4626b3ac88996e16bb8e",
      "0e710af475ad4aefae2ca79d64541f64",
      "c0d06909dd73406ab2a967fa917f9d78",
      "c8eede6953ba46a687af79f92fd490ff",
      "6b96ebe1f7fe41378c63cef7763e039b",
      "f099c7140dab4f02b1f662f2471e5b79",
      "224461a81326463cbe06d39e74f52f63",
      "804784236cdb4f66814b28d2f198a982",
      "ea48d020055442d4afd245b5eb515410",
      "ebfc32d6409c499fbd0e258b3dcfd148",
      "76592c2856de45b98219efea5f8a1bfe",
      "b73c2649c9bd43a9bda3196f473b018f",
      "754cbc461ccc478191f7461bd24159e0",
      "48761c2046684c5a83ad6566ce914061",
      "0afd8d89d3d549dab67648e96e5673e3",
      "de21f6084f9f4289bb2aa83a8c70334a",
      "0577da42032c4722bd0b5f8574a7e241",
      "de627b3ca295447e908127eefd71f219",
      "4cecee8d13c94a17b8e07868b4267af9"
     ]
    },
    "id": "X_QTpTAA1FtL",
    "outputId": "40aa0990-cf74-49e4-e279-482aed4d3350"
   },
   "outputs": [],
   "source": [
    "from autogluon.tabular import TabularPredictor\n",
    "\n",
    "excluded_model_types = ['NN_TORCH']\n",
    "\n",
    "# General settings\n",
    "label = 'count'\n",
    "ignored_columns = ['casual', 'registered']\n",
    "time_limit = 600  # Maximum training time in seconds (10 minutes)\n",
    "presets = 'optimize_for_deployment'\n",
    "\n",
    "# Define full model configurations and hyperparameters (no shorthand strings)\n",
    "hyperparameters = {\n",
    "    'GBM': [\n",
    "        {\n",
    "            'extra_trees': True,\n",
    "            'num_boost_round': 100,\n",
    "            'num_leaves': 36,\n",
    "            'ag_args': {'name_suffix': 'XT'}\n",
    "        },\n",
    "        {},\n",
    "        {\n",
    "            'learning_rate': 0.03,\n",
    "            'num_leaves': 128,\n",
    "            'feature_fraction': 0.9,\n",
    "            'min_data_in_leaf': 3,\n",
    "            'ag_args': {'name_suffix': 'Large', 'priority': 0}\n",
    "        }\n",
    "    ],\n",
    "    'XT' : [\n",
    "        {\n",
    "            'criterion': 'squared_error', 'ag_args': {'name_suffix': 'MSE', 'problem_types': ['regression']}\n",
    "        }\n",
    "    ],\n",
    "    'XGB' : [\n",
    "        {\n",
    "            'objective': 'reg:squarederror',\n",
    "            'eval_metric': 'rmse',\n",
    "            'max_depth' : 6,\n",
    "            'n_estimators' : 100,\n",
    "            'eta': 0.3,\n",
    "            'subsample': 1,\n",
    "            'colsample_bytree': 1\n",
    "        }\n",
    "    ]\n",
    "    }\n",
    "\n",
    "\n",
    "# Hyperparameter tuning configuration\n",
    "hyperparameter_tune_kwargs = {\n",
    "    'num_trials': 20,\n",
    "    'scheduler': 'local',\n",
    "    'searcher': 'auto'\n",
    "}\n",
    "\n",
    "# Train the model\n",
    "predictor_new_hpo1 = TabularPredictor(\n",
    "    label=label,\n",
    "    problem_type='regression',\n",
    "    eval_metric='root_mean_squared_error',\n",
    "    learner_kwargs={'ignored_columns': ignored_columns}\n",
    ").fit(\n",
    "    train_data=train,\n",
    "    time_limit=time_limit,\n",
    "    presets=presets,\n",
    "    hyperparameters=hyperparameters,\n",
    "    hyperparameter_tune_kwargs=hyperparameter_tune_kwargs,\n",
    "    refit_full='best'\n",
    ")\n",
    "\n",
    "# Show leaderboard\n",
    "predictor_new_hpo1.leaderboard(silent=True)\n"
   ]
  },
  {
   "cell_type": "code",
   "execution_count": null,
   "metadata": {
    "colab": {
     "base_uri": "https://localhost:8080/"
    },
    "id": "davvAsV0JBmp",
    "outputId": "1dd1ae6b-9a97-4443-d1c6-91ec834bcd03"
   },
   "outputs": [],
   "source": [
    "predictor_new_hpo1.fit_summary()"
   ]
  },
  {
   "cell_type": "code",
   "execution_count": null,
   "metadata": {
    "colab": {
     "base_uri": "https://localhost:8080/",
     "height": 195
    },
    "id": "LSHmVjWOKLfK",
    "outputId": "06d710ba-3688-4c4c-9238-8ff808a92348"
   },
   "outputs": [],
   "source": [
    "leaderboard_new_hpo1_df = pd.DataFrame(predictor_new_hpo1.leaderboard(silent=True))\n",
    "leaderboard_new_hpo1_df"
   ]
  },
  {
   "cell_type": "code",
   "execution_count": null,
   "metadata": {
    "colab": {
     "base_uri": "https://localhost:8080/",
     "height": 691
    },
    "id": "iXLWex2BKONg",
    "outputId": "fd9c7f88-4d77-4027-94df-6b4cba5b9ba9"
   },
   "outputs": [],
   "source": [
    "import matplotlib.pyplot as plt\n",
    "leaderboard_new_hpo1_df.plot(kind=\"bar\", x=\"model\", y=\"score_val\", figsize=(12, 6))\n",
    "plt.ylabel(\"RMSE Scores\")\n",
    "plt.show()\n"
   ]
  },
  {
   "cell_type": "code",
   "execution_count": null,
   "metadata": {
    "id": "O9uFg6XnKcga"
   },
   "outputs": [],
   "source": [
    "# Load test data\n",
    "test = pd.read_csv(\"test.csv\")\n",
    "\n",
    "# Preserve 'datetime' column before dropping or modifying\n",
    "test['datetime'] = pd.to_datetime(test['datetime'])\n",
    "\n",
    "# Reapply the feature engineering steps to the test DataFrame\n",
    "test[\"year\"] = test[\"datetime\"].dt.year\n",
    "test[\"month\"] = test[\"datetime\"].dt.month\n",
    "test[\"day\"] = test[\"datetime\"].dt.dayofweek\n",
    "test[\"hour\"] = test[\"datetime\"].dt.hour\n",
    "test.drop([\"datetime\"], axis=1, inplace=True)\n",
    "\n",
    "test[\"season\"] = test[\"season\"].astype(\"category\")\n",
    "test[\"weather\"] = test[\"weather\"].astype(\"category\")\n",
    "\n",
    "test[\"day_type\"]=\"\"\n",
    "test.loc[(test.holiday==1),\"day_type\"] = \"holiday\"\n",
    "test.loc[((test.holiday==0) & (test.workingday==1)), \"day_type\"] = \"weekday\"\n",
    "test.loc[((test.holiday==0) & (test.workingday==0)), \"day_type\"] = \"weekend\"\n",
    "test[\"day_type\"] = test[\"day_type\"].astype(\"category\")\n",
    "\n",
    "# Drop the 'atemp' column as it was dropped from the training data\n",
    "test.drop([\"atemp\"], axis=1, inplace=True)"
   ]
  },
  {
   "cell_type": "code",
   "execution_count": null,
   "metadata": {
    "colab": {
     "base_uri": "https://localhost:8080/",
     "height": 241
    },
    "id": "XzaL9JcTKTGf",
    "outputId": "004837ff-b2f0-4035-fc3e-10c0ffbe095f"
   },
   "outputs": [],
   "source": [
    "predictions_new_hpo1 = predictor_new_hpo1.predict(test)\n",
    "predictions_new_hpo1.head()"
   ]
  },
  {
   "cell_type": "code",
   "execution_count": null,
   "metadata": {
    "colab": {
     "base_uri": "https://localhost:8080/",
     "height": 335
    },
    "id": "pTZlvszfOwa4",
    "outputId": "a3dbf2e7-ae0f-43d4-f092-c7dd8281c8fb"
   },
   "outputs": [],
   "source": [
    "predictions_new_hpo1.describe()"
   ]
  },
  {
   "cell_type": "code",
   "execution_count": null,
   "metadata": {
    "colab": {
     "base_uri": "https://localhost:8080/"
    },
    "id": "2jN287etO4TM",
    "outputId": "ce47695d-618e-44cf-e02b-4f11f7934191"
   },
   "outputs": [],
   "source": [
    "negative_pred_count = predictions_new_hpo1.apply(lambda x: 1 if x<0 else 0)\n",
    "\n",
    "pred_pos_count = (negative_pred_count==0).sum()\n",
    "pred_neg_count = (negative_pred_count==1).sum()\n",
    "\n",
    "print(\"Total predictions                :\", len(predictions_new_hpo1.index))\n",
    "print(\"Total positive prediction values :\", pred_pos_count)\n",
    "print(\"Total negative prediction values :\", pred_neg_count)"
   ]
  },
  {
   "cell_type": "code",
   "execution_count": null,
   "metadata": {
    "colab": {
     "base_uri": "https://localhost:8080/"
    },
    "id": "QkwcWn49PAfD",
    "outputId": "455b878a-b795-4e2c-cc9c-d2671d1eee54"
   },
   "outputs": [],
   "source": [
    "predictions_new_hpo1[predictions_new_hpo1<0] = 0\n",
    "# Rechecking, if no predictions are less than 0\n",
    "negative_pred_count = predictions_new_hpo1.apply(lambda x: 1 if x<0 else 0)\n",
    "pred_neg_count = (negative_pred_count==1).sum()\n",
    "print(f\"No.of negative predictions: {pred_neg_count}\")\n",
    "print(\"All negative values in the predictions (if any) are set to zero successfully.\")"
   ]
  },
  {
   "cell_type": "code",
   "execution_count": null,
   "metadata": {
    "colab": {
     "base_uri": "https://localhost:8080/",
     "height": 206
    },
    "id": "OndOLZ1mPIcM",
    "outputId": "44c80c52-eeca-4106-ed87-813c503091b7"
   },
   "outputs": [],
   "source": [
    "submission_new_hpo1 = pd.read_csv('sampleSubmission.csv', parse_dates = ['datetime'])\n",
    "submission_new_hpo1.head()"
   ]
  },
  {
   "cell_type": "code",
   "execution_count": null,
   "metadata": {
    "id": "HvNKuihZPNWL"
   },
   "outputs": [],
   "source": [
    "# Same submitting predictions\n",
    "submission_new_hpo1[\"count\"] = predictions_new_hpo1\n",
    "submission_new_hpo1.to_csv(\"submission_new_hpo1.csv\", index=False)"
   ]
  },
  {
   "cell_type": "markdown",
   "metadata": {
    "id": "eDOWiDpBsvq0"
   },
   "source": [
    "#### New Score of `?`"
   ]
  },
  {
   "cell_type": "code",
   "execution_count": null,
   "metadata": {
    "colab": {
     "base_uri": "https://localhost:8080/"
    },
    "id": "DHGkAaE_PQ4F",
    "outputId": "c4fd910e-a5cf-441a-b1af-48345b34b770"
   },
   "outputs": [],
   "source": [
    "!kaggle competitions submit -c bike-sharing-demand -f submission_new_hpo1.csv -m \"new features with hyperparameters 1\""
   ]
  },
  {
   "cell_type": "code",
   "execution_count": null,
   "metadata": {
    "colab": {
     "base_uri": "https://localhost:8080/"
    },
    "id": "Ie1AwXUtPWXE",
    "outputId": "49aaaf3b-1cd6-41b1-da0b-8a7d6949cf74"
   },
   "outputs": [],
   "source": [
    "!kaggle competitions submissions -c bike-sharing-demand | tail -n +1 | head -n 6"
   ]
  },
  {
   "cell_type": "markdown",
   "metadata": {
    "id": "Ot3WH4EMPfCO"
   },
   "source": [
    "New score of: 0.51152"
   ]
  },
  {
   "cell_type": "code",
   "execution_count": null,
   "metadata": {
    "id": "mM_6Ai4sPrcL"
   },
   "outputs": [],
   "source": [
    "# Requirements: (Same settings as initial run) For AutoGluon's Tabular Predictions\n",
    "eval_metric = 'root_mean_squared_error'\n",
    "label = 'count'\n",
    "ignored_columns = [\"casual\", \"registered\"]\n",
    "train_data = train\n",
    "time_limit = 600\n",
    "presets = \"optimize_for_deployment\""
   ]
  },
  {
   "cell_type": "code",
   "execution_count": null,
   "metadata": {
    "colab": {
     "base_uri": "https://localhost:8080/",
     "height": 1000,
     "referenced_widgets": [
      "8df9864dcd70499e89ea2a72b64b06d6",
      "e693b92397394581b757dd1eef0653c3",
      "8829adffd4d1488892fe166aa3cb03c5",
      "ff771a374e9c4e7b8eeaec9ccecb9c0c",
      "d2b917c25bc64efa9cfacdb751da7dea",
      "93bdae1cc38a489ebc24a424c3de8c43",
      "9ff6a9818c5445b697d6effdb2371796",
      "f542a37f5a0e48b283c22c781a3afd66",
      "63b5369c1e2c41f3b0eb49233d96d044",
      "c60ab272fc154eaab4699393d45343ba",
      "0369e68ab1ec4d37ae16abe1118c15a9",
      "35528feb4da443e2b7342b6b87ecd1a2",
      "df266d38de8a454293f01d7eddaa581e",
      "0c84e0fc83294c97b5926b42d15a0d8b",
      "24c35e18caea4330ba33ef3e69de2600",
      "0cce917ab4f548548de2bcb2315b04de",
      "72ef6ceba0184ff4bec5ea5950258ef0",
      "e957b9f4b4094945823439c3b3af9d55",
      "0ce036d501dd4c25874fa7b4135f87bd",
      "d0bcdc327c8d4605a8624c8687ef29e1",
      "6019012c4ce44fdfa86ba16fd9117a08",
      "d033b184819a4ddbb0fc693041af3c18",
      "46dc720d85a44cb3afdfe12547da87da",
      "4dfa54ef970a48889ac6dbba0d9122d8",
      "d31a566e6d484d3492e186dbe0030a36",
      "9971320eb12a4d4285b75ab8e79378a7",
      "0e92f2a03d6345019149bfb220e0f67e",
      "f2b80c6125214fca86b5bf0aa0eb5b5e",
      "d8b31caca697431aa9f9caa977ba5250",
      "e7710100e7be47e58e54b0fe16feb3f2",
      "e05115b4f60242f695701d4fb2431849",
      "fbb1461b03b046019a0c1f5f9c99f1a9",
      "48c7dacbbcd64549bd1cc0e4e64c1b45"
     ]
    },
    "id": "XIUaRIPxPx_1",
    "outputId": "a290683f-594a-4fe5-90ca-dd075caa86c9"
   },
   "outputs": [],
   "source": [
    "from autogluon.tabular import TabularPredictor\n",
    "\n",
    "excluded_model_types = ['NN_TORCH']\n",
    "\n",
    "# General settings\n",
    "label = 'count'\n",
    "ignored_columns = ['casual', 'registered']\n",
    "time_limit = 600  # Maximum training time in seconds (10 minutes)\n",
    "presets = 'optimize_for_deployment'\n",
    "\n",
    "# Define full model configurations and hyperparameters (no shorthand strings)\n",
    "hyperparameters = {\n",
    "    'GBM': [\n",
    "        {\n",
    "            'extra_trees': True,\n",
    "            'num_boost_round': 100,\n",
    "            'num_leaves': 36,\n",
    "            'ag_args': {'name_suffix': 'XT'}\n",
    "        },\n",
    "        {},\n",
    "        {\n",
    "            'learning_rate': 0.03,\n",
    "            'num_leaves': 128,\n",
    "            'feature_fraction': 0.9,\n",
    "            'min_data_in_leaf': 3,\n",
    "            'ag_args': {'name_suffix': 'Large', 'priority': 0}\n",
    "        }\n",
    "    ],\n",
    "    'XT' : [\n",
    "        {\n",
    "            'criterion': 'squared_error', 'ag_args': {'name_suffix': 'MSE', 'problem_types': ['regression']}\n",
    "        }\n",
    "    ],\n",
    "    'XGB' : [\n",
    "        {\n",
    "            'objective': 'reg:squarederror',\n",
    "            'eval_metric': 'rmse',\n",
    "            'max_depth' : 6,\n",
    "            'n_estimators' : 100,\n",
    "            'eta': 0.3,\n",
    "            'subsample': 1,\n",
    "            'colsample_bytree': 1\n",
    "        }\n",
    "    ],\n",
    "    'RF' : [\n",
    "        {\n",
    "            'criterion': 'squared_error',\n",
    "            'ag_args': {'name_suffix': 'MSE', 'problem_types': ['regression']}\n",
    "        }\n",
    "    ],\n",
    "    'KNN' : [\n",
    "        {\n",
    "            'weights': 'uniform', 'ag_args': {'name_suffix': 'Uniform'}},\n",
    "               {'weights': 'distance', 'ag_args': {'name_suffix': 'Distance'}\n",
    "        }\n",
    "    ]\n",
    "    }\n",
    "\n",
    "\n",
    "# Hyperparameter tuning configuration\n",
    "hyperparameter_tune_kwargs = {\n",
    "    'num_trials': 20,\n",
    "    'scheduler': 'local',\n",
    "    'searcher': 'auto'\n",
    "}\n",
    "\n",
    "# Train the model\n",
    "predictor_new_hpo2 = TabularPredictor(\n",
    "    label=label,\n",
    "    problem_type='regression',\n",
    "    eval_metric='root_mean_squared_error',\n",
    "    learner_kwargs={'ignored_columns': ignored_columns}\n",
    ").fit(\n",
    "    train_data=train,\n",
    "    time_limit=time_limit,\n",
    "    presets=presets,\n",
    "    hyperparameters=hyperparameters,\n",
    "    hyperparameter_tune_kwargs=hyperparameter_tune_kwargs,\n",
    "    refit_full='best'\n",
    ")\n",
    "\n",
    "# Show leaderboard\n",
    "predictor_new_hpo2.leaderboard(silent=True)"
   ]
  },
  {
   "cell_type": "code",
   "execution_count": null,
   "metadata": {
    "colab": {
     "base_uri": "https://localhost:8080/"
    },
    "id": "bOrehVO4RdUF",
    "outputId": "c5ef9bb3-6dbf-49b7-87dd-3dc31e96f08c"
   },
   "outputs": [],
   "source": [
    "predictor_new_hpo2.fit_summary()"
   ]
  },
  {
   "cell_type": "code",
   "execution_count": null,
   "metadata": {
    "colab": {
     "base_uri": "https://localhost:8080/",
     "height": 163
    },
    "id": "6VlKigh9Rgf9",
    "outputId": "9a3730d4-baf5-442f-a79c-f0731fcc847e"
   },
   "outputs": [],
   "source": [
    "# Leaderboard dataframe\n",
    "leaderboard_new_hpo2_df = pd.DataFrame(predictor_new_hpo2.leaderboard(silent=True))\n",
    "leaderboard_new_hpo2_df"
   ]
  },
  {
   "cell_type": "code",
   "execution_count": null,
   "metadata": {
    "colab": {
     "base_uri": "https://localhost:8080/",
     "height": 691
    },
    "id": "tOrHZsWNRjWP",
    "outputId": "6a2ddb5d-bcf2-4716-9e6a-7bd83020471d"
   },
   "outputs": [],
   "source": [
    "import matplotlib.pyplot as plt\n",
    "leaderboard_new_hpo2_df.plot(kind=\"bar\", x=\"model\", y=\"score_val\", figsize=(12, 6))\n",
    "plt.ylabel(\"RMSE Scores\")\n",
    "plt.show()"
   ]
  },
  {
   "cell_type": "code",
   "execution_count": null,
   "metadata": {
    "colab": {
     "base_uri": "https://localhost:8080/",
     "height": 241
    },
    "id": "5PRW0_-HRmwE",
    "outputId": "f5b38932-f380-4111-9bed-f46694418520"
   },
   "outputs": [],
   "source": [
    "predictions_new_hpo2 = predictor_new_hpo2.predict(test)\n",
    "predictions_new_hpo2.head()"
   ]
  },
  {
   "cell_type": "code",
   "execution_count": null,
   "metadata": {
    "colab": {
     "base_uri": "https://localhost:8080/",
     "height": 335
    },
    "id": "YpbG1f5AR3eD",
    "outputId": "088dcec2-94c0-47c7-9ee7-70caddc97b5e"
   },
   "outputs": [],
   "source": [
    "predictions_new_hpo2.describe()"
   ]
  },
  {
   "cell_type": "code",
   "execution_count": null,
   "metadata": {
    "colab": {
     "base_uri": "https://localhost:8080/"
    },
    "id": "Xhii6TeGR5lk",
    "outputId": "223fcb7a-a7f5-4911-d73f-a04e73f73657"
   },
   "outputs": [],
   "source": [
    "negative_pred_count = predictions_new_hpo2.apply(lambda x: 1 if x<0 else 0)\n",
    "\n",
    "pred_pos_count = (negative_pred_count==0).sum()\n",
    "pred_neg_count = (negative_pred_count==1).sum()\n",
    "\n",
    "print(\"Total predictions                :\", len(predictions_new_hpo2.index))\n",
    "print(\"Total positive prediction values :\", pred_pos_count)\n",
    "print(\"Total negative prediction values :\", pred_neg_count)"
   ]
  },
  {
   "cell_type": "code",
   "execution_count": null,
   "metadata": {
    "colab": {
     "base_uri": "https://localhost:8080/"
    },
    "id": "o071Bb3USAFy",
    "outputId": "ae8d2c0a-391f-4012-ce4f-434a8b5f4fa9"
   },
   "outputs": [],
   "source": [
    "predictions_new_hpo2[predictions_new_hpo2<0] = 0\n",
    "\n",
    "# Rechecking, if no predictions are less than 0\n",
    "negative_pred_count = predictions_new_hpo2.apply(lambda x: 1 if x<0 else 0)\n",
    "pred_neg_count = (negative_pred_count==1).sum()\n",
    "print(f\"No. of negative predictions: {pred_neg_count}\")\n",
    "print(\"All negative values in the predictions (if any) are set to zero successfully.\")"
   ]
  },
  {
   "cell_type": "code",
   "execution_count": null,
   "metadata": {
    "colab": {
     "base_uri": "https://localhost:8080/",
     "height": 206
    },
    "id": "vwbfuWuTSCqL",
    "outputId": "8290a924-b5f8-4433-e5f5-e5d8830c4e30"
   },
   "outputs": [],
   "source": [
    "# Same thing as train and test dataset\n",
    "submission_new_hpo2 = pd.read_csv('sampleSubmission.csv', parse_dates = ['datetime'])\n",
    "submission_new_hpo2.head()"
   ]
  },
  {
   "cell_type": "code",
   "execution_count": null,
   "metadata": {
    "id": "AfBIp39vSGGK"
   },
   "outputs": [],
   "source": [
    "# Same submitting predictions\n",
    "submission_new_hpo2[\"count\"] = predictions_new_hpo2\n",
    "submission_new_hpo2.to_csv(\"submission_new_hpo2.csv\", index=False)"
   ]
  },
  {
   "cell_type": "code",
   "execution_count": null,
   "metadata": {
    "colab": {
     "base_uri": "https://localhost:8080/"
    },
    "id": "5FldqrS_SJNx",
    "outputId": "4cffa68c-cb31-4574-9373-63ad0922dda7"
   },
   "outputs": [],
   "source": [
    "!kaggle competitions submit -c bike-sharing-demand -f submission_new_hpo2.csv -m \"new features with hyperparameters 2\""
   ]
  },
  {
   "cell_type": "code",
   "execution_count": null,
   "metadata": {
    "colab": {
     "base_uri": "https://localhost:8080/"
    },
    "id": "6Q0S3BJySNfq",
    "outputId": "ec65dfd8-2584-49b5-d510-16ea951e9195"
   },
   "outputs": [],
   "source": [
    "!kaggle competitions submissions -c bike-sharing-demand | tail -n +1 | head -n 7"
   ]
  },
  {
   "cell_type": "markdown",
   "metadata": {
    "id": "VCKE7gqFSaCK"
   },
   "source": [
    "New score of 0.51464       "
   ]
  },
  {
   "cell_type": "markdown",
   "metadata": {
    "id": "zUkFxu3psvq0"
   },
   "source": [
    "## Step 7: Write a Report\n",
    "### Refer to the markdown file for the full report\n",
    "### Creating plots and table for report"
   ]
  },
  {
   "cell_type": "code",
   "execution_count": null,
   "metadata": {
    "id": "qdxBXhYAT7xq"
   },
   "outputs": [],
   "source": []
  },
  {
   "cell_type": "code",
   "execution_count": null,
   "metadata": {
    "colab": {
     "base_uri": "https://localhost:8080/",
     "height": 542
    },
    "id": "2EJ17Scdsvq0",
    "outputId": "4e9b9471-93b3-48ed-cf96-75bbc7207526"
   },
   "outputs": [],
   "source": [
    "# Taking the top model score from each training run and creating a line plot to show improvement\n",
    "# You can create these in the notebook and save them to PNG or use some other tool (e.g. google sheets, excel)\n",
    "fig = pd.DataFrame(\n",
    "    {\n",
    "        \"model\": [\"initial\", \"add_features\", \"hpo\", \"hpo1\", \"hpo2\"],\n",
    "        \"score\": [55.036685 ,34.382987 ,38.058735 ,37.797224, 37.830584]\n",
    "    }\n",
    ").plot(x=\"model\", y=\"score\", figsize=(8, 6)).get_figure()\n",
    "fig.savefig('model_train_score.png')"
   ]
  },
  {
   "cell_type": "code",
   "execution_count": null,
   "metadata": {
    "colab": {
     "base_uri": "https://localhost:8080/",
     "height": 542
    },
    "id": "RkjKT64tsvq1",
    "outputId": "7c12657c-c151-46ca-8ba9-fc32a2f6de57"
   },
   "outputs": [],
   "source": [
    "# Take the 3 kaggle scores and creating a line plot to show improvement\n",
    "fig = pd.DataFrame(\n",
    "    {\n",
    "        \"test_eval\": [\"initial\", \"add_features\", \"hpo\", \"hpo1\", \"hpo2\"],\n",
    "        \"score\": [1.83835, 0.48747, 0.54715, 0.51152, 0.51464]\n",
    "    }\n",
    ").plot(x=\"test_eval\", y=\"score\", figsize=(8, 6)).get_figure()\n",
    "fig.savefig('model_test_score.png')"
   ]
  },
  {
   "cell_type": "markdown",
   "metadata": {
    "id": "6TRA7_wysvq1"
   },
   "source": [
    "### Hyperparameter table"
   ]
  },
  {
   "cell_type": "code",
   "execution_count": null,
   "metadata": {
    "colab": {
     "base_uri": "https://localhost:8080/",
     "height": 143
    },
    "id": "AdlWIMzRsvq1",
    "outputId": "4dd62351-bd99-4116-fd46-a8de104fadc2"
   },
   "outputs": [],
   "source": [
    "# The 3 hyperparameters we tuned with the kaggle score as the result\n",
    "pd.DataFrame({\n",
    "    \"model\": [\"initial\", \"add_features\", \"hpo\"],\n",
    "    \"hpo1\": [\"prescribed_values\", \"prescribed_values\", \"Tree-Based Models: (GBM, XT, XGB & RF)\"],\n",
    "    \"hpo2\": [\"prescribed_values\", \"prescribed_values\", \"KNN\"],\n",
    "    \"hpo3\": [\"presets: 'high quality' (auto_stack=True)\", \"presets: 'high quality' (auto_stack=True)\", \"presets: 'optimize_for_deployment\"],\n",
    "    \"score\": [1.83835, 0.48747, 0.54715]\n",
    "})"
   ]
  },
  {
   "cell_type": "code",
   "execution_count": null,
   "metadata": {
    "colab": {
     "base_uri": "https://localhost:8080/",
     "height": 1000
    },
    "id": "OF7Kp-spEmjN",
    "outputId": "72a9a359-65f1-4016-9fe7-1f3e7f25c54e"
   },
   "outputs": [],
   "source": [
    "%%shell\n",
    "jupyter nbconvert --to html /content/UdacityFinal.ipynb"
   ]
  }
 ],
 "metadata": {
  "colab": {
   "provenance": []
  },
  "kernelspec": {
   "display_name": "Python 3 (ipykernel)",
   "language": "python",
   "name": "python3"
  },
  "language_info": {
   "codemirror_mode": {
    "name": "ipython",
    "version": 3
   },
   "file_extension": ".py",
   "mimetype": "text/x-python",
   "name": "python",
   "nbconvert_exporter": "python",
   "pygments_lexer": "ipython3",
   "version": "3.12.7"
  },
  "widgets": {
   "application/vnd.jupyter.widget-state+json": {
    "0369e68ab1ec4d37ae16abe1118c15a9": {
     "model_module": "@jupyter-widgets/controls",
     "model_module_version": "1.5.0",
     "model_name": "DescriptionStyleModel",
     "state": {
      "_model_module": "@jupyter-widgets/controls",
      "_model_module_version": "1.5.0",
      "_model_name": "DescriptionStyleModel",
      "_view_count": null,
      "_view_module": "@jupyter-widgets/base",
      "_view_module_version": "1.2.0",
      "_view_name": "StyleView",
      "description_width": ""
     }
    },
    "04824f0881d5450f8621b74bbb187685": {
     "model_module": "@jupyter-widgets/base",
     "model_module_version": "1.2.0",
     "model_name": "LayoutModel",
     "state": {
      "_model_module": "@jupyter-widgets/base",
      "_model_module_version": "1.2.0",
      "_model_name": "LayoutModel",
      "_view_count": null,
      "_view_module": "@jupyter-widgets/base",
      "_view_module_version": "1.2.0",
      "_view_name": "LayoutView",
      "align_content": null,
      "align_items": null,
      "align_self": null,
      "border": null,
      "bottom": null,
      "display": null,
      "flex": null,
      "flex_flow": null,
      "grid_area": null,
      "grid_auto_columns": null,
      "grid_auto_flow": null,
      "grid_auto_rows": null,
      "grid_column": null,
      "grid_gap": null,
      "grid_row": null,
      "grid_template_areas": null,
      "grid_template_columns": null,
      "grid_template_rows": null,
      "height": null,
      "justify_content": null,
      "justify_items": null,
      "left": null,
      "margin": null,
      "max_height": null,
      "max_width": null,
      "min_height": null,
      "min_width": null,
      "object_fit": null,
      "object_position": null,
      "order": null,
      "overflow": null,
      "overflow_x": null,
      "overflow_y": null,
      "padding": null,
      "right": null,
      "top": null,
      "visibility": null,
      "width": null
     }
    },
    "0577da42032c4722bd0b5f8574a7e241": {
     "model_module": "@jupyter-widgets/controls",
     "model_module_version": "1.5.0",
     "model_name": "ProgressStyleModel",
     "state": {
      "_model_module": "@jupyter-widgets/controls",
      "_model_module_version": "1.5.0",
      "_model_name": "ProgressStyleModel",
      "_view_count": null,
      "_view_module": "@jupyter-widgets/base",
      "_view_module_version": "1.2.0",
      "_view_name": "StyleView",
      "bar_color": null,
      "description_width": ""
     }
    },
    "0960f6da38334a778ffe66790738f402": {
     "model_module": "@jupyter-widgets/base",
     "model_module_version": "1.2.0",
     "model_name": "LayoutModel",
     "state": {
      "_model_module": "@jupyter-widgets/base",
      "_model_module_version": "1.2.0",
      "_model_name": "LayoutModel",
      "_view_count": null,
      "_view_module": "@jupyter-widgets/base",
      "_view_module_version": "1.2.0",
      "_view_name": "LayoutView",
      "align_content": null,
      "align_items": null,
      "align_self": null,
      "border": null,
      "bottom": null,
      "display": null,
      "flex": null,
      "flex_flow": null,
      "grid_area": null,
      "grid_auto_columns": null,
      "grid_auto_flow": null,
      "grid_auto_rows": null,
      "grid_column": null,
      "grid_gap": null,
      "grid_row": null,
      "grid_template_areas": null,
      "grid_template_columns": null,
      "grid_template_rows": null,
      "height": null,
      "justify_content": null,
      "justify_items": null,
      "left": null,
      "margin": null,
      "max_height": null,
      "max_width": null,
      "min_height": null,
      "min_width": null,
      "object_fit": null,
      "object_position": null,
      "order": null,
      "overflow": null,
      "overflow_x": null,
      "overflow_y": null,
      "padding": null,
      "right": null,
      "top": null,
      "visibility": null,
      "width": null
     }
    },
    "0afd8d89d3d549dab67648e96e5673e3": {
     "model_module": "@jupyter-widgets/controls",
     "model_module_version": "1.5.0",
     "model_name": "DescriptionStyleModel",
     "state": {
      "_model_module": "@jupyter-widgets/controls",
      "_model_module_version": "1.5.0",
      "_model_name": "DescriptionStyleModel",
      "_view_count": null,
      "_view_module": "@jupyter-widgets/base",
      "_view_module_version": "1.2.0",
      "_view_name": "StyleView",
      "description_width": ""
     }
    },
    "0c84e0fc83294c97b5926b42d15a0d8b": {
     "model_module": "@jupyter-widgets/controls",
     "model_module_version": "1.5.0",
     "model_name": "FloatProgressModel",
     "state": {
      "_dom_classes": [],
      "_model_module": "@jupyter-widgets/controls",
      "_model_module_version": "1.5.0",
      "_model_name": "FloatProgressModel",
      "_view_count": null,
      "_view_module": "@jupyter-widgets/controls",
      "_view_module_version": "1.5.0",
      "_view_name": "ProgressView",
      "bar_style": "danger",
      "description": "",
      "description_tooltip": null,
      "layout": "IPY_MODEL_0ce036d501dd4c25874fa7b4135f87bd",
      "max": 20,
      "min": 0,
      "orientation": "horizontal",
      "style": "IPY_MODEL_d0bcdc327c8d4605a8624c8687ef29e1",
      "value": 10
     }
    },
    "0cce917ab4f548548de2bcb2315b04de": {
     "model_module": "@jupyter-widgets/base",
     "model_module_version": "1.2.0",
     "model_name": "LayoutModel",
     "state": {
      "_model_module": "@jupyter-widgets/base",
      "_model_module_version": "1.2.0",
      "_model_name": "LayoutModel",
      "_view_count": null,
      "_view_module": "@jupyter-widgets/base",
      "_view_module_version": "1.2.0",
      "_view_name": "LayoutView",
      "align_content": null,
      "align_items": null,
      "align_self": null,
      "border": null,
      "bottom": null,
      "display": null,
      "flex": null,
      "flex_flow": null,
      "grid_area": null,
      "grid_auto_columns": null,
      "grid_auto_flow": null,
      "grid_auto_rows": null,
      "grid_column": null,
      "grid_gap": null,
      "grid_row": null,
      "grid_template_areas": null,
      "grid_template_columns": null,
      "grid_template_rows": null,
      "height": null,
      "justify_content": null,
      "justify_items": null,
      "left": null,
      "margin": null,
      "max_height": null,
      "max_width": null,
      "min_height": null,
      "min_width": null,
      "object_fit": null,
      "object_position": null,
      "order": null,
      "overflow": null,
      "overflow_x": null,
      "overflow_y": null,
      "padding": null,
      "right": null,
      "top": null,
      "visibility": null,
      "width": null
     }
    },
    "0ce036d501dd4c25874fa7b4135f87bd": {
     "model_module": "@jupyter-widgets/base",
     "model_module_version": "1.2.0",
     "model_name": "LayoutModel",
     "state": {
      "_model_module": "@jupyter-widgets/base",
      "_model_module_version": "1.2.0",
      "_model_name": "LayoutModel",
      "_view_count": null,
      "_view_module": "@jupyter-widgets/base",
      "_view_module_version": "1.2.0",
      "_view_name": "LayoutView",
      "align_content": null,
      "align_items": null,
      "align_self": null,
      "border": null,
      "bottom": null,
      "display": null,
      "flex": null,
      "flex_flow": null,
      "grid_area": null,
      "grid_auto_columns": null,
      "grid_auto_flow": null,
      "grid_auto_rows": null,
      "grid_column": null,
      "grid_gap": null,
      "grid_row": null,
      "grid_template_areas": null,
      "grid_template_columns": null,
      "grid_template_rows": null,
      "height": null,
      "justify_content": null,
      "justify_items": null,
      "left": null,
      "margin": null,
      "max_height": null,
      "max_width": null,
      "min_height": null,
      "min_width": null,
      "object_fit": null,
      "object_position": null,
      "order": null,
      "overflow": null,
      "overflow_x": null,
      "overflow_y": null,
      "padding": null,
      "right": null,
      "top": null,
      "visibility": null,
      "width": null
     }
    },
    "0e1e56efded348fbb0c6ed771d3140b7": {
     "model_module": "@jupyter-widgets/controls",
     "model_module_version": "1.5.0",
     "model_name": "HBoxModel",
     "state": {
      "_dom_classes": [],
      "_model_module": "@jupyter-widgets/controls",
      "_model_module_version": "1.5.0",
      "_model_name": "HBoxModel",
      "_view_count": null,
      "_view_module": "@jupyter-widgets/controls",
      "_view_module_version": "1.5.0",
      "_view_name": "HBoxView",
      "box_style": "",
      "children": [
       "IPY_MODEL_955c1d7339f946a4963d0b662bf07b4d",
       "IPY_MODEL_2caed6422dd143a4b09cfbe9dfd4ec55",
       "IPY_MODEL_a5a6c611519e4117ba9f2a66bc60e532"
      ],
      "layout": "IPY_MODEL_242ead3f10db4cd39f7b78bba287b277"
     }
    },
    "0e710af475ad4aefae2ca79d64541f64": {
     "model_module": "@jupyter-widgets/base",
     "model_module_version": "1.2.0",
     "model_name": "LayoutModel",
     "state": {
      "_model_module": "@jupyter-widgets/base",
      "_model_module_version": "1.2.0",
      "_model_name": "LayoutModel",
      "_view_count": null,
      "_view_module": "@jupyter-widgets/base",
      "_view_module_version": "1.2.0",
      "_view_name": "LayoutView",
      "align_content": null,
      "align_items": null,
      "align_self": null,
      "border": null,
      "bottom": null,
      "display": null,
      "flex": null,
      "flex_flow": null,
      "grid_area": null,
      "grid_auto_columns": null,
      "grid_auto_flow": null,
      "grid_auto_rows": null,
      "grid_column": null,
      "grid_gap": null,
      "grid_row": null,
      "grid_template_areas": null,
      "grid_template_columns": null,
      "grid_template_rows": null,
      "height": null,
      "justify_content": null,
      "justify_items": null,
      "left": null,
      "margin": null,
      "max_height": null,
      "max_width": null,
      "min_height": null,
      "min_width": null,
      "object_fit": null,
      "object_position": null,
      "order": null,
      "overflow": null,
      "overflow_x": null,
      "overflow_y": null,
      "padding": null,
      "right": null,
      "top": null,
      "visibility": null,
      "width": null
     }
    },
    "0e92f2a03d6345019149bfb220e0f67e": {
     "model_module": "@jupyter-widgets/base",
     "model_module_version": "1.2.0",
     "model_name": "LayoutModel",
     "state": {
      "_model_module": "@jupyter-widgets/base",
      "_model_module_version": "1.2.0",
      "_model_name": "LayoutModel",
      "_view_count": null,
      "_view_module": "@jupyter-widgets/base",
      "_view_module_version": "1.2.0",
      "_view_name": "LayoutView",
      "align_content": null,
      "align_items": null,
      "align_self": null,
      "border": null,
      "bottom": null,
      "display": null,
      "flex": null,
      "flex_flow": null,
      "grid_area": null,
      "grid_auto_columns": null,
      "grid_auto_flow": null,
      "grid_auto_rows": null,
      "grid_column": null,
      "grid_gap": null,
      "grid_row": null,
      "grid_template_areas": null,
      "grid_template_columns": null,
      "grid_template_rows": null,
      "height": null,
      "justify_content": null,
      "justify_items": null,
      "left": null,
      "margin": null,
      "max_height": null,
      "max_width": null,
      "min_height": null,
      "min_width": null,
      "object_fit": null,
      "object_position": null,
      "order": null,
      "overflow": null,
      "overflow_x": null,
      "overflow_y": null,
      "padding": null,
      "right": null,
      "top": null,
      "visibility": null,
      "width": null
     }
    },
    "0ea27e7f896044eeb3f24b3b96930655": {
     "model_module": "@jupyter-widgets/base",
     "model_module_version": "1.2.0",
     "model_name": "LayoutModel",
     "state": {
      "_model_module": "@jupyter-widgets/base",
      "_model_module_version": "1.2.0",
      "_model_name": "LayoutModel",
      "_view_count": null,
      "_view_module": "@jupyter-widgets/base",
      "_view_module_version": "1.2.0",
      "_view_name": "LayoutView",
      "align_content": null,
      "align_items": null,
      "align_self": null,
      "border": null,
      "bottom": null,
      "display": null,
      "flex": null,
      "flex_flow": null,
      "grid_area": null,
      "grid_auto_columns": null,
      "grid_auto_flow": null,
      "grid_auto_rows": null,
      "grid_column": null,
      "grid_gap": null,
      "grid_row": null,
      "grid_template_areas": null,
      "grid_template_columns": null,
      "grid_template_rows": null,
      "height": null,
      "justify_content": null,
      "justify_items": null,
      "left": null,
      "margin": null,
      "max_height": null,
      "max_width": null,
      "min_height": null,
      "min_width": null,
      "object_fit": null,
      "object_position": null,
      "order": null,
      "overflow": null,
      "overflow_x": null,
      "overflow_y": null,
      "padding": null,
      "right": null,
      "top": null,
      "visibility": null,
      "width": null
     }
    },
    "13ea3d5129ad4b00bf5eb5006da36e6f": {
     "model_module": "@jupyter-widgets/base",
     "model_module_version": "1.2.0",
     "model_name": "LayoutModel",
     "state": {
      "_model_module": "@jupyter-widgets/base",
      "_model_module_version": "1.2.0",
      "_model_name": "LayoutModel",
      "_view_count": null,
      "_view_module": "@jupyter-widgets/base",
      "_view_module_version": "1.2.0",
      "_view_name": "LayoutView",
      "align_content": null,
      "align_items": null,
      "align_self": null,
      "border": null,
      "bottom": null,
      "display": null,
      "flex": null,
      "flex_flow": null,
      "grid_area": null,
      "grid_auto_columns": null,
      "grid_auto_flow": null,
      "grid_auto_rows": null,
      "grid_column": null,
      "grid_gap": null,
      "grid_row": null,
      "grid_template_areas": null,
      "grid_template_columns": null,
      "grid_template_rows": null,
      "height": null,
      "justify_content": null,
      "justify_items": null,
      "left": null,
      "margin": null,
      "max_height": null,
      "max_width": null,
      "min_height": null,
      "min_width": null,
      "object_fit": null,
      "object_position": null,
      "order": null,
      "overflow": null,
      "overflow_x": null,
      "overflow_y": null,
      "padding": null,
      "right": null,
      "top": null,
      "visibility": null,
      "width": null
     }
    },
    "224461a81326463cbe06d39e74f52f63": {
     "model_module": "@jupyter-widgets/base",
     "model_module_version": "1.2.0",
     "model_name": "LayoutModel",
     "state": {
      "_model_module": "@jupyter-widgets/base",
      "_model_module_version": "1.2.0",
      "_model_name": "LayoutModel",
      "_view_count": null,
      "_view_module": "@jupyter-widgets/base",
      "_view_module_version": "1.2.0",
      "_view_name": "LayoutView",
      "align_content": null,
      "align_items": null,
      "align_self": null,
      "border": null,
      "bottom": null,
      "display": null,
      "flex": null,
      "flex_flow": null,
      "grid_area": null,
      "grid_auto_columns": null,
      "grid_auto_flow": null,
      "grid_auto_rows": null,
      "grid_column": null,
      "grid_gap": null,
      "grid_row": null,
      "grid_template_areas": null,
      "grid_template_columns": null,
      "grid_template_rows": null,
      "height": null,
      "justify_content": null,
      "justify_items": null,
      "left": null,
      "margin": null,
      "max_height": null,
      "max_width": null,
      "min_height": null,
      "min_width": null,
      "object_fit": null,
      "object_position": null,
      "order": null,
      "overflow": null,
      "overflow_x": null,
      "overflow_y": null,
      "padding": null,
      "right": null,
      "top": null,
      "visibility": null,
      "width": null
     }
    },
    "23d720a765084003b2fb83c1f355c2db": {
     "model_module": "@jupyter-widgets/base",
     "model_module_version": "1.2.0",
     "model_name": "LayoutModel",
     "state": {
      "_model_module": "@jupyter-widgets/base",
      "_model_module_version": "1.2.0",
      "_model_name": "LayoutModel",
      "_view_count": null,
      "_view_module": "@jupyter-widgets/base",
      "_view_module_version": "1.2.0",
      "_view_name": "LayoutView",
      "align_content": null,
      "align_items": null,
      "align_self": null,
      "border": null,
      "bottom": null,
      "display": null,
      "flex": null,
      "flex_flow": null,
      "grid_area": null,
      "grid_auto_columns": null,
      "grid_auto_flow": null,
      "grid_auto_rows": null,
      "grid_column": null,
      "grid_gap": null,
      "grid_row": null,
      "grid_template_areas": null,
      "grid_template_columns": null,
      "grid_template_rows": null,
      "height": null,
      "justify_content": null,
      "justify_items": null,
      "left": null,
      "margin": null,
      "max_height": null,
      "max_width": null,
      "min_height": null,
      "min_width": null,
      "object_fit": null,
      "object_position": null,
      "order": null,
      "overflow": null,
      "overflow_x": null,
      "overflow_y": null,
      "padding": null,
      "right": null,
      "top": null,
      "visibility": null,
      "width": null
     }
    },
    "242ead3f10db4cd39f7b78bba287b277": {
     "model_module": "@jupyter-widgets/base",
     "model_module_version": "1.2.0",
     "model_name": "LayoutModel",
     "state": {
      "_model_module": "@jupyter-widgets/base",
      "_model_module_version": "1.2.0",
      "_model_name": "LayoutModel",
      "_view_count": null,
      "_view_module": "@jupyter-widgets/base",
      "_view_module_version": "1.2.0",
      "_view_name": "LayoutView",
      "align_content": null,
      "align_items": null,
      "align_self": null,
      "border": null,
      "bottom": null,
      "display": null,
      "flex": null,
      "flex_flow": null,
      "grid_area": null,
      "grid_auto_columns": null,
      "grid_auto_flow": null,
      "grid_auto_rows": null,
      "grid_column": null,
      "grid_gap": null,
      "grid_row": null,
      "grid_template_areas": null,
      "grid_template_columns": null,
      "grid_template_rows": null,
      "height": null,
      "justify_content": null,
      "justify_items": null,
      "left": null,
      "margin": null,
      "max_height": null,
      "max_width": null,
      "min_height": null,
      "min_width": null,
      "object_fit": null,
      "object_position": null,
      "order": null,
      "overflow": null,
      "overflow_x": null,
      "overflow_y": null,
      "padding": null,
      "right": null,
      "top": null,
      "visibility": null,
      "width": null
     }
    },
    "24c35e18caea4330ba33ef3e69de2600": {
     "model_module": "@jupyter-widgets/controls",
     "model_module_version": "1.5.0",
     "model_name": "HTMLModel",
     "state": {
      "_dom_classes": [],
      "_model_module": "@jupyter-widgets/controls",
      "_model_module_version": "1.5.0",
      "_model_name": "HTMLModel",
      "_view_count": null,
      "_view_module": "@jupyter-widgets/controls",
      "_view_module_version": "1.5.0",
      "_view_name": "HTMLView",
      "description": "",
      "description_tooltip": null,
      "layout": "IPY_MODEL_6019012c4ce44fdfa86ba16fd9117a08",
      "placeholder": "​",
      "style": "IPY_MODEL_d033b184819a4ddbb0fc693041af3c18",
      "value": " 10/20 [01:03&lt;00:59,  5.93s/it]"
     }
    },
    "2caed6422dd143a4b09cfbe9dfd4ec55": {
     "model_module": "@jupyter-widgets/controls",
     "model_module_version": "1.5.0",
     "model_name": "FloatProgressModel",
     "state": {
      "_dom_classes": [],
      "_model_module": "@jupyter-widgets/controls",
      "_model_module_version": "1.5.0",
      "_model_name": "FloatProgressModel",
      "_view_count": null,
      "_view_module": "@jupyter-widgets/controls",
      "_view_module_version": "1.5.0",
      "_view_name": "ProgressView",
      "bar_style": "danger",
      "description": "",
      "description_tooltip": null,
      "layout": "IPY_MODEL_679fda6621f24512a26b4e3cdcdb16b2",
      "max": 20,
      "min": 0,
      "orientation": "horizontal",
      "style": "IPY_MODEL_55b4e85ca4db41fab725d1cdc405280e",
      "value": 14
     }
    },
    "3416583809984a5a927f4269d9ac685d": {
     "model_module": "@jupyter-widgets/controls",
     "model_module_version": "1.5.0",
     "model_name": "ProgressStyleModel",
     "state": {
      "_model_module": "@jupyter-widgets/controls",
      "_model_module_version": "1.5.0",
      "_model_name": "ProgressStyleModel",
      "_view_count": null,
      "_view_module": "@jupyter-widgets/base",
      "_view_module_version": "1.2.0",
      "_view_name": "StyleView",
      "bar_color": null,
      "description_width": ""
     }
    },
    "35528feb4da443e2b7342b6b87ecd1a2": {
     "model_module": "@jupyter-widgets/controls",
     "model_module_version": "1.5.0",
     "model_name": "HBoxModel",
     "state": {
      "_dom_classes": [],
      "_model_module": "@jupyter-widgets/controls",
      "_model_module_version": "1.5.0",
      "_model_name": "HBoxModel",
      "_view_count": null,
      "_view_module": "@jupyter-widgets/controls",
      "_view_module_version": "1.5.0",
      "_view_name": "HBoxView",
      "box_style": "",
      "children": [
       "IPY_MODEL_df266d38de8a454293f01d7eddaa581e",
       "IPY_MODEL_0c84e0fc83294c97b5926b42d15a0d8b",
       "IPY_MODEL_24c35e18caea4330ba33ef3e69de2600"
      ],
      "layout": "IPY_MODEL_0cce917ab4f548548de2bcb2315b04de"
     }
    },
    "45976d593dd24f9da5cfd6ddd6dd0c18": {
     "model_module": "@jupyter-widgets/base",
     "model_module_version": "1.2.0",
     "model_name": "LayoutModel",
     "state": {
      "_model_module": "@jupyter-widgets/base",
      "_model_module_version": "1.2.0",
      "_model_name": "LayoutModel",
      "_view_count": null,
      "_view_module": "@jupyter-widgets/base",
      "_view_module_version": "1.2.0",
      "_view_name": "LayoutView",
      "align_content": null,
      "align_items": null,
      "align_self": null,
      "border": null,
      "bottom": null,
      "display": null,
      "flex": null,
      "flex_flow": null,
      "grid_area": null,
      "grid_auto_columns": null,
      "grid_auto_flow": null,
      "grid_auto_rows": null,
      "grid_column": null,
      "grid_gap": null,
      "grid_row": null,
      "grid_template_areas": null,
      "grid_template_columns": null,
      "grid_template_rows": null,
      "height": null,
      "justify_content": null,
      "justify_items": null,
      "left": null,
      "margin": null,
      "max_height": null,
      "max_width": null,
      "min_height": null,
      "min_width": null,
      "object_fit": null,
      "object_position": null,
      "order": null,
      "overflow": null,
      "overflow_x": null,
      "overflow_y": null,
      "padding": null,
      "right": null,
      "top": null,
      "visibility": null,
      "width": null
     }
    },
    "46aa0ffb4af849e9b611bff8e6155574": {
     "model_module": "@jupyter-widgets/controls",
     "model_module_version": "1.5.0",
     "model_name": "HTMLModel",
     "state": {
      "_dom_classes": [],
      "_model_module": "@jupyter-widgets/controls",
      "_model_module_version": "1.5.0",
      "_model_name": "HTMLModel",
      "_view_count": null,
      "_view_module": "@jupyter-widgets/controls",
      "_view_module_version": "1.5.0",
      "_view_name": "HTMLView",
      "description": "",
      "description_tooltip": null,
      "layout": "IPY_MODEL_c9049392486c443dbca018c1268809a0",
      "placeholder": "​",
      "style": "IPY_MODEL_d62a785deaf846f1a591b2aef6020e6f",
      "value": "100%"
     }
    },
    "46dc720d85a44cb3afdfe12547da87da": {
     "model_module": "@jupyter-widgets/controls",
     "model_module_version": "1.5.0",
     "model_name": "HBoxModel",
     "state": {
      "_dom_classes": [],
      "_model_module": "@jupyter-widgets/controls",
      "_model_module_version": "1.5.0",
      "_model_name": "HBoxModel",
      "_view_count": null,
      "_view_module": "@jupyter-widgets/controls",
      "_view_module_version": "1.5.0",
      "_view_name": "HBoxView",
      "box_style": "",
      "children": [
       "IPY_MODEL_4dfa54ef970a48889ac6dbba0d9122d8",
       "IPY_MODEL_d31a566e6d484d3492e186dbe0030a36",
       "IPY_MODEL_9971320eb12a4d4285b75ab8e79378a7"
      ],
      "layout": "IPY_MODEL_0e92f2a03d6345019149bfb220e0f67e"
     }
    },
    "48761c2046684c5a83ad6566ce914061": {
     "model_module": "@jupyter-widgets/base",
     "model_module_version": "1.2.0",
     "model_name": "LayoutModel",
     "state": {
      "_model_module": "@jupyter-widgets/base",
      "_model_module_version": "1.2.0",
      "_model_name": "LayoutModel",
      "_view_count": null,
      "_view_module": "@jupyter-widgets/base",
      "_view_module_version": "1.2.0",
      "_view_name": "LayoutView",
      "align_content": null,
      "align_items": null,
      "align_self": null,
      "border": null,
      "bottom": null,
      "display": null,
      "flex": null,
      "flex_flow": null,
      "grid_area": null,
      "grid_auto_columns": null,
      "grid_auto_flow": null,
      "grid_auto_rows": null,
      "grid_column": null,
      "grid_gap": null,
      "grid_row": null,
      "grid_template_areas": null,
      "grid_template_columns": null,
      "grid_template_rows": null,
      "height": null,
      "justify_content": null,
      "justify_items": null,
      "left": null,
      "margin": null,
      "max_height": null,
      "max_width": null,
      "min_height": null,
      "min_width": null,
      "object_fit": null,
      "object_position": null,
      "order": null,
      "overflow": null,
      "overflow_x": null,
      "overflow_y": null,
      "padding": null,
      "right": null,
      "top": null,
      "visibility": null,
      "width": null
     }
    },
    "48c7dacbbcd64549bd1cc0e4e64c1b45": {
     "model_module": "@jupyter-widgets/controls",
     "model_module_version": "1.5.0",
     "model_name": "DescriptionStyleModel",
     "state": {
      "_model_module": "@jupyter-widgets/controls",
      "_model_module_version": "1.5.0",
      "_model_name": "DescriptionStyleModel",
      "_view_count": null,
      "_view_module": "@jupyter-widgets/base",
      "_view_module_version": "1.2.0",
      "_view_name": "StyleView",
      "description_width": ""
     }
    },
    "4cecee8d13c94a17b8e07868b4267af9": {
     "model_module": "@jupyter-widgets/controls",
     "model_module_version": "1.5.0",
     "model_name": "DescriptionStyleModel",
     "state": {
      "_model_module": "@jupyter-widgets/controls",
      "_model_module_version": "1.5.0",
      "_model_name": "DescriptionStyleModel",
      "_view_count": null,
      "_view_module": "@jupyter-widgets/base",
      "_view_module_version": "1.2.0",
      "_view_name": "StyleView",
      "description_width": ""
     }
    },
    "4dfa54ef970a48889ac6dbba0d9122d8": {
     "model_module": "@jupyter-widgets/controls",
     "model_module_version": "1.5.0",
     "model_name": "HTMLModel",
     "state": {
      "_dom_classes": [],
      "_model_module": "@jupyter-widgets/controls",
      "_model_module_version": "1.5.0",
      "_model_name": "HTMLModel",
      "_view_count": null,
      "_view_module": "@jupyter-widgets/controls",
      "_view_module_version": "1.5.0",
      "_view_name": "HTMLView",
      "description": "",
      "description_tooltip": null,
      "layout": "IPY_MODEL_f2b80c6125214fca86b5bf0aa0eb5b5e",
      "placeholder": "​",
      "style": "IPY_MODEL_d8b31caca697431aa9f9caa977ba5250",
      "value": "100%"
     }
    },
    "53546ef8575c4060bad7646da73211ac": {
     "model_module": "@jupyter-widgets/controls",
     "model_module_version": "1.5.0",
     "model_name": "DescriptionStyleModel",
     "state": {
      "_model_module": "@jupyter-widgets/controls",
      "_model_module_version": "1.5.0",
      "_model_name": "DescriptionStyleModel",
      "_view_count": null,
      "_view_module": "@jupyter-widgets/base",
      "_view_module_version": "1.2.0",
      "_view_name": "StyleView",
      "description_width": ""
     }
    },
    "55b4e85ca4db41fab725d1cdc405280e": {
     "model_module": "@jupyter-widgets/controls",
     "model_module_version": "1.5.0",
     "model_name": "ProgressStyleModel",
     "state": {
      "_model_module": "@jupyter-widgets/controls",
      "_model_module_version": "1.5.0",
      "_model_name": "ProgressStyleModel",
      "_view_count": null,
      "_view_module": "@jupyter-widgets/base",
      "_view_module_version": "1.2.0",
      "_view_name": "StyleView",
      "bar_color": null,
      "description_width": ""
     }
    },
    "6019012c4ce44fdfa86ba16fd9117a08": {
     "model_module": "@jupyter-widgets/base",
     "model_module_version": "1.2.0",
     "model_name": "LayoutModel",
     "state": {
      "_model_module": "@jupyter-widgets/base",
      "_model_module_version": "1.2.0",
      "_model_name": "LayoutModel",
      "_view_count": null,
      "_view_module": "@jupyter-widgets/base",
      "_view_module_version": "1.2.0",
      "_view_name": "LayoutView",
      "align_content": null,
      "align_items": null,
      "align_self": null,
      "border": null,
      "bottom": null,
      "display": null,
      "flex": null,
      "flex_flow": null,
      "grid_area": null,
      "grid_auto_columns": null,
      "grid_auto_flow": null,
      "grid_auto_rows": null,
      "grid_column": null,
      "grid_gap": null,
      "grid_row": null,
      "grid_template_areas": null,
      "grid_template_columns": null,
      "grid_template_rows": null,
      "height": null,
      "justify_content": null,
      "justify_items": null,
      "left": null,
      "margin": null,
      "max_height": null,
      "max_width": null,
      "min_height": null,
      "min_width": null,
      "object_fit": null,
      "object_position": null,
      "order": null,
      "overflow": null,
      "overflow_x": null,
      "overflow_y": null,
      "padding": null,
      "right": null,
      "top": null,
      "visibility": null,
      "width": null
     }
    },
    "62f33d4480164866a86d457c2af443a3": {
     "model_module": "@jupyter-widgets/controls",
     "model_module_version": "1.5.0",
     "model_name": "HBoxModel",
     "state": {
      "_dom_classes": [],
      "_model_module": "@jupyter-widgets/controls",
      "_model_module_version": "1.5.0",
      "_model_name": "HBoxModel",
      "_view_count": null,
      "_view_module": "@jupyter-widgets/controls",
      "_view_module_version": "1.5.0",
      "_view_name": "HBoxView",
      "box_style": "",
      "children": [
       "IPY_MODEL_e0a56ff4326c40b9a84cdef2a5504cbc",
       "IPY_MODEL_7be738534ca34b2295a8debebb320cda",
       "IPY_MODEL_f5e8345c4233486fad660ca4bc3347f1"
      ],
      "layout": "IPY_MODEL_45976d593dd24f9da5cfd6ddd6dd0c18"
     }
    },
    "63b5369c1e2c41f3b0eb49233d96d044": {
     "model_module": "@jupyter-widgets/controls",
     "model_module_version": "1.5.0",
     "model_name": "ProgressStyleModel",
     "state": {
      "_model_module": "@jupyter-widgets/controls",
      "_model_module_version": "1.5.0",
      "_model_name": "ProgressStyleModel",
      "_view_count": null,
      "_view_module": "@jupyter-widgets/base",
      "_view_module_version": "1.2.0",
      "_view_name": "StyleView",
      "bar_color": null,
      "description_width": ""
     }
    },
    "63fa888a25ff47a79227137ddf97f2b4": {
     "model_module": "@jupyter-widgets/controls",
     "model_module_version": "1.5.0",
     "model_name": "HBoxModel",
     "state": {
      "_dom_classes": [],
      "_model_module": "@jupyter-widgets/controls",
      "_model_module_version": "1.5.0",
      "_model_name": "HBoxModel",
      "_view_count": null,
      "_view_module": "@jupyter-widgets/controls",
      "_view_module_version": "1.5.0",
      "_view_name": "HBoxView",
      "box_style": "",
      "children": [
       "IPY_MODEL_46aa0ffb4af849e9b611bff8e6155574",
       "IPY_MODEL_f76f214219664e0d990118bd734521ff",
       "IPY_MODEL_bee5d25f573b44c38abbe5da90054c15"
      ],
      "layout": "IPY_MODEL_b06c4e5e95cc4fc1b4f556ae92b8d78e"
     }
    },
    "679fda6621f24512a26b4e3cdcdb16b2": {
     "model_module": "@jupyter-widgets/base",
     "model_module_version": "1.2.0",
     "model_name": "LayoutModel",
     "state": {
      "_model_module": "@jupyter-widgets/base",
      "_model_module_version": "1.2.0",
      "_model_name": "LayoutModel",
      "_view_count": null,
      "_view_module": "@jupyter-widgets/base",
      "_view_module_version": "1.2.0",
      "_view_name": "LayoutView",
      "align_content": null,
      "align_items": null,
      "align_self": null,
      "border": null,
      "bottom": null,
      "display": null,
      "flex": null,
      "flex_flow": null,
      "grid_area": null,
      "grid_auto_columns": null,
      "grid_auto_flow": null,
      "grid_auto_rows": null,
      "grid_column": null,
      "grid_gap": null,
      "grid_row": null,
      "grid_template_areas": null,
      "grid_template_columns": null,
      "grid_template_rows": null,
      "height": null,
      "justify_content": null,
      "justify_items": null,
      "left": null,
      "margin": null,
      "max_height": null,
      "max_width": null,
      "min_height": null,
      "min_width": null,
      "object_fit": null,
      "object_position": null,
      "order": null,
      "overflow": null,
      "overflow_x": null,
      "overflow_y": null,
      "padding": null,
      "right": null,
      "top": null,
      "visibility": null,
      "width": null
     }
    },
    "6b96ebe1f7fe41378c63cef7763e039b": {
     "model_module": "@jupyter-widgets/base",
     "model_module_version": "1.2.0",
     "model_name": "LayoutModel",
     "state": {
      "_model_module": "@jupyter-widgets/base",
      "_model_module_version": "1.2.0",
      "_model_name": "LayoutModel",
      "_view_count": null,
      "_view_module": "@jupyter-widgets/base",
      "_view_module_version": "1.2.0",
      "_view_name": "LayoutView",
      "align_content": null,
      "align_items": null,
      "align_self": null,
      "border": null,
      "bottom": null,
      "display": null,
      "flex": null,
      "flex_flow": null,
      "grid_area": null,
      "grid_auto_columns": null,
      "grid_auto_flow": null,
      "grid_auto_rows": null,
      "grid_column": null,
      "grid_gap": null,
      "grid_row": null,
      "grid_template_areas": null,
      "grid_template_columns": null,
      "grid_template_rows": null,
      "height": null,
      "justify_content": null,
      "justify_items": null,
      "left": null,
      "margin": null,
      "max_height": null,
      "max_width": null,
      "min_height": null,
      "min_width": null,
      "object_fit": null,
      "object_position": null,
      "order": null,
      "overflow": null,
      "overflow_x": null,
      "overflow_y": null,
      "padding": null,
      "right": null,
      "top": null,
      "visibility": null,
      "width": null
     }
    },
    "72ef6ceba0184ff4bec5ea5950258ef0": {
     "model_module": "@jupyter-widgets/base",
     "model_module_version": "1.2.0",
     "model_name": "LayoutModel",
     "state": {
      "_model_module": "@jupyter-widgets/base",
      "_model_module_version": "1.2.0",
      "_model_name": "LayoutModel",
      "_view_count": null,
      "_view_module": "@jupyter-widgets/base",
      "_view_module_version": "1.2.0",
      "_view_name": "LayoutView",
      "align_content": null,
      "align_items": null,
      "align_self": null,
      "border": null,
      "bottom": null,
      "display": null,
      "flex": null,
      "flex_flow": null,
      "grid_area": null,
      "grid_auto_columns": null,
      "grid_auto_flow": null,
      "grid_auto_rows": null,
      "grid_column": null,
      "grid_gap": null,
      "grid_row": null,
      "grid_template_areas": null,
      "grid_template_columns": null,
      "grid_template_rows": null,
      "height": null,
      "justify_content": null,
      "justify_items": null,
      "left": null,
      "margin": null,
      "max_height": null,
      "max_width": null,
      "min_height": null,
      "min_width": null,
      "object_fit": null,
      "object_position": null,
      "order": null,
      "overflow": null,
      "overflow_x": null,
      "overflow_y": null,
      "padding": null,
      "right": null,
      "top": null,
      "visibility": null,
      "width": null
     }
    },
    "754cbc461ccc478191f7461bd24159e0": {
     "model_module": "@jupyter-widgets/base",
     "model_module_version": "1.2.0",
     "model_name": "LayoutModel",
     "state": {
      "_model_module": "@jupyter-widgets/base",
      "_model_module_version": "1.2.0",
      "_model_name": "LayoutModel",
      "_view_count": null,
      "_view_module": "@jupyter-widgets/base",
      "_view_module_version": "1.2.0",
      "_view_name": "LayoutView",
      "align_content": null,
      "align_items": null,
      "align_self": null,
      "border": null,
      "bottom": null,
      "display": null,
      "flex": null,
      "flex_flow": null,
      "grid_area": null,
      "grid_auto_columns": null,
      "grid_auto_flow": null,
      "grid_auto_rows": null,
      "grid_column": null,
      "grid_gap": null,
      "grid_row": null,
      "grid_template_areas": null,
      "grid_template_columns": null,
      "grid_template_rows": null,
      "height": null,
      "justify_content": null,
      "justify_items": null,
      "left": null,
      "margin": null,
      "max_height": null,
      "max_width": null,
      "min_height": null,
      "min_width": null,
      "object_fit": null,
      "object_position": null,
      "order": null,
      "overflow": null,
      "overflow_x": null,
      "overflow_y": null,
      "padding": null,
      "right": null,
      "top": null,
      "visibility": null,
      "width": null
     }
    },
    "76592c2856de45b98219efea5f8a1bfe": {
     "model_module": "@jupyter-widgets/controls",
     "model_module_version": "1.5.0",
     "model_name": "FloatProgressModel",
     "state": {
      "_dom_classes": [],
      "_model_module": "@jupyter-widgets/controls",
      "_model_module_version": "1.5.0",
      "_model_name": "FloatProgressModel",
      "_view_count": null,
      "_view_module": "@jupyter-widgets/controls",
      "_view_module_version": "1.5.0",
      "_view_name": "ProgressView",
      "bar_style": "success",
      "description": "",
      "description_tooltip": null,
      "layout": "IPY_MODEL_de21f6084f9f4289bb2aa83a8c70334a",
      "max": 20,
      "min": 0,
      "orientation": "horizontal",
      "style": "IPY_MODEL_0577da42032c4722bd0b5f8574a7e241",
      "value": 20
     }
    },
    "7be738534ca34b2295a8debebb320cda": {
     "model_module": "@jupyter-widgets/controls",
     "model_module_version": "1.5.0",
     "model_name": "FloatProgressModel",
     "state": {
      "_dom_classes": [],
      "_model_module": "@jupyter-widgets/controls",
      "_model_module_version": "1.5.0",
      "_model_name": "FloatProgressModel",
      "_view_count": null,
      "_view_module": "@jupyter-widgets/controls",
      "_view_module_version": "1.5.0",
      "_view_name": "ProgressView",
      "bar_style": "success",
      "description": "",
      "description_tooltip": null,
      "layout": "IPY_MODEL_0ea27e7f896044eeb3f24b3b96930655",
      "max": 20,
      "min": 0,
      "orientation": "horizontal",
      "style": "IPY_MODEL_3416583809984a5a927f4269d9ac685d",
      "value": 20
     }
    },
    "804784236cdb4f66814b28d2f198a982": {
     "model_module": "@jupyter-widgets/controls",
     "model_module_version": "1.5.0",
     "model_name": "DescriptionStyleModel",
     "state": {
      "_model_module": "@jupyter-widgets/controls",
      "_model_module_version": "1.5.0",
      "_model_name": "DescriptionStyleModel",
      "_view_count": null,
      "_view_module": "@jupyter-widgets/base",
      "_view_module_version": "1.2.0",
      "_view_name": "StyleView",
      "description_width": ""
     }
    },
    "827be64a9c4147b3920adec944691435": {
     "model_module": "@jupyter-widgets/controls",
     "model_module_version": "1.5.0",
     "model_name": "HBoxModel",
     "state": {
      "_dom_classes": [],
      "_model_module": "@jupyter-widgets/controls",
      "_model_module_version": "1.5.0",
      "_model_name": "HBoxModel",
      "_view_count": null,
      "_view_module": "@jupyter-widgets/controls",
      "_view_module_version": "1.5.0",
      "_view_name": "HBoxView",
      "box_style": "",
      "children": [
       "IPY_MODEL_af7d89b7efc3402099eb7de16a4f6afb",
       "IPY_MODEL_cb420479b9d243edaabcfdd3148ae79c",
       "IPY_MODEL_cfcd8055353c4626b3ac88996e16bb8e"
      ],
      "layout": "IPY_MODEL_0e710af475ad4aefae2ca79d64541f64"
     }
    },
    "8829adffd4d1488892fe166aa3cb03c5": {
     "model_module": "@jupyter-widgets/controls",
     "model_module_version": "1.5.0",
     "model_name": "FloatProgressModel",
     "state": {
      "_dom_classes": [],
      "_model_module": "@jupyter-widgets/controls",
      "_model_module_version": "1.5.0",
      "_model_name": "FloatProgressModel",
      "_view_count": null,
      "_view_module": "@jupyter-widgets/controls",
      "_view_module_version": "1.5.0",
      "_view_name": "ProgressView",
      "bar_style": "success",
      "description": "",
      "description_tooltip": null,
      "layout": "IPY_MODEL_f542a37f5a0e48b283c22c781a3afd66",
      "max": 20,
      "min": 0,
      "orientation": "horizontal",
      "style": "IPY_MODEL_63b5369c1e2c41f3b0eb49233d96d044",
      "value": 20
     }
    },
    "8c4a16f925774c269eb2d56513ef1e40": {
     "model_module": "@jupyter-widgets/base",
     "model_module_version": "1.2.0",
     "model_name": "LayoutModel",
     "state": {
      "_model_module": "@jupyter-widgets/base",
      "_model_module_version": "1.2.0",
      "_model_name": "LayoutModel",
      "_view_count": null,
      "_view_module": "@jupyter-widgets/base",
      "_view_module_version": "1.2.0",
      "_view_name": "LayoutView",
      "align_content": null,
      "align_items": null,
      "align_self": null,
      "border": null,
      "bottom": null,
      "display": null,
      "flex": null,
      "flex_flow": null,
      "grid_area": null,
      "grid_auto_columns": null,
      "grid_auto_flow": null,
      "grid_auto_rows": null,
      "grid_column": null,
      "grid_gap": null,
      "grid_row": null,
      "grid_template_areas": null,
      "grid_template_columns": null,
      "grid_template_rows": null,
      "height": null,
      "justify_content": null,
      "justify_items": null,
      "left": null,
      "margin": null,
      "max_height": null,
      "max_width": null,
      "min_height": null,
      "min_width": null,
      "object_fit": null,
      "object_position": null,
      "order": null,
      "overflow": null,
      "overflow_x": null,
      "overflow_y": null,
      "padding": null,
      "right": null,
      "top": null,
      "visibility": null,
      "width": null
     }
    },
    "8df9864dcd70499e89ea2a72b64b06d6": {
     "model_module": "@jupyter-widgets/controls",
     "model_module_version": "1.5.0",
     "model_name": "HBoxModel",
     "state": {
      "_dom_classes": [],
      "_model_module": "@jupyter-widgets/controls",
      "_model_module_version": "1.5.0",
      "_model_name": "HBoxModel",
      "_view_count": null,
      "_view_module": "@jupyter-widgets/controls",
      "_view_module_version": "1.5.0",
      "_view_name": "HBoxView",
      "box_style": "",
      "children": [
       "IPY_MODEL_e693b92397394581b757dd1eef0653c3",
       "IPY_MODEL_8829adffd4d1488892fe166aa3cb03c5",
       "IPY_MODEL_ff771a374e9c4e7b8eeaec9ccecb9c0c"
      ],
      "layout": "IPY_MODEL_d2b917c25bc64efa9cfacdb751da7dea"
     }
    },
    "93bdae1cc38a489ebc24a424c3de8c43": {
     "model_module": "@jupyter-widgets/base",
     "model_module_version": "1.2.0",
     "model_name": "LayoutModel",
     "state": {
      "_model_module": "@jupyter-widgets/base",
      "_model_module_version": "1.2.0",
      "_model_name": "LayoutModel",
      "_view_count": null,
      "_view_module": "@jupyter-widgets/base",
      "_view_module_version": "1.2.0",
      "_view_name": "LayoutView",
      "align_content": null,
      "align_items": null,
      "align_self": null,
      "border": null,
      "bottom": null,
      "display": null,
      "flex": null,
      "flex_flow": null,
      "grid_area": null,
      "grid_auto_columns": null,
      "grid_auto_flow": null,
      "grid_auto_rows": null,
      "grid_column": null,
      "grid_gap": null,
      "grid_row": null,
      "grid_template_areas": null,
      "grid_template_columns": null,
      "grid_template_rows": null,
      "height": null,
      "justify_content": null,
      "justify_items": null,
      "left": null,
      "margin": null,
      "max_height": null,
      "max_width": null,
      "min_height": null,
      "min_width": null,
      "object_fit": null,
      "object_position": null,
      "order": null,
      "overflow": null,
      "overflow_x": null,
      "overflow_y": null,
      "padding": null,
      "right": null,
      "top": null,
      "visibility": null,
      "width": null
     }
    },
    "955c1d7339f946a4963d0b662bf07b4d": {
     "model_module": "@jupyter-widgets/controls",
     "model_module_version": "1.5.0",
     "model_name": "HTMLModel",
     "state": {
      "_dom_classes": [],
      "_model_module": "@jupyter-widgets/controls",
      "_model_module_version": "1.5.0",
      "_model_name": "HTMLModel",
      "_view_count": null,
      "_view_module": "@jupyter-widgets/controls",
      "_view_module_version": "1.5.0",
      "_view_name": "HTMLView",
      "description": "",
      "description_tooltip": null,
      "layout": "IPY_MODEL_8c4a16f925774c269eb2d56513ef1e40",
      "placeholder": "​",
      "style": "IPY_MODEL_9fc3d54eff154fcaa813551f5b422696",
      "value": " 70%"
     }
    },
    "994de4b7606641298fe134c15d480f63": {
     "model_module": "@jupyter-widgets/controls",
     "model_module_version": "1.5.0",
     "model_name": "DescriptionStyleModel",
     "state": {
      "_model_module": "@jupyter-widgets/controls",
      "_model_module_version": "1.5.0",
      "_model_name": "DescriptionStyleModel",
      "_view_count": null,
      "_view_module": "@jupyter-widgets/base",
      "_view_module_version": "1.2.0",
      "_view_name": "StyleView",
      "description_width": ""
     }
    },
    "9971320eb12a4d4285b75ab8e79378a7": {
     "model_module": "@jupyter-widgets/controls",
     "model_module_version": "1.5.0",
     "model_name": "HTMLModel",
     "state": {
      "_dom_classes": [],
      "_model_module": "@jupyter-widgets/controls",
      "_model_module_version": "1.5.0",
      "_model_name": "HTMLModel",
      "_view_count": null,
      "_view_module": "@jupyter-widgets/controls",
      "_view_module_version": "1.5.0",
      "_view_name": "HTMLView",
      "description": "",
      "description_tooltip": null,
      "layout": "IPY_MODEL_fbb1461b03b046019a0c1f5f9c99f1a9",
      "placeholder": "​",
      "style": "IPY_MODEL_48c7dacbbcd64549bd1cc0e4e64c1b45",
      "value": " 20/20 [00:01&lt;00:00, 11.05it/s]"
     }
    },
    "9fc3d54eff154fcaa813551f5b422696": {
     "model_module": "@jupyter-widgets/controls",
     "model_module_version": "1.5.0",
     "model_name": "DescriptionStyleModel",
     "state": {
      "_model_module": "@jupyter-widgets/controls",
      "_model_module_version": "1.5.0",
      "_model_name": "DescriptionStyleModel",
      "_view_count": null,
      "_view_module": "@jupyter-widgets/base",
      "_view_module_version": "1.2.0",
      "_view_name": "StyleView",
      "description_width": ""
     }
    },
    "9ff6a9818c5445b697d6effdb2371796": {
     "model_module": "@jupyter-widgets/controls",
     "model_module_version": "1.5.0",
     "model_name": "DescriptionStyleModel",
     "state": {
      "_model_module": "@jupyter-widgets/controls",
      "_model_module_version": "1.5.0",
      "_model_name": "DescriptionStyleModel",
      "_view_count": null,
      "_view_module": "@jupyter-widgets/base",
      "_view_module_version": "1.2.0",
      "_view_name": "StyleView",
      "description_width": ""
     }
    },
    "a5a6c611519e4117ba9f2a66bc60e532": {
     "model_module": "@jupyter-widgets/controls",
     "model_module_version": "1.5.0",
     "model_name": "HTMLModel",
     "state": {
      "_dom_classes": [],
      "_model_module": "@jupyter-widgets/controls",
      "_model_module_version": "1.5.0",
      "_model_name": "HTMLModel",
      "_view_count": null,
      "_view_module": "@jupyter-widgets/controls",
      "_view_module_version": "1.5.0",
      "_view_name": "HTMLView",
      "description": "",
      "description_tooltip": null,
      "layout": "IPY_MODEL_0960f6da38334a778ffe66790738f402",
      "placeholder": "​",
      "style": "IPY_MODEL_994de4b7606641298fe134c15d480f63",
      "value": " 14/20 [02:15&lt;01:09, 11.57s/it]"
     }
    },
    "a6e2f8c31e2e45f5a73bd61db7679da7": {
     "model_module": "@jupyter-widgets/controls",
     "model_module_version": "1.5.0",
     "model_name": "DescriptionStyleModel",
     "state": {
      "_model_module": "@jupyter-widgets/controls",
      "_model_module_version": "1.5.0",
      "_model_name": "DescriptionStyleModel",
      "_view_count": null,
      "_view_module": "@jupyter-widgets/base",
      "_view_module_version": "1.2.0",
      "_view_name": "StyleView",
      "description_width": ""
     }
    },
    "af7d89b7efc3402099eb7de16a4f6afb": {
     "model_module": "@jupyter-widgets/controls",
     "model_module_version": "1.5.0",
     "model_name": "HTMLModel",
     "state": {
      "_dom_classes": [],
      "_model_module": "@jupyter-widgets/controls",
      "_model_module_version": "1.5.0",
      "_model_name": "HTMLModel",
      "_view_count": null,
      "_view_module": "@jupyter-widgets/controls",
      "_view_module_version": "1.5.0",
      "_view_name": "HTMLView",
      "description": "",
      "description_tooltip": null,
      "layout": "IPY_MODEL_c0d06909dd73406ab2a967fa917f9d78",
      "placeholder": "​",
      "style": "IPY_MODEL_c8eede6953ba46a687af79f92fd490ff",
      "value": " 60%"
     }
    },
    "b06c4e5e95cc4fc1b4f556ae92b8d78e": {
     "model_module": "@jupyter-widgets/base",
     "model_module_version": "1.2.0",
     "model_name": "LayoutModel",
     "state": {
      "_model_module": "@jupyter-widgets/base",
      "_model_module_version": "1.2.0",
      "_model_name": "LayoutModel",
      "_view_count": null,
      "_view_module": "@jupyter-widgets/base",
      "_view_module_version": "1.2.0",
      "_view_name": "LayoutView",
      "align_content": null,
      "align_items": null,
      "align_self": null,
      "border": null,
      "bottom": null,
      "display": null,
      "flex": null,
      "flex_flow": null,
      "grid_area": null,
      "grid_auto_columns": null,
      "grid_auto_flow": null,
      "grid_auto_rows": null,
      "grid_column": null,
      "grid_gap": null,
      "grid_row": null,
      "grid_template_areas": null,
      "grid_template_columns": null,
      "grid_template_rows": null,
      "height": null,
      "justify_content": null,
      "justify_items": null,
      "left": null,
      "margin": null,
      "max_height": null,
      "max_width": null,
      "min_height": null,
      "min_width": null,
      "object_fit": null,
      "object_position": null,
      "order": null,
      "overflow": null,
      "overflow_x": null,
      "overflow_y": null,
      "padding": null,
      "right": null,
      "top": null,
      "visibility": null,
      "width": null
     }
    },
    "b5d865fba4ec439eb25154dce2cab833": {
     "model_module": "@jupyter-widgets/base",
     "model_module_version": "1.2.0",
     "model_name": "LayoutModel",
     "state": {
      "_model_module": "@jupyter-widgets/base",
      "_model_module_version": "1.2.0",
      "_model_name": "LayoutModel",
      "_view_count": null,
      "_view_module": "@jupyter-widgets/base",
      "_view_module_version": "1.2.0",
      "_view_name": "LayoutView",
      "align_content": null,
      "align_items": null,
      "align_self": null,
      "border": null,
      "bottom": null,
      "display": null,
      "flex": null,
      "flex_flow": null,
      "grid_area": null,
      "grid_auto_columns": null,
      "grid_auto_flow": null,
      "grid_auto_rows": null,
      "grid_column": null,
      "grid_gap": null,
      "grid_row": null,
      "grid_template_areas": null,
      "grid_template_columns": null,
      "grid_template_rows": null,
      "height": null,
      "justify_content": null,
      "justify_items": null,
      "left": null,
      "margin": null,
      "max_height": null,
      "max_width": null,
      "min_height": null,
      "min_width": null,
      "object_fit": null,
      "object_position": null,
      "order": null,
      "overflow": null,
      "overflow_x": null,
      "overflow_y": null,
      "padding": null,
      "right": null,
      "top": null,
      "visibility": null,
      "width": null
     }
    },
    "b73c2649c9bd43a9bda3196f473b018f": {
     "model_module": "@jupyter-widgets/controls",
     "model_module_version": "1.5.0",
     "model_name": "HTMLModel",
     "state": {
      "_dom_classes": [],
      "_model_module": "@jupyter-widgets/controls",
      "_model_module_version": "1.5.0",
      "_model_name": "HTMLModel",
      "_view_count": null,
      "_view_module": "@jupyter-widgets/controls",
      "_view_module_version": "1.5.0",
      "_view_name": "HTMLView",
      "description": "",
      "description_tooltip": null,
      "layout": "IPY_MODEL_de627b3ca295447e908127eefd71f219",
      "placeholder": "​",
      "style": "IPY_MODEL_4cecee8d13c94a17b8e07868b4267af9",
      "value": " 20/20 [00:01&lt;00:00, 11.16it/s]"
     }
    },
    "bee5d25f573b44c38abbe5da90054c15": {
     "model_module": "@jupyter-widgets/controls",
     "model_module_version": "1.5.0",
     "model_name": "HTMLModel",
     "state": {
      "_dom_classes": [],
      "_model_module": "@jupyter-widgets/controls",
      "_model_module_version": "1.5.0",
      "_model_name": "HTMLModel",
      "_view_count": null,
      "_view_module": "@jupyter-widgets/controls",
      "_view_module_version": "1.5.0",
      "_view_name": "HTMLView",
      "description": "",
      "description_tooltip": null,
      "layout": "IPY_MODEL_b5d865fba4ec439eb25154dce2cab833",
      "placeholder": "​",
      "style": "IPY_MODEL_c31dece26bc64d1083e6ddcf3f641681",
      "value": " 20/20 [00:18&lt;00:00,  1.26it/s]"
     }
    },
    "c0d06909dd73406ab2a967fa917f9d78": {
     "model_module": "@jupyter-widgets/base",
     "model_module_version": "1.2.0",
     "model_name": "LayoutModel",
     "state": {
      "_model_module": "@jupyter-widgets/base",
      "_model_module_version": "1.2.0",
      "_model_name": "LayoutModel",
      "_view_count": null,
      "_view_module": "@jupyter-widgets/base",
      "_view_module_version": "1.2.0",
      "_view_name": "LayoutView",
      "align_content": null,
      "align_items": null,
      "align_self": null,
      "border": null,
      "bottom": null,
      "display": null,
      "flex": null,
      "flex_flow": null,
      "grid_area": null,
      "grid_auto_columns": null,
      "grid_auto_flow": null,
      "grid_auto_rows": null,
      "grid_column": null,
      "grid_gap": null,
      "grid_row": null,
      "grid_template_areas": null,
      "grid_template_columns": null,
      "grid_template_rows": null,
      "height": null,
      "justify_content": null,
      "justify_items": null,
      "left": null,
      "margin": null,
      "max_height": null,
      "max_width": null,
      "min_height": null,
      "min_width": null,
      "object_fit": null,
      "object_position": null,
      "order": null,
      "overflow": null,
      "overflow_x": null,
      "overflow_y": null,
      "padding": null,
      "right": null,
      "top": null,
      "visibility": null,
      "width": null
     }
    },
    "c31dece26bc64d1083e6ddcf3f641681": {
     "model_module": "@jupyter-widgets/controls",
     "model_module_version": "1.5.0",
     "model_name": "DescriptionStyleModel",
     "state": {
      "_model_module": "@jupyter-widgets/controls",
      "_model_module_version": "1.5.0",
      "_model_name": "DescriptionStyleModel",
      "_view_count": null,
      "_view_module": "@jupyter-widgets/base",
      "_view_module_version": "1.2.0",
      "_view_name": "StyleView",
      "description_width": ""
     }
    },
    "c60ab272fc154eaab4699393d45343ba": {
     "model_module": "@jupyter-widgets/base",
     "model_module_version": "1.2.0",
     "model_name": "LayoutModel",
     "state": {
      "_model_module": "@jupyter-widgets/base",
      "_model_module_version": "1.2.0",
      "_model_name": "LayoutModel",
      "_view_count": null,
      "_view_module": "@jupyter-widgets/base",
      "_view_module_version": "1.2.0",
      "_view_name": "LayoutView",
      "align_content": null,
      "align_items": null,
      "align_self": null,
      "border": null,
      "bottom": null,
      "display": null,
      "flex": null,
      "flex_flow": null,
      "grid_area": null,
      "grid_auto_columns": null,
      "grid_auto_flow": null,
      "grid_auto_rows": null,
      "grid_column": null,
      "grid_gap": null,
      "grid_row": null,
      "grid_template_areas": null,
      "grid_template_columns": null,
      "grid_template_rows": null,
      "height": null,
      "justify_content": null,
      "justify_items": null,
      "left": null,
      "margin": null,
      "max_height": null,
      "max_width": null,
      "min_height": null,
      "min_width": null,
      "object_fit": null,
      "object_position": null,
      "order": null,
      "overflow": null,
      "overflow_x": null,
      "overflow_y": null,
      "padding": null,
      "right": null,
      "top": null,
      "visibility": null,
      "width": null
     }
    },
    "c8eede6953ba46a687af79f92fd490ff": {
     "model_module": "@jupyter-widgets/controls",
     "model_module_version": "1.5.0",
     "model_name": "DescriptionStyleModel",
     "state": {
      "_model_module": "@jupyter-widgets/controls",
      "_model_module_version": "1.5.0",
      "_model_name": "DescriptionStyleModel",
      "_view_count": null,
      "_view_module": "@jupyter-widgets/base",
      "_view_module_version": "1.2.0",
      "_view_name": "StyleView",
      "description_width": ""
     }
    },
    "c9049392486c443dbca018c1268809a0": {
     "model_module": "@jupyter-widgets/base",
     "model_module_version": "1.2.0",
     "model_name": "LayoutModel",
     "state": {
      "_model_module": "@jupyter-widgets/base",
      "_model_module_version": "1.2.0",
      "_model_name": "LayoutModel",
      "_view_count": null,
      "_view_module": "@jupyter-widgets/base",
      "_view_module_version": "1.2.0",
      "_view_name": "LayoutView",
      "align_content": null,
      "align_items": null,
      "align_self": null,
      "border": null,
      "bottom": null,
      "display": null,
      "flex": null,
      "flex_flow": null,
      "grid_area": null,
      "grid_auto_columns": null,
      "grid_auto_flow": null,
      "grid_auto_rows": null,
      "grid_column": null,
      "grid_gap": null,
      "grid_row": null,
      "grid_template_areas": null,
      "grid_template_columns": null,
      "grid_template_rows": null,
      "height": null,
      "justify_content": null,
      "justify_items": null,
      "left": null,
      "margin": null,
      "max_height": null,
      "max_width": null,
      "min_height": null,
      "min_width": null,
      "object_fit": null,
      "object_position": null,
      "order": null,
      "overflow": null,
      "overflow_x": null,
      "overflow_y": null,
      "padding": null,
      "right": null,
      "top": null,
      "visibility": null,
      "width": null
     }
    },
    "cb420479b9d243edaabcfdd3148ae79c": {
     "model_module": "@jupyter-widgets/controls",
     "model_module_version": "1.5.0",
     "model_name": "FloatProgressModel",
     "state": {
      "_dom_classes": [],
      "_model_module": "@jupyter-widgets/controls",
      "_model_module_version": "1.5.0",
      "_model_name": "FloatProgressModel",
      "_view_count": null,
      "_view_module": "@jupyter-widgets/controls",
      "_view_module_version": "1.5.0",
      "_view_name": "ProgressView",
      "bar_style": "danger",
      "description": "",
      "description_tooltip": null,
      "layout": "IPY_MODEL_6b96ebe1f7fe41378c63cef7763e039b",
      "max": 20,
      "min": 0,
      "orientation": "horizontal",
      "style": "IPY_MODEL_f099c7140dab4f02b1f662f2471e5b79",
      "value": 12
     }
    },
    "cfcd8055353c4626b3ac88996e16bb8e": {
     "model_module": "@jupyter-widgets/controls",
     "model_module_version": "1.5.0",
     "model_name": "HTMLModel",
     "state": {
      "_dom_classes": [],
      "_model_module": "@jupyter-widgets/controls",
      "_model_module_version": "1.5.0",
      "_model_name": "HTMLModel",
      "_view_count": null,
      "_view_module": "@jupyter-widgets/controls",
      "_view_module_version": "1.5.0",
      "_view_name": "HTMLView",
      "description": "",
      "description_tooltip": null,
      "layout": "IPY_MODEL_224461a81326463cbe06d39e74f52f63",
      "placeholder": "​",
      "style": "IPY_MODEL_804784236cdb4f66814b28d2f198a982",
      "value": " 12/20 [01:41&lt;01:34, 11.77s/it]"
     }
    },
    "d033b184819a4ddbb0fc693041af3c18": {
     "model_module": "@jupyter-widgets/controls",
     "model_module_version": "1.5.0",
     "model_name": "DescriptionStyleModel",
     "state": {
      "_model_module": "@jupyter-widgets/controls",
      "_model_module_version": "1.5.0",
      "_model_name": "DescriptionStyleModel",
      "_view_count": null,
      "_view_module": "@jupyter-widgets/base",
      "_view_module_version": "1.2.0",
      "_view_name": "StyleView",
      "description_width": ""
     }
    },
    "d0bcdc327c8d4605a8624c8687ef29e1": {
     "model_module": "@jupyter-widgets/controls",
     "model_module_version": "1.5.0",
     "model_name": "ProgressStyleModel",
     "state": {
      "_model_module": "@jupyter-widgets/controls",
      "_model_module_version": "1.5.0",
      "_model_name": "ProgressStyleModel",
      "_view_count": null,
      "_view_module": "@jupyter-widgets/base",
      "_view_module_version": "1.2.0",
      "_view_name": "StyleView",
      "bar_color": null,
      "description_width": ""
     }
    },
    "d2b917c25bc64efa9cfacdb751da7dea": {
     "model_module": "@jupyter-widgets/base",
     "model_module_version": "1.2.0",
     "model_name": "LayoutModel",
     "state": {
      "_model_module": "@jupyter-widgets/base",
      "_model_module_version": "1.2.0",
      "_model_name": "LayoutModel",
      "_view_count": null,
      "_view_module": "@jupyter-widgets/base",
      "_view_module_version": "1.2.0",
      "_view_name": "LayoutView",
      "align_content": null,
      "align_items": null,
      "align_self": null,
      "border": null,
      "bottom": null,
      "display": null,
      "flex": null,
      "flex_flow": null,
      "grid_area": null,
      "grid_auto_columns": null,
      "grid_auto_flow": null,
      "grid_auto_rows": null,
      "grid_column": null,
      "grid_gap": null,
      "grid_row": null,
      "grid_template_areas": null,
      "grid_template_columns": null,
      "grid_template_rows": null,
      "height": null,
      "justify_content": null,
      "justify_items": null,
      "left": null,
      "margin": null,
      "max_height": null,
      "max_width": null,
      "min_height": null,
      "min_width": null,
      "object_fit": null,
      "object_position": null,
      "order": null,
      "overflow": null,
      "overflow_x": null,
      "overflow_y": null,
      "padding": null,
      "right": null,
      "top": null,
      "visibility": null,
      "width": null
     }
    },
    "d31a566e6d484d3492e186dbe0030a36": {
     "model_module": "@jupyter-widgets/controls",
     "model_module_version": "1.5.0",
     "model_name": "FloatProgressModel",
     "state": {
      "_dom_classes": [],
      "_model_module": "@jupyter-widgets/controls",
      "_model_module_version": "1.5.0",
      "_model_name": "FloatProgressModel",
      "_view_count": null,
      "_view_module": "@jupyter-widgets/controls",
      "_view_module_version": "1.5.0",
      "_view_name": "ProgressView",
      "bar_style": "success",
      "description": "",
      "description_tooltip": null,
      "layout": "IPY_MODEL_e7710100e7be47e58e54b0fe16feb3f2",
      "max": 20,
      "min": 0,
      "orientation": "horizontal",
      "style": "IPY_MODEL_e05115b4f60242f695701d4fb2431849",
      "value": 20
     }
    },
    "d62a785deaf846f1a591b2aef6020e6f": {
     "model_module": "@jupyter-widgets/controls",
     "model_module_version": "1.5.0",
     "model_name": "DescriptionStyleModel",
     "state": {
      "_model_module": "@jupyter-widgets/controls",
      "_model_module_version": "1.5.0",
      "_model_name": "DescriptionStyleModel",
      "_view_count": null,
      "_view_module": "@jupyter-widgets/base",
      "_view_module_version": "1.2.0",
      "_view_name": "StyleView",
      "description_width": ""
     }
    },
    "d8b31caca697431aa9f9caa977ba5250": {
     "model_module": "@jupyter-widgets/controls",
     "model_module_version": "1.5.0",
     "model_name": "DescriptionStyleModel",
     "state": {
      "_model_module": "@jupyter-widgets/controls",
      "_model_module_version": "1.5.0",
      "_model_name": "DescriptionStyleModel",
      "_view_count": null,
      "_view_module": "@jupyter-widgets/base",
      "_view_module_version": "1.2.0",
      "_view_name": "StyleView",
      "description_width": ""
     }
    },
    "d9cbadf6979c4f2c99d5f1f954ef243a": {
     "model_module": "@jupyter-widgets/controls",
     "model_module_version": "1.5.0",
     "model_name": "ProgressStyleModel",
     "state": {
      "_model_module": "@jupyter-widgets/controls",
      "_model_module_version": "1.5.0",
      "_model_name": "ProgressStyleModel",
      "_view_count": null,
      "_view_module": "@jupyter-widgets/base",
      "_view_module_version": "1.2.0",
      "_view_name": "StyleView",
      "bar_color": null,
      "description_width": ""
     }
    },
    "de21f6084f9f4289bb2aa83a8c70334a": {
     "model_module": "@jupyter-widgets/base",
     "model_module_version": "1.2.0",
     "model_name": "LayoutModel",
     "state": {
      "_model_module": "@jupyter-widgets/base",
      "_model_module_version": "1.2.0",
      "_model_name": "LayoutModel",
      "_view_count": null,
      "_view_module": "@jupyter-widgets/base",
      "_view_module_version": "1.2.0",
      "_view_name": "LayoutView",
      "align_content": null,
      "align_items": null,
      "align_self": null,
      "border": null,
      "bottom": null,
      "display": null,
      "flex": null,
      "flex_flow": null,
      "grid_area": null,
      "grid_auto_columns": null,
      "grid_auto_flow": null,
      "grid_auto_rows": null,
      "grid_column": null,
      "grid_gap": null,
      "grid_row": null,
      "grid_template_areas": null,
      "grid_template_columns": null,
      "grid_template_rows": null,
      "height": null,
      "justify_content": null,
      "justify_items": null,
      "left": null,
      "margin": null,
      "max_height": null,
      "max_width": null,
      "min_height": null,
      "min_width": null,
      "object_fit": null,
      "object_position": null,
      "order": null,
      "overflow": null,
      "overflow_x": null,
      "overflow_y": null,
      "padding": null,
      "right": null,
      "top": null,
      "visibility": null,
      "width": null
     }
    },
    "de627b3ca295447e908127eefd71f219": {
     "model_module": "@jupyter-widgets/base",
     "model_module_version": "1.2.0",
     "model_name": "LayoutModel",
     "state": {
      "_model_module": "@jupyter-widgets/base",
      "_model_module_version": "1.2.0",
      "_model_name": "LayoutModel",
      "_view_count": null,
      "_view_module": "@jupyter-widgets/base",
      "_view_module_version": "1.2.0",
      "_view_name": "LayoutView",
      "align_content": null,
      "align_items": null,
      "align_self": null,
      "border": null,
      "bottom": null,
      "display": null,
      "flex": null,
      "flex_flow": null,
      "grid_area": null,
      "grid_auto_columns": null,
      "grid_auto_flow": null,
      "grid_auto_rows": null,
      "grid_column": null,
      "grid_gap": null,
      "grid_row": null,
      "grid_template_areas": null,
      "grid_template_columns": null,
      "grid_template_rows": null,
      "height": null,
      "justify_content": null,
      "justify_items": null,
      "left": null,
      "margin": null,
      "max_height": null,
      "max_width": null,
      "min_height": null,
      "min_width": null,
      "object_fit": null,
      "object_position": null,
      "order": null,
      "overflow": null,
      "overflow_x": null,
      "overflow_y": null,
      "padding": null,
      "right": null,
      "top": null,
      "visibility": null,
      "width": null
     }
    },
    "df266d38de8a454293f01d7eddaa581e": {
     "model_module": "@jupyter-widgets/controls",
     "model_module_version": "1.5.0",
     "model_name": "HTMLModel",
     "state": {
      "_dom_classes": [],
      "_model_module": "@jupyter-widgets/controls",
      "_model_module_version": "1.5.0",
      "_model_name": "HTMLModel",
      "_view_count": null,
      "_view_module": "@jupyter-widgets/controls",
      "_view_module_version": "1.5.0",
      "_view_name": "HTMLView",
      "description": "",
      "description_tooltip": null,
      "layout": "IPY_MODEL_72ef6ceba0184ff4bec5ea5950258ef0",
      "placeholder": "​",
      "style": "IPY_MODEL_e957b9f4b4094945823439c3b3af9d55",
      "value": " 50%"
     }
    },
    "e05115b4f60242f695701d4fb2431849": {
     "model_module": "@jupyter-widgets/controls",
     "model_module_version": "1.5.0",
     "model_name": "ProgressStyleModel",
     "state": {
      "_model_module": "@jupyter-widgets/controls",
      "_model_module_version": "1.5.0",
      "_model_name": "ProgressStyleModel",
      "_view_count": null,
      "_view_module": "@jupyter-widgets/base",
      "_view_module_version": "1.2.0",
      "_view_name": "StyleView",
      "bar_color": null,
      "description_width": ""
     }
    },
    "e0a56ff4326c40b9a84cdef2a5504cbc": {
     "model_module": "@jupyter-widgets/controls",
     "model_module_version": "1.5.0",
     "model_name": "HTMLModel",
     "state": {
      "_dom_classes": [],
      "_model_module": "@jupyter-widgets/controls",
      "_model_module_version": "1.5.0",
      "_model_name": "HTMLModel",
      "_view_count": null,
      "_view_module": "@jupyter-widgets/controls",
      "_view_module_version": "1.5.0",
      "_view_name": "HTMLView",
      "description": "",
      "description_tooltip": null,
      "layout": "IPY_MODEL_13ea3d5129ad4b00bf5eb5006da36e6f",
      "placeholder": "​",
      "style": "IPY_MODEL_a6e2f8c31e2e45f5a73bd61db7679da7",
      "value": "100%"
     }
    },
    "e693b92397394581b757dd1eef0653c3": {
     "model_module": "@jupyter-widgets/controls",
     "model_module_version": "1.5.0",
     "model_name": "HTMLModel",
     "state": {
      "_dom_classes": [],
      "_model_module": "@jupyter-widgets/controls",
      "_model_module_version": "1.5.0",
      "_model_name": "HTMLModel",
      "_view_count": null,
      "_view_module": "@jupyter-widgets/controls",
      "_view_module_version": "1.5.0",
      "_view_name": "HTMLView",
      "description": "",
      "description_tooltip": null,
      "layout": "IPY_MODEL_93bdae1cc38a489ebc24a424c3de8c43",
      "placeholder": "​",
      "style": "IPY_MODEL_9ff6a9818c5445b697d6effdb2371796",
      "value": "100%"
     }
    },
    "e7710100e7be47e58e54b0fe16feb3f2": {
     "model_module": "@jupyter-widgets/base",
     "model_module_version": "1.2.0",
     "model_name": "LayoutModel",
     "state": {
      "_model_module": "@jupyter-widgets/base",
      "_model_module_version": "1.2.0",
      "_model_name": "LayoutModel",
      "_view_count": null,
      "_view_module": "@jupyter-widgets/base",
      "_view_module_version": "1.2.0",
      "_view_name": "LayoutView",
      "align_content": null,
      "align_items": null,
      "align_self": null,
      "border": null,
      "bottom": null,
      "display": null,
      "flex": null,
      "flex_flow": null,
      "grid_area": null,
      "grid_auto_columns": null,
      "grid_auto_flow": null,
      "grid_auto_rows": null,
      "grid_column": null,
      "grid_gap": null,
      "grid_row": null,
      "grid_template_areas": null,
      "grid_template_columns": null,
      "grid_template_rows": null,
      "height": null,
      "justify_content": null,
      "justify_items": null,
      "left": null,
      "margin": null,
      "max_height": null,
      "max_width": null,
      "min_height": null,
      "min_width": null,
      "object_fit": null,
      "object_position": null,
      "order": null,
      "overflow": null,
      "overflow_x": null,
      "overflow_y": null,
      "padding": null,
      "right": null,
      "top": null,
      "visibility": null,
      "width": null
     }
    },
    "e957b9f4b4094945823439c3b3af9d55": {
     "model_module": "@jupyter-widgets/controls",
     "model_module_version": "1.5.0",
     "model_name": "DescriptionStyleModel",
     "state": {
      "_model_module": "@jupyter-widgets/controls",
      "_model_module_version": "1.5.0",
      "_model_name": "DescriptionStyleModel",
      "_view_count": null,
      "_view_module": "@jupyter-widgets/base",
      "_view_module_version": "1.2.0",
      "_view_name": "StyleView",
      "description_width": ""
     }
    },
    "ea48d020055442d4afd245b5eb515410": {
     "model_module": "@jupyter-widgets/controls",
     "model_module_version": "1.5.0",
     "model_name": "HBoxModel",
     "state": {
      "_dom_classes": [],
      "_model_module": "@jupyter-widgets/controls",
      "_model_module_version": "1.5.0",
      "_model_name": "HBoxModel",
      "_view_count": null,
      "_view_module": "@jupyter-widgets/controls",
      "_view_module_version": "1.5.0",
      "_view_name": "HBoxView",
      "box_style": "",
      "children": [
       "IPY_MODEL_ebfc32d6409c499fbd0e258b3dcfd148",
       "IPY_MODEL_76592c2856de45b98219efea5f8a1bfe",
       "IPY_MODEL_b73c2649c9bd43a9bda3196f473b018f"
      ],
      "layout": "IPY_MODEL_754cbc461ccc478191f7461bd24159e0"
     }
    },
    "ebfc32d6409c499fbd0e258b3dcfd148": {
     "model_module": "@jupyter-widgets/controls",
     "model_module_version": "1.5.0",
     "model_name": "HTMLModel",
     "state": {
      "_dom_classes": [],
      "_model_module": "@jupyter-widgets/controls",
      "_model_module_version": "1.5.0",
      "_model_name": "HTMLModel",
      "_view_count": null,
      "_view_module": "@jupyter-widgets/controls",
      "_view_module_version": "1.5.0",
      "_view_name": "HTMLView",
      "description": "",
      "description_tooltip": null,
      "layout": "IPY_MODEL_48761c2046684c5a83ad6566ce914061",
      "placeholder": "​",
      "style": "IPY_MODEL_0afd8d89d3d549dab67648e96e5673e3",
      "value": "100%"
     }
    },
    "f099c7140dab4f02b1f662f2471e5b79": {
     "model_module": "@jupyter-widgets/controls",
     "model_module_version": "1.5.0",
     "model_name": "ProgressStyleModel",
     "state": {
      "_model_module": "@jupyter-widgets/controls",
      "_model_module_version": "1.5.0",
      "_model_name": "ProgressStyleModel",
      "_view_count": null,
      "_view_module": "@jupyter-widgets/base",
      "_view_module_version": "1.2.0",
      "_view_name": "StyleView",
      "bar_color": null,
      "description_width": ""
     }
    },
    "f2b80c6125214fca86b5bf0aa0eb5b5e": {
     "model_module": "@jupyter-widgets/base",
     "model_module_version": "1.2.0",
     "model_name": "LayoutModel",
     "state": {
      "_model_module": "@jupyter-widgets/base",
      "_model_module_version": "1.2.0",
      "_model_name": "LayoutModel",
      "_view_count": null,
      "_view_module": "@jupyter-widgets/base",
      "_view_module_version": "1.2.0",
      "_view_name": "LayoutView",
      "align_content": null,
      "align_items": null,
      "align_self": null,
      "border": null,
      "bottom": null,
      "display": null,
      "flex": null,
      "flex_flow": null,
      "grid_area": null,
      "grid_auto_columns": null,
      "grid_auto_flow": null,
      "grid_auto_rows": null,
      "grid_column": null,
      "grid_gap": null,
      "grid_row": null,
      "grid_template_areas": null,
      "grid_template_columns": null,
      "grid_template_rows": null,
      "height": null,
      "justify_content": null,
      "justify_items": null,
      "left": null,
      "margin": null,
      "max_height": null,
      "max_width": null,
      "min_height": null,
      "min_width": null,
      "object_fit": null,
      "object_position": null,
      "order": null,
      "overflow": null,
      "overflow_x": null,
      "overflow_y": null,
      "padding": null,
      "right": null,
      "top": null,
      "visibility": null,
      "width": null
     }
    },
    "f542a37f5a0e48b283c22c781a3afd66": {
     "model_module": "@jupyter-widgets/base",
     "model_module_version": "1.2.0",
     "model_name": "LayoutModel",
     "state": {
      "_model_module": "@jupyter-widgets/base",
      "_model_module_version": "1.2.0",
      "_model_name": "LayoutModel",
      "_view_count": null,
      "_view_module": "@jupyter-widgets/base",
      "_view_module_version": "1.2.0",
      "_view_name": "LayoutView",
      "align_content": null,
      "align_items": null,
      "align_self": null,
      "border": null,
      "bottom": null,
      "display": null,
      "flex": null,
      "flex_flow": null,
      "grid_area": null,
      "grid_auto_columns": null,
      "grid_auto_flow": null,
      "grid_auto_rows": null,
      "grid_column": null,
      "grid_gap": null,
      "grid_row": null,
      "grid_template_areas": null,
      "grid_template_columns": null,
      "grid_template_rows": null,
      "height": null,
      "justify_content": null,
      "justify_items": null,
      "left": null,
      "margin": null,
      "max_height": null,
      "max_width": null,
      "min_height": null,
      "min_width": null,
      "object_fit": null,
      "object_position": null,
      "order": null,
      "overflow": null,
      "overflow_x": null,
      "overflow_y": null,
      "padding": null,
      "right": null,
      "top": null,
      "visibility": null,
      "width": null
     }
    },
    "f5e8345c4233486fad660ca4bc3347f1": {
     "model_module": "@jupyter-widgets/controls",
     "model_module_version": "1.5.0",
     "model_name": "HTMLModel",
     "state": {
      "_dom_classes": [],
      "_model_module": "@jupyter-widgets/controls",
      "_model_module_version": "1.5.0",
      "_model_name": "HTMLModel",
      "_view_count": null,
      "_view_module": "@jupyter-widgets/controls",
      "_view_module_version": "1.5.0",
      "_view_name": "HTMLView",
      "description": "",
      "description_tooltip": null,
      "layout": "IPY_MODEL_23d720a765084003b2fb83c1f355c2db",
      "placeholder": "​",
      "style": "IPY_MODEL_53546ef8575c4060bad7646da73211ac",
      "value": " 20/20 [00:13&lt;00:00,  1.73it/s]"
     }
    },
    "f76f214219664e0d990118bd734521ff": {
     "model_module": "@jupyter-widgets/controls",
     "model_module_version": "1.5.0",
     "model_name": "FloatProgressModel",
     "state": {
      "_dom_classes": [],
      "_model_module": "@jupyter-widgets/controls",
      "_model_module_version": "1.5.0",
      "_model_name": "FloatProgressModel",
      "_view_count": null,
      "_view_module": "@jupyter-widgets/controls",
      "_view_module_version": "1.5.0",
      "_view_name": "ProgressView",
      "bar_style": "success",
      "description": "",
      "description_tooltip": null,
      "layout": "IPY_MODEL_04824f0881d5450f8621b74bbb187685",
      "max": 20,
      "min": 0,
      "orientation": "horizontal",
      "style": "IPY_MODEL_d9cbadf6979c4f2c99d5f1f954ef243a",
      "value": 20
     }
    },
    "fbb1461b03b046019a0c1f5f9c99f1a9": {
     "model_module": "@jupyter-widgets/base",
     "model_module_version": "1.2.0",
     "model_name": "LayoutModel",
     "state": {
      "_model_module": "@jupyter-widgets/base",
      "_model_module_version": "1.2.0",
      "_model_name": "LayoutModel",
      "_view_count": null,
      "_view_module": "@jupyter-widgets/base",
      "_view_module_version": "1.2.0",
      "_view_name": "LayoutView",
      "align_content": null,
      "align_items": null,
      "align_self": null,
      "border": null,
      "bottom": null,
      "display": null,
      "flex": null,
      "flex_flow": null,
      "grid_area": null,
      "grid_auto_columns": null,
      "grid_auto_flow": null,
      "grid_auto_rows": null,
      "grid_column": null,
      "grid_gap": null,
      "grid_row": null,
      "grid_template_areas": null,
      "grid_template_columns": null,
      "grid_template_rows": null,
      "height": null,
      "justify_content": null,
      "justify_items": null,
      "left": null,
      "margin": null,
      "max_height": null,
      "max_width": null,
      "min_height": null,
      "min_width": null,
      "object_fit": null,
      "object_position": null,
      "order": null,
      "overflow": null,
      "overflow_x": null,
      "overflow_y": null,
      "padding": null,
      "right": null,
      "top": null,
      "visibility": null,
      "width": null
     }
    },
    "ff771a374e9c4e7b8eeaec9ccecb9c0c": {
     "model_module": "@jupyter-widgets/controls",
     "model_module_version": "1.5.0",
     "model_name": "HTMLModel",
     "state": {
      "_dom_classes": [],
      "_model_module": "@jupyter-widgets/controls",
      "_model_module_version": "1.5.0",
      "_model_name": "HTMLModel",
      "_view_count": null,
      "_view_module": "@jupyter-widgets/controls",
      "_view_module_version": "1.5.0",
      "_view_name": "HTMLView",
      "description": "",
      "description_tooltip": null,
      "layout": "IPY_MODEL_c60ab272fc154eaab4699393d45343ba",
      "placeholder": "​",
      "style": "IPY_MODEL_0369e68ab1ec4d37ae16abe1118c15a9",
      "value": " 20/20 [00:14&lt;00:00,  1.19it/s]"
     }
    }
   }
  }
 },
 "nbformat": 4,
 "nbformat_minor": 4
}
